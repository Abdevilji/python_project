{
  "nbformat": 4,
  "nbformat_minor": 0,
  "metadata": {
    "colab": {
      "provenance": [],
      "include_colab_link": true
    },
    "kernelspec": {
      "name": "python3",
      "display_name": "Python 3"
    },
    "language_info": {
      "name": "python"
    },
    "widgets": {
      "application/vnd.jupyter.widget-state+json": {
        "b4bef6d3d9f043268e39790c6f8ee901": {
          "model_module": "@jupyter-widgets/controls",
          "model_name": "HBoxModel",
          "model_module_version": "1.5.0",
          "state": {
            "_dom_classes": [],
            "_model_module": "@jupyter-widgets/controls",
            "_model_module_version": "1.5.0",
            "_model_name": "HBoxModel",
            "_view_count": null,
            "_view_module": "@jupyter-widgets/controls",
            "_view_module_version": "1.5.0",
            "_view_name": "HBoxView",
            "box_style": "",
            "children": [
              "IPY_MODEL_e19fe8e0cc754c42801e25a44b5309b1",
              "IPY_MODEL_85780ad324cc4086aef5efe7b0dd7cac",
              "IPY_MODEL_46cbd73e00e442e2a2e830b97e83a3c3"
            ],
            "layout": "IPY_MODEL_6e4dea74f0254220a2a1e41d16758fcd"
          }
        },
        "e19fe8e0cc754c42801e25a44b5309b1": {
          "model_module": "@jupyter-widgets/controls",
          "model_name": "HTMLModel",
          "model_module_version": "1.5.0",
          "state": {
            "_dom_classes": [],
            "_model_module": "@jupyter-widgets/controls",
            "_model_module_version": "1.5.0",
            "_model_name": "HTMLModel",
            "_view_count": null,
            "_view_module": "@jupyter-widgets/controls",
            "_view_module_version": "1.5.0",
            "_view_name": "HTMLView",
            "description": "",
            "description_tooltip": null,
            "layout": "IPY_MODEL_66218d331f85409ba631a0f02c602e67",
            "placeholder": "​",
            "style": "IPY_MODEL_0d8f570713fb4a6ebc0babf3fc31da4a",
            "value": "Downloading builder script: 100%"
          }
        },
        "85780ad324cc4086aef5efe7b0dd7cac": {
          "model_module": "@jupyter-widgets/controls",
          "model_name": "FloatProgressModel",
          "model_module_version": "1.5.0",
          "state": {
            "_dom_classes": [],
            "_model_module": "@jupyter-widgets/controls",
            "_model_module_version": "1.5.0",
            "_model_name": "FloatProgressModel",
            "_view_count": null,
            "_view_module": "@jupyter-widgets/controls",
            "_view_module_version": "1.5.0",
            "_view_name": "ProgressView",
            "bar_style": "success",
            "description": "",
            "description_tooltip": null,
            "layout": "IPY_MODEL_f0d6de53610e43319ec01d77867f211d",
            "max": 36699,
            "min": 0,
            "orientation": "horizontal",
            "style": "IPY_MODEL_cb0fbfa81998496f973fd6ed787b6ead",
            "value": 36699
          }
        },
        "46cbd73e00e442e2a2e830b97e83a3c3": {
          "model_module": "@jupyter-widgets/controls",
          "model_name": "HTMLModel",
          "model_module_version": "1.5.0",
          "state": {
            "_dom_classes": [],
            "_model_module": "@jupyter-widgets/controls",
            "_model_module_version": "1.5.0",
            "_model_name": "HTMLModel",
            "_view_count": null,
            "_view_module": "@jupyter-widgets/controls",
            "_view_module_version": "1.5.0",
            "_view_name": "HTMLView",
            "description": "",
            "description_tooltip": null,
            "layout": "IPY_MODEL_d2768aa0929b4ac3a76be223a9bd66ad",
            "placeholder": "​",
            "style": "IPY_MODEL_da014a2f9854492ba7f36eab1c7c407f",
            "value": " 36.7k/36.7k [00:00&lt;00:00, 1.11MB/s]"
          }
        },
        "6e4dea74f0254220a2a1e41d16758fcd": {
          "model_module": "@jupyter-widgets/base",
          "model_name": "LayoutModel",
          "model_module_version": "1.2.0",
          "state": {
            "_model_module": "@jupyter-widgets/base",
            "_model_module_version": "1.2.0",
            "_model_name": "LayoutModel",
            "_view_count": null,
            "_view_module": "@jupyter-widgets/base",
            "_view_module_version": "1.2.0",
            "_view_name": "LayoutView",
            "align_content": null,
            "align_items": null,
            "align_self": null,
            "border": null,
            "bottom": null,
            "display": null,
            "flex": null,
            "flex_flow": null,
            "grid_area": null,
            "grid_auto_columns": null,
            "grid_auto_flow": null,
            "grid_auto_rows": null,
            "grid_column": null,
            "grid_gap": null,
            "grid_row": null,
            "grid_template_areas": null,
            "grid_template_columns": null,
            "grid_template_rows": null,
            "height": null,
            "justify_content": null,
            "justify_items": null,
            "left": null,
            "margin": null,
            "max_height": null,
            "max_width": null,
            "min_height": null,
            "min_width": null,
            "object_fit": null,
            "object_position": null,
            "order": null,
            "overflow": null,
            "overflow_x": null,
            "overflow_y": null,
            "padding": null,
            "right": null,
            "top": null,
            "visibility": null,
            "width": null
          }
        },
        "66218d331f85409ba631a0f02c602e67": {
          "model_module": "@jupyter-widgets/base",
          "model_name": "LayoutModel",
          "model_module_version": "1.2.0",
          "state": {
            "_model_module": "@jupyter-widgets/base",
            "_model_module_version": "1.2.0",
            "_model_name": "LayoutModel",
            "_view_count": null,
            "_view_module": "@jupyter-widgets/base",
            "_view_module_version": "1.2.0",
            "_view_name": "LayoutView",
            "align_content": null,
            "align_items": null,
            "align_self": null,
            "border": null,
            "bottom": null,
            "display": null,
            "flex": null,
            "flex_flow": null,
            "grid_area": null,
            "grid_auto_columns": null,
            "grid_auto_flow": null,
            "grid_auto_rows": null,
            "grid_column": null,
            "grid_gap": null,
            "grid_row": null,
            "grid_template_areas": null,
            "grid_template_columns": null,
            "grid_template_rows": null,
            "height": null,
            "justify_content": null,
            "justify_items": null,
            "left": null,
            "margin": null,
            "max_height": null,
            "max_width": null,
            "min_height": null,
            "min_width": null,
            "object_fit": null,
            "object_position": null,
            "order": null,
            "overflow": null,
            "overflow_x": null,
            "overflow_y": null,
            "padding": null,
            "right": null,
            "top": null,
            "visibility": null,
            "width": null
          }
        },
        "0d8f570713fb4a6ebc0babf3fc31da4a": {
          "model_module": "@jupyter-widgets/controls",
          "model_name": "DescriptionStyleModel",
          "model_module_version": "1.5.0",
          "state": {
            "_model_module": "@jupyter-widgets/controls",
            "_model_module_version": "1.5.0",
            "_model_name": "DescriptionStyleModel",
            "_view_count": null,
            "_view_module": "@jupyter-widgets/base",
            "_view_module_version": "1.2.0",
            "_view_name": "StyleView",
            "description_width": ""
          }
        },
        "f0d6de53610e43319ec01d77867f211d": {
          "model_module": "@jupyter-widgets/base",
          "model_name": "LayoutModel",
          "model_module_version": "1.2.0",
          "state": {
            "_model_module": "@jupyter-widgets/base",
            "_model_module_version": "1.2.0",
            "_model_name": "LayoutModel",
            "_view_count": null,
            "_view_module": "@jupyter-widgets/base",
            "_view_module_version": "1.2.0",
            "_view_name": "LayoutView",
            "align_content": null,
            "align_items": null,
            "align_self": null,
            "border": null,
            "bottom": null,
            "display": null,
            "flex": null,
            "flex_flow": null,
            "grid_area": null,
            "grid_auto_columns": null,
            "grid_auto_flow": null,
            "grid_auto_rows": null,
            "grid_column": null,
            "grid_gap": null,
            "grid_row": null,
            "grid_template_areas": null,
            "grid_template_columns": null,
            "grid_template_rows": null,
            "height": null,
            "justify_content": null,
            "justify_items": null,
            "left": null,
            "margin": null,
            "max_height": null,
            "max_width": null,
            "min_height": null,
            "min_width": null,
            "object_fit": null,
            "object_position": null,
            "order": null,
            "overflow": null,
            "overflow_x": null,
            "overflow_y": null,
            "padding": null,
            "right": null,
            "top": null,
            "visibility": null,
            "width": null
          }
        },
        "cb0fbfa81998496f973fd6ed787b6ead": {
          "model_module": "@jupyter-widgets/controls",
          "model_name": "ProgressStyleModel",
          "model_module_version": "1.5.0",
          "state": {
            "_model_module": "@jupyter-widgets/controls",
            "_model_module_version": "1.5.0",
            "_model_name": "ProgressStyleModel",
            "_view_count": null,
            "_view_module": "@jupyter-widgets/base",
            "_view_module_version": "1.2.0",
            "_view_name": "StyleView",
            "bar_color": null,
            "description_width": ""
          }
        },
        "d2768aa0929b4ac3a76be223a9bd66ad": {
          "model_module": "@jupyter-widgets/base",
          "model_name": "LayoutModel",
          "model_module_version": "1.2.0",
          "state": {
            "_model_module": "@jupyter-widgets/base",
            "_model_module_version": "1.2.0",
            "_model_name": "LayoutModel",
            "_view_count": null,
            "_view_module": "@jupyter-widgets/base",
            "_view_module_version": "1.2.0",
            "_view_name": "LayoutView",
            "align_content": null,
            "align_items": null,
            "align_self": null,
            "border": null,
            "bottom": null,
            "display": null,
            "flex": null,
            "flex_flow": null,
            "grid_area": null,
            "grid_auto_columns": null,
            "grid_auto_flow": null,
            "grid_auto_rows": null,
            "grid_column": null,
            "grid_gap": null,
            "grid_row": null,
            "grid_template_areas": null,
            "grid_template_columns": null,
            "grid_template_rows": null,
            "height": null,
            "justify_content": null,
            "justify_items": null,
            "left": null,
            "margin": null,
            "max_height": null,
            "max_width": null,
            "min_height": null,
            "min_width": null,
            "object_fit": null,
            "object_position": null,
            "order": null,
            "overflow": null,
            "overflow_x": null,
            "overflow_y": null,
            "padding": null,
            "right": null,
            "top": null,
            "visibility": null,
            "width": null
          }
        },
        "da014a2f9854492ba7f36eab1c7c407f": {
          "model_module": "@jupyter-widgets/controls",
          "model_name": "DescriptionStyleModel",
          "model_module_version": "1.5.0",
          "state": {
            "_model_module": "@jupyter-widgets/controls",
            "_model_module_version": "1.5.0",
            "_model_name": "DescriptionStyleModel",
            "_view_count": null,
            "_view_module": "@jupyter-widgets/base",
            "_view_module_version": "1.2.0",
            "_view_name": "StyleView",
            "description_width": ""
          }
        },
        "a7cbd19e6e2b417485971c451ec43c25": {
          "model_module": "@jupyter-widgets/controls",
          "model_name": "HBoxModel",
          "model_module_version": "1.5.0",
          "state": {
            "_dom_classes": [],
            "_model_module": "@jupyter-widgets/controls",
            "_model_module_version": "1.5.0",
            "_model_name": "HBoxModel",
            "_view_count": null,
            "_view_module": "@jupyter-widgets/controls",
            "_view_module_version": "1.5.0",
            "_view_name": "HBoxView",
            "box_style": "",
            "children": [
              "IPY_MODEL_33bea2374042411aa83604faa8d03de9",
              "IPY_MODEL_d85455efedb4481a91b52d545af60f35",
              "IPY_MODEL_4311325b291f4d4d9dfe7e1401807ec3"
            ],
            "layout": "IPY_MODEL_142762396c534463a3a31207e695ec03"
          }
        },
        "33bea2374042411aa83604faa8d03de9": {
          "model_module": "@jupyter-widgets/controls",
          "model_name": "HTMLModel",
          "model_module_version": "1.5.0",
          "state": {
            "_dom_classes": [],
            "_model_module": "@jupyter-widgets/controls",
            "_model_module_version": "1.5.0",
            "_model_name": "HTMLModel",
            "_view_count": null,
            "_view_module": "@jupyter-widgets/controls",
            "_view_module_version": "1.5.0",
            "_view_name": "HTMLView",
            "description": "",
            "description_tooltip": null,
            "layout": "IPY_MODEL_ec0d6a9892f64ec7a6d6ab29d5cd8979",
            "placeholder": "​",
            "style": "IPY_MODEL_5f1c6ac37d354f4784f5c850051ee0fc",
            "value": "Downloading readme: 100%"
          }
        },
        "d85455efedb4481a91b52d545af60f35": {
          "model_module": "@jupyter-widgets/controls",
          "model_name": "FloatProgressModel",
          "model_module_version": "1.5.0",
          "state": {
            "_dom_classes": [],
            "_model_module": "@jupyter-widgets/controls",
            "_model_module_version": "1.5.0",
            "_model_name": "FloatProgressModel",
            "_view_count": null,
            "_view_module": "@jupyter-widgets/controls",
            "_view_module_version": "1.5.0",
            "_view_name": "ProgressView",
            "bar_style": "success",
            "description": "",
            "description_tooltip": null,
            "layout": "IPY_MODEL_5e2e77d62a8d4737a415a13d905661f6",
            "max": 16046,
            "min": 0,
            "orientation": "horizontal",
            "style": "IPY_MODEL_3ab4df45c48049e48eb071d7912bd97c",
            "value": 16046
          }
        },
        "4311325b291f4d4d9dfe7e1401807ec3": {
          "model_module": "@jupyter-widgets/controls",
          "model_name": "HTMLModel",
          "model_module_version": "1.5.0",
          "state": {
            "_dom_classes": [],
            "_model_module": "@jupyter-widgets/controls",
            "_model_module_version": "1.5.0",
            "_model_name": "HTMLModel",
            "_view_count": null,
            "_view_module": "@jupyter-widgets/controls",
            "_view_module_version": "1.5.0",
            "_view_name": "HTMLView",
            "description": "",
            "description_tooltip": null,
            "layout": "IPY_MODEL_e79c29769b134cbb8a328583492497d9",
            "placeholder": "​",
            "style": "IPY_MODEL_abf66cc98d4544c699a5160e814115bc",
            "value": " 16.0k/16.0k [00:00&lt;00:00, 544kB/s]"
          }
        },
        "142762396c534463a3a31207e695ec03": {
          "model_module": "@jupyter-widgets/base",
          "model_name": "LayoutModel",
          "model_module_version": "1.2.0",
          "state": {
            "_model_module": "@jupyter-widgets/base",
            "_model_module_version": "1.2.0",
            "_model_name": "LayoutModel",
            "_view_count": null,
            "_view_module": "@jupyter-widgets/base",
            "_view_module_version": "1.2.0",
            "_view_name": "LayoutView",
            "align_content": null,
            "align_items": null,
            "align_self": null,
            "border": null,
            "bottom": null,
            "display": null,
            "flex": null,
            "flex_flow": null,
            "grid_area": null,
            "grid_auto_columns": null,
            "grid_auto_flow": null,
            "grid_auto_rows": null,
            "grid_column": null,
            "grid_gap": null,
            "grid_row": null,
            "grid_template_areas": null,
            "grid_template_columns": null,
            "grid_template_rows": null,
            "height": null,
            "justify_content": null,
            "justify_items": null,
            "left": null,
            "margin": null,
            "max_height": null,
            "max_width": null,
            "min_height": null,
            "min_width": null,
            "object_fit": null,
            "object_position": null,
            "order": null,
            "overflow": null,
            "overflow_x": null,
            "overflow_y": null,
            "padding": null,
            "right": null,
            "top": null,
            "visibility": null,
            "width": null
          }
        },
        "ec0d6a9892f64ec7a6d6ab29d5cd8979": {
          "model_module": "@jupyter-widgets/base",
          "model_name": "LayoutModel",
          "model_module_version": "1.2.0",
          "state": {
            "_model_module": "@jupyter-widgets/base",
            "_model_module_version": "1.2.0",
            "_model_name": "LayoutModel",
            "_view_count": null,
            "_view_module": "@jupyter-widgets/base",
            "_view_module_version": "1.2.0",
            "_view_name": "LayoutView",
            "align_content": null,
            "align_items": null,
            "align_self": null,
            "border": null,
            "bottom": null,
            "display": null,
            "flex": null,
            "flex_flow": null,
            "grid_area": null,
            "grid_auto_columns": null,
            "grid_auto_flow": null,
            "grid_auto_rows": null,
            "grid_column": null,
            "grid_gap": null,
            "grid_row": null,
            "grid_template_areas": null,
            "grid_template_columns": null,
            "grid_template_rows": null,
            "height": null,
            "justify_content": null,
            "justify_items": null,
            "left": null,
            "margin": null,
            "max_height": null,
            "max_width": null,
            "min_height": null,
            "min_width": null,
            "object_fit": null,
            "object_position": null,
            "order": null,
            "overflow": null,
            "overflow_x": null,
            "overflow_y": null,
            "padding": null,
            "right": null,
            "top": null,
            "visibility": null,
            "width": null
          }
        },
        "5f1c6ac37d354f4784f5c850051ee0fc": {
          "model_module": "@jupyter-widgets/controls",
          "model_name": "DescriptionStyleModel",
          "model_module_version": "1.5.0",
          "state": {
            "_model_module": "@jupyter-widgets/controls",
            "_model_module_version": "1.5.0",
            "_model_name": "DescriptionStyleModel",
            "_view_count": null,
            "_view_module": "@jupyter-widgets/base",
            "_view_module_version": "1.2.0",
            "_view_name": "StyleView",
            "description_width": ""
          }
        },
        "5e2e77d62a8d4737a415a13d905661f6": {
          "model_module": "@jupyter-widgets/base",
          "model_name": "LayoutModel",
          "model_module_version": "1.2.0",
          "state": {
            "_model_module": "@jupyter-widgets/base",
            "_model_module_version": "1.2.0",
            "_model_name": "LayoutModel",
            "_view_count": null,
            "_view_module": "@jupyter-widgets/base",
            "_view_module_version": "1.2.0",
            "_view_name": "LayoutView",
            "align_content": null,
            "align_items": null,
            "align_self": null,
            "border": null,
            "bottom": null,
            "display": null,
            "flex": null,
            "flex_flow": null,
            "grid_area": null,
            "grid_auto_columns": null,
            "grid_auto_flow": null,
            "grid_auto_rows": null,
            "grid_column": null,
            "grid_gap": null,
            "grid_row": null,
            "grid_template_areas": null,
            "grid_template_columns": null,
            "grid_template_rows": null,
            "height": null,
            "justify_content": null,
            "justify_items": null,
            "left": null,
            "margin": null,
            "max_height": null,
            "max_width": null,
            "min_height": null,
            "min_width": null,
            "object_fit": null,
            "object_position": null,
            "order": null,
            "overflow": null,
            "overflow_x": null,
            "overflow_y": null,
            "padding": null,
            "right": null,
            "top": null,
            "visibility": null,
            "width": null
          }
        },
        "3ab4df45c48049e48eb071d7912bd97c": {
          "model_module": "@jupyter-widgets/controls",
          "model_name": "ProgressStyleModel",
          "model_module_version": "1.5.0",
          "state": {
            "_model_module": "@jupyter-widgets/controls",
            "_model_module_version": "1.5.0",
            "_model_name": "ProgressStyleModel",
            "_view_count": null,
            "_view_module": "@jupyter-widgets/base",
            "_view_module_version": "1.2.0",
            "_view_name": "StyleView",
            "bar_color": null,
            "description_width": ""
          }
        },
        "e79c29769b134cbb8a328583492497d9": {
          "model_module": "@jupyter-widgets/base",
          "model_name": "LayoutModel",
          "model_module_version": "1.2.0",
          "state": {
            "_model_module": "@jupyter-widgets/base",
            "_model_module_version": "1.2.0",
            "_model_name": "LayoutModel",
            "_view_count": null,
            "_view_module": "@jupyter-widgets/base",
            "_view_module_version": "1.2.0",
            "_view_name": "LayoutView",
            "align_content": null,
            "align_items": null,
            "align_self": null,
            "border": null,
            "bottom": null,
            "display": null,
            "flex": null,
            "flex_flow": null,
            "grid_area": null,
            "grid_auto_columns": null,
            "grid_auto_flow": null,
            "grid_auto_rows": null,
            "grid_column": null,
            "grid_gap": null,
            "grid_row": null,
            "grid_template_areas": null,
            "grid_template_columns": null,
            "grid_template_rows": null,
            "height": null,
            "justify_content": null,
            "justify_items": null,
            "left": null,
            "margin": null,
            "max_height": null,
            "max_width": null,
            "min_height": null,
            "min_width": null,
            "object_fit": null,
            "object_position": null,
            "order": null,
            "overflow": null,
            "overflow_x": null,
            "overflow_y": null,
            "padding": null,
            "right": null,
            "top": null,
            "visibility": null,
            "width": null
          }
        },
        "abf66cc98d4544c699a5160e814115bc": {
          "model_module": "@jupyter-widgets/controls",
          "model_name": "DescriptionStyleModel",
          "model_module_version": "1.5.0",
          "state": {
            "_model_module": "@jupyter-widgets/controls",
            "_model_module_version": "1.5.0",
            "_model_name": "DescriptionStyleModel",
            "_view_count": null,
            "_view_module": "@jupyter-widgets/base",
            "_view_module_version": "1.2.0",
            "_view_name": "StyleView",
            "description_width": ""
          }
        },
        "0fbcbfd036ca49b3b2a5f3ed87bb07ee": {
          "model_module": "@jupyter-widgets/controls",
          "model_name": "HBoxModel",
          "model_module_version": "1.5.0",
          "state": {
            "_dom_classes": [],
            "_model_module": "@jupyter-widgets/controls",
            "_model_module_version": "1.5.0",
            "_model_name": "HBoxModel",
            "_view_count": null,
            "_view_module": "@jupyter-widgets/controls",
            "_view_module_version": "1.5.0",
            "_view_name": "HBoxView",
            "box_style": "",
            "children": [
              "IPY_MODEL_6f18dc5dd94f4e888bfbcb727a97366d",
              "IPY_MODEL_9ea7edccae7544198487e292d08aa666",
              "IPY_MODEL_d65fb3d4c6f54e10a6003bc0fa8193e4"
            ],
            "layout": "IPY_MODEL_ad205385eb7742478a27b8f51247dd15"
          }
        },
        "6f18dc5dd94f4e888bfbcb727a97366d": {
          "model_module": "@jupyter-widgets/controls",
          "model_name": "HTMLModel",
          "model_module_version": "1.5.0",
          "state": {
            "_dom_classes": [],
            "_model_module": "@jupyter-widgets/controls",
            "_model_module_version": "1.5.0",
            "_model_name": "HTMLModel",
            "_view_count": null,
            "_view_module": "@jupyter-widgets/controls",
            "_view_module_version": "1.5.0",
            "_view_name": "HTMLView",
            "description": "",
            "description_tooltip": null,
            "layout": "IPY_MODEL_f4fdf3a384844ca19f97445a5b291379",
            "placeholder": "​",
            "style": "IPY_MODEL_68487d95acd64f4fb154df15c1995881",
            "value": "Downloading: 100%"
          }
        },
        "9ea7edccae7544198487e292d08aa666": {
          "model_module": "@jupyter-widgets/controls",
          "model_name": "FloatProgressModel",
          "model_module_version": "1.5.0",
          "state": {
            "_dom_classes": [],
            "_model_module": "@jupyter-widgets/controls",
            "_model_module_version": "1.5.0",
            "_model_name": "FloatProgressModel",
            "_view_count": null,
            "_view_module": "@jupyter-widgets/controls",
            "_view_module_version": "1.5.0",
            "_view_name": "ProgressView",
            "bar_style": "success",
            "description": "",
            "description_tooltip": null,
            "layout": "IPY_MODEL_492a24216a1b490baf2e8c6bcb45cc6d",
            "max": 1660,
            "min": 0,
            "orientation": "horizontal",
            "style": "IPY_MODEL_a630cde095634e01936ac7677457d167",
            "value": 1660
          }
        },
        "d65fb3d4c6f54e10a6003bc0fa8193e4": {
          "model_module": "@jupyter-widgets/controls",
          "model_name": "HTMLModel",
          "model_module_version": "1.5.0",
          "state": {
            "_dom_classes": [],
            "_model_module": "@jupyter-widgets/controls",
            "_model_module_version": "1.5.0",
            "_model_name": "HTMLModel",
            "_view_count": null,
            "_view_module": "@jupyter-widgets/controls",
            "_view_module_version": "1.5.0",
            "_view_name": "HTMLView",
            "description": "",
            "description_tooltip": null,
            "layout": "IPY_MODEL_e15195a0d5dc4863bc36b6fbb1532565",
            "placeholder": "​",
            "style": "IPY_MODEL_533684e391e1482687c7b4f188562b63",
            "value": " 1.66k/1.66k [00:00&lt;00:00, 64.6kB/s]"
          }
        },
        "ad205385eb7742478a27b8f51247dd15": {
          "model_module": "@jupyter-widgets/base",
          "model_name": "LayoutModel",
          "model_module_version": "1.2.0",
          "state": {
            "_model_module": "@jupyter-widgets/base",
            "_model_module_version": "1.2.0",
            "_model_name": "LayoutModel",
            "_view_count": null,
            "_view_module": "@jupyter-widgets/base",
            "_view_module_version": "1.2.0",
            "_view_name": "LayoutView",
            "align_content": null,
            "align_items": null,
            "align_self": null,
            "border": null,
            "bottom": null,
            "display": null,
            "flex": null,
            "flex_flow": null,
            "grid_area": null,
            "grid_auto_columns": null,
            "grid_auto_flow": null,
            "grid_auto_rows": null,
            "grid_column": null,
            "grid_gap": null,
            "grid_row": null,
            "grid_template_areas": null,
            "grid_template_columns": null,
            "grid_template_rows": null,
            "height": null,
            "justify_content": null,
            "justify_items": null,
            "left": null,
            "margin": null,
            "max_height": null,
            "max_width": null,
            "min_height": null,
            "min_width": null,
            "object_fit": null,
            "object_position": null,
            "order": null,
            "overflow": null,
            "overflow_x": null,
            "overflow_y": null,
            "padding": null,
            "right": null,
            "top": null,
            "visibility": null,
            "width": null
          }
        },
        "f4fdf3a384844ca19f97445a5b291379": {
          "model_module": "@jupyter-widgets/base",
          "model_name": "LayoutModel",
          "model_module_version": "1.2.0",
          "state": {
            "_model_module": "@jupyter-widgets/base",
            "_model_module_version": "1.2.0",
            "_model_name": "LayoutModel",
            "_view_count": null,
            "_view_module": "@jupyter-widgets/base",
            "_view_module_version": "1.2.0",
            "_view_name": "LayoutView",
            "align_content": null,
            "align_items": null,
            "align_self": null,
            "border": null,
            "bottom": null,
            "display": null,
            "flex": null,
            "flex_flow": null,
            "grid_area": null,
            "grid_auto_columns": null,
            "grid_auto_flow": null,
            "grid_auto_rows": null,
            "grid_column": null,
            "grid_gap": null,
            "grid_row": null,
            "grid_template_areas": null,
            "grid_template_columns": null,
            "grid_template_rows": null,
            "height": null,
            "justify_content": null,
            "justify_items": null,
            "left": null,
            "margin": null,
            "max_height": null,
            "max_width": null,
            "min_height": null,
            "min_width": null,
            "object_fit": null,
            "object_position": null,
            "order": null,
            "overflow": null,
            "overflow_x": null,
            "overflow_y": null,
            "padding": null,
            "right": null,
            "top": null,
            "visibility": null,
            "width": null
          }
        },
        "68487d95acd64f4fb154df15c1995881": {
          "model_module": "@jupyter-widgets/controls",
          "model_name": "DescriptionStyleModel",
          "model_module_version": "1.5.0",
          "state": {
            "_model_module": "@jupyter-widgets/controls",
            "_model_module_version": "1.5.0",
            "_model_name": "DescriptionStyleModel",
            "_view_count": null,
            "_view_module": "@jupyter-widgets/base",
            "_view_module_version": "1.2.0",
            "_view_name": "StyleView",
            "description_width": ""
          }
        },
        "492a24216a1b490baf2e8c6bcb45cc6d": {
          "model_module": "@jupyter-widgets/base",
          "model_name": "LayoutModel",
          "model_module_version": "1.2.0",
          "state": {
            "_model_module": "@jupyter-widgets/base",
            "_model_module_version": "1.2.0",
            "_model_name": "LayoutModel",
            "_view_count": null,
            "_view_module": "@jupyter-widgets/base",
            "_view_module_version": "1.2.0",
            "_view_name": "LayoutView",
            "align_content": null,
            "align_items": null,
            "align_self": null,
            "border": null,
            "bottom": null,
            "display": null,
            "flex": null,
            "flex_flow": null,
            "grid_area": null,
            "grid_auto_columns": null,
            "grid_auto_flow": null,
            "grid_auto_rows": null,
            "grid_column": null,
            "grid_gap": null,
            "grid_row": null,
            "grid_template_areas": null,
            "grid_template_columns": null,
            "grid_template_rows": null,
            "height": null,
            "justify_content": null,
            "justify_items": null,
            "left": null,
            "margin": null,
            "max_height": null,
            "max_width": null,
            "min_height": null,
            "min_width": null,
            "object_fit": null,
            "object_position": null,
            "order": null,
            "overflow": null,
            "overflow_x": null,
            "overflow_y": null,
            "padding": null,
            "right": null,
            "top": null,
            "visibility": null,
            "width": null
          }
        },
        "a630cde095634e01936ac7677457d167": {
          "model_module": "@jupyter-widgets/controls",
          "model_name": "ProgressStyleModel",
          "model_module_version": "1.5.0",
          "state": {
            "_model_module": "@jupyter-widgets/controls",
            "_model_module_version": "1.5.0",
            "_model_name": "ProgressStyleModel",
            "_view_count": null,
            "_view_module": "@jupyter-widgets/base",
            "_view_module_version": "1.2.0",
            "_view_name": "StyleView",
            "bar_color": null,
            "description_width": ""
          }
        },
        "e15195a0d5dc4863bc36b6fbb1532565": {
          "model_module": "@jupyter-widgets/base",
          "model_name": "LayoutModel",
          "model_module_version": "1.2.0",
          "state": {
            "_model_module": "@jupyter-widgets/base",
            "_model_module_version": "1.2.0",
            "_model_name": "LayoutModel",
            "_view_count": null,
            "_view_module": "@jupyter-widgets/base",
            "_view_module_version": "1.2.0",
            "_view_name": "LayoutView",
            "align_content": null,
            "align_items": null,
            "align_self": null,
            "border": null,
            "bottom": null,
            "display": null,
            "flex": null,
            "flex_flow": null,
            "grid_area": null,
            "grid_auto_columns": null,
            "grid_auto_flow": null,
            "grid_auto_rows": null,
            "grid_column": null,
            "grid_gap": null,
            "grid_row": null,
            "grid_template_areas": null,
            "grid_template_columns": null,
            "grid_template_rows": null,
            "height": null,
            "justify_content": null,
            "justify_items": null,
            "left": null,
            "margin": null,
            "max_height": null,
            "max_width": null,
            "min_height": null,
            "min_width": null,
            "object_fit": null,
            "object_position": null,
            "order": null,
            "overflow": null,
            "overflow_x": null,
            "overflow_y": null,
            "padding": null,
            "right": null,
            "top": null,
            "visibility": null,
            "width": null
          }
        },
        "533684e391e1482687c7b4f188562b63": {
          "model_module": "@jupyter-widgets/controls",
          "model_name": "DescriptionStyleModel",
          "model_module_version": "1.5.0",
          "state": {
            "_model_module": "@jupyter-widgets/controls",
            "_model_module_version": "1.5.0",
            "_model_name": "DescriptionStyleModel",
            "_view_count": null,
            "_view_module": "@jupyter-widgets/base",
            "_view_module_version": "1.2.0",
            "_view_name": "StyleView",
            "description_width": ""
          }
        },
        "f9c1ae6634d943058873efeee0a7b0a6": {
          "model_module": "@jupyter-widgets/controls",
          "model_name": "HBoxModel",
          "model_module_version": "1.5.0",
          "state": {
            "_dom_classes": [],
            "_model_module": "@jupyter-widgets/controls",
            "_model_module_version": "1.5.0",
            "_model_name": "HBoxModel",
            "_view_count": null,
            "_view_module": "@jupyter-widgets/controls",
            "_view_module_version": "1.5.0",
            "_view_name": "HBoxView",
            "box_style": "",
            "children": [
              "IPY_MODEL_1adf809eb1bf414b81f08a7c249fe277",
              "IPY_MODEL_1fb69e6062df4a878cf3f16b8156c27b",
              "IPY_MODEL_f3b9b6714065449594c3a1a658d9c037"
            ],
            "layout": "IPY_MODEL_4b7d00ca7a804322a4e448c793a033e6"
          }
        },
        "1adf809eb1bf414b81f08a7c249fe277": {
          "model_module": "@jupyter-widgets/controls",
          "model_name": "HTMLModel",
          "model_module_version": "1.5.0",
          "state": {
            "_dom_classes": [],
            "_model_module": "@jupyter-widgets/controls",
            "_model_module_version": "1.5.0",
            "_model_name": "HTMLModel",
            "_view_count": null,
            "_view_module": "@jupyter-widgets/controls",
            "_view_module_version": "1.5.0",
            "_view_name": "HTMLView",
            "description": "",
            "description_tooltip": null,
            "layout": "IPY_MODEL_518e961d83504a96b71f4410870081f8",
            "placeholder": "​",
            "style": "IPY_MODEL_d373df278fd94944b0f267d917c5bd5d",
            "value": "Downloading: 100%"
          }
        },
        "1fb69e6062df4a878cf3f16b8156c27b": {
          "model_module": "@jupyter-widgets/controls",
          "model_name": "FloatProgressModel",
          "model_module_version": "1.5.0",
          "state": {
            "_dom_classes": [],
            "_model_module": "@jupyter-widgets/controls",
            "_model_module_version": "1.5.0",
            "_model_name": "FloatProgressModel",
            "_view_count": null,
            "_view_module": "@jupyter-widgets/controls",
            "_view_module_version": "1.5.0",
            "_view_name": "ProgressView",
            "bar_style": "success",
            "description": "",
            "description_tooltip": null,
            "layout": "IPY_MODEL_45cfc474a14e43bab6408d08790a8ff2",
            "max": 235072360,
            "min": 0,
            "orientation": "horizontal",
            "style": "IPY_MODEL_ee9c9d104b1c4cb49a6efce7d8f0e97c",
            "value": 235072360
          }
        },
        "f3b9b6714065449594c3a1a658d9c037": {
          "model_module": "@jupyter-widgets/controls",
          "model_name": "HTMLModel",
          "model_module_version": "1.5.0",
          "state": {
            "_dom_classes": [],
            "_model_module": "@jupyter-widgets/controls",
            "_model_module_version": "1.5.0",
            "_model_name": "HTMLModel",
            "_view_count": null,
            "_view_module": "@jupyter-widgets/controls",
            "_view_module_version": "1.5.0",
            "_view_name": "HTMLView",
            "description": "",
            "description_tooltip": null,
            "layout": "IPY_MODEL_091fab6a8b694b99aeeebd3243e72e86",
            "placeholder": "​",
            "style": "IPY_MODEL_d93b37dc7ecc4b8996d336ef7bbccf33",
            "value": " 235M/235M [00:08&lt;00:00, 19.5MB/s]"
          }
        },
        "4b7d00ca7a804322a4e448c793a033e6": {
          "model_module": "@jupyter-widgets/base",
          "model_name": "LayoutModel",
          "model_module_version": "1.2.0",
          "state": {
            "_model_module": "@jupyter-widgets/base",
            "_model_module_version": "1.2.0",
            "_model_name": "LayoutModel",
            "_view_count": null,
            "_view_module": "@jupyter-widgets/base",
            "_view_module_version": "1.2.0",
            "_view_name": "LayoutView",
            "align_content": null,
            "align_items": null,
            "align_self": null,
            "border": null,
            "bottom": null,
            "display": null,
            "flex": null,
            "flex_flow": null,
            "grid_area": null,
            "grid_auto_columns": null,
            "grid_auto_flow": null,
            "grid_auto_rows": null,
            "grid_column": null,
            "grid_gap": null,
            "grid_row": null,
            "grid_template_areas": null,
            "grid_template_columns": null,
            "grid_template_rows": null,
            "height": null,
            "justify_content": null,
            "justify_items": null,
            "left": null,
            "margin": null,
            "max_height": null,
            "max_width": null,
            "min_height": null,
            "min_width": null,
            "object_fit": null,
            "object_position": null,
            "order": null,
            "overflow": null,
            "overflow_x": null,
            "overflow_y": null,
            "padding": null,
            "right": null,
            "top": null,
            "visibility": null,
            "width": null
          }
        },
        "518e961d83504a96b71f4410870081f8": {
          "model_module": "@jupyter-widgets/base",
          "model_name": "LayoutModel",
          "model_module_version": "1.2.0",
          "state": {
            "_model_module": "@jupyter-widgets/base",
            "_model_module_version": "1.2.0",
            "_model_name": "LayoutModel",
            "_view_count": null,
            "_view_module": "@jupyter-widgets/base",
            "_view_module_version": "1.2.0",
            "_view_name": "LayoutView",
            "align_content": null,
            "align_items": null,
            "align_self": null,
            "border": null,
            "bottom": null,
            "display": null,
            "flex": null,
            "flex_flow": null,
            "grid_area": null,
            "grid_auto_columns": null,
            "grid_auto_flow": null,
            "grid_auto_rows": null,
            "grid_column": null,
            "grid_gap": null,
            "grid_row": null,
            "grid_template_areas": null,
            "grid_template_columns": null,
            "grid_template_rows": null,
            "height": null,
            "justify_content": null,
            "justify_items": null,
            "left": null,
            "margin": null,
            "max_height": null,
            "max_width": null,
            "min_height": null,
            "min_width": null,
            "object_fit": null,
            "object_position": null,
            "order": null,
            "overflow": null,
            "overflow_x": null,
            "overflow_y": null,
            "padding": null,
            "right": null,
            "top": null,
            "visibility": null,
            "width": null
          }
        },
        "d373df278fd94944b0f267d917c5bd5d": {
          "model_module": "@jupyter-widgets/controls",
          "model_name": "DescriptionStyleModel",
          "model_module_version": "1.5.0",
          "state": {
            "_model_module": "@jupyter-widgets/controls",
            "_model_module_version": "1.5.0",
            "_model_name": "DescriptionStyleModel",
            "_view_count": null,
            "_view_module": "@jupyter-widgets/base",
            "_view_module_version": "1.2.0",
            "_view_name": "StyleView",
            "description_width": ""
          }
        },
        "45cfc474a14e43bab6408d08790a8ff2": {
          "model_module": "@jupyter-widgets/base",
          "model_name": "LayoutModel",
          "model_module_version": "1.2.0",
          "state": {
            "_model_module": "@jupyter-widgets/base",
            "_model_module_version": "1.2.0",
            "_model_name": "LayoutModel",
            "_view_count": null,
            "_view_module": "@jupyter-widgets/base",
            "_view_module_version": "1.2.0",
            "_view_name": "LayoutView",
            "align_content": null,
            "align_items": null,
            "align_self": null,
            "border": null,
            "bottom": null,
            "display": null,
            "flex": null,
            "flex_flow": null,
            "grid_area": null,
            "grid_auto_columns": null,
            "grid_auto_flow": null,
            "grid_auto_rows": null,
            "grid_column": null,
            "grid_gap": null,
            "grid_row": null,
            "grid_template_areas": null,
            "grid_template_columns": null,
            "grid_template_rows": null,
            "height": null,
            "justify_content": null,
            "justify_items": null,
            "left": null,
            "margin": null,
            "max_height": null,
            "max_width": null,
            "min_height": null,
            "min_width": null,
            "object_fit": null,
            "object_position": null,
            "order": null,
            "overflow": null,
            "overflow_x": null,
            "overflow_y": null,
            "padding": null,
            "right": null,
            "top": null,
            "visibility": null,
            "width": null
          }
        },
        "ee9c9d104b1c4cb49a6efce7d8f0e97c": {
          "model_module": "@jupyter-widgets/controls",
          "model_name": "ProgressStyleModel",
          "model_module_version": "1.5.0",
          "state": {
            "_model_module": "@jupyter-widgets/controls",
            "_model_module_version": "1.5.0",
            "_model_name": "ProgressStyleModel",
            "_view_count": null,
            "_view_module": "@jupyter-widgets/base",
            "_view_module_version": "1.2.0",
            "_view_name": "StyleView",
            "bar_color": null,
            "description_width": ""
          }
        },
        "091fab6a8b694b99aeeebd3243e72e86": {
          "model_module": "@jupyter-widgets/base",
          "model_name": "LayoutModel",
          "model_module_version": "1.2.0",
          "state": {
            "_model_module": "@jupyter-widgets/base",
            "_model_module_version": "1.2.0",
            "_model_name": "LayoutModel",
            "_view_count": null,
            "_view_module": "@jupyter-widgets/base",
            "_view_module_version": "1.2.0",
            "_view_name": "LayoutView",
            "align_content": null,
            "align_items": null,
            "align_self": null,
            "border": null,
            "bottom": null,
            "display": null,
            "flex": null,
            "flex_flow": null,
            "grid_area": null,
            "grid_auto_columns": null,
            "grid_auto_flow": null,
            "grid_auto_rows": null,
            "grid_column": null,
            "grid_gap": null,
            "grid_row": null,
            "grid_template_areas": null,
            "grid_template_columns": null,
            "grid_template_rows": null,
            "height": null,
            "justify_content": null,
            "justify_items": null,
            "left": null,
            "margin": null,
            "max_height": null,
            "max_width": null,
            "min_height": null,
            "min_width": null,
            "object_fit": null,
            "object_position": null,
            "order": null,
            "overflow": null,
            "overflow_x": null,
            "overflow_y": null,
            "padding": null,
            "right": null,
            "top": null,
            "visibility": null,
            "width": null
          }
        },
        "d93b37dc7ecc4b8996d336ef7bbccf33": {
          "model_module": "@jupyter-widgets/controls",
          "model_name": "DescriptionStyleModel",
          "model_module_version": "1.5.0",
          "state": {
            "_model_module": "@jupyter-widgets/controls",
            "_model_module_version": "1.5.0",
            "_model_name": "DescriptionStyleModel",
            "_view_count": null,
            "_view_module": "@jupyter-widgets/base",
            "_view_module_version": "1.2.0",
            "_view_name": "StyleView",
            "description_width": ""
          }
        },
        "89abc830311142d78b6ba829469acccc": {
          "model_module": "@jupyter-widgets/controls",
          "model_name": "HBoxModel",
          "model_module_version": "1.5.0",
          "state": {
            "_dom_classes": [],
            "_model_module": "@jupyter-widgets/controls",
            "_model_module_version": "1.5.0",
            "_model_name": "HBoxModel",
            "_view_count": null,
            "_view_module": "@jupyter-widgets/controls",
            "_view_module_version": "1.5.0",
            "_view_name": "HBoxView",
            "box_style": "",
            "children": [
              "IPY_MODEL_f02ad9003a3549dea8fea36f17431bd5",
              "IPY_MODEL_689b93d7ffaa49d680d608d1e00bafee",
              "IPY_MODEL_5e06e114a554432681c13f4aa7be25c8"
            ],
            "layout": "IPY_MODEL_dd2cd4df44a44875872bae9d369c96cc"
          }
        },
        "f02ad9003a3549dea8fea36f17431bd5": {
          "model_module": "@jupyter-widgets/controls",
          "model_name": "HTMLModel",
          "model_module_version": "1.5.0",
          "state": {
            "_dom_classes": [],
            "_model_module": "@jupyter-widgets/controls",
            "_model_module_version": "1.5.0",
            "_model_name": "HTMLModel",
            "_view_count": null,
            "_view_module": "@jupyter-widgets/controls",
            "_view_module_version": "1.5.0",
            "_view_name": "HTMLView",
            "description": "",
            "description_tooltip": null,
            "layout": "IPY_MODEL_535285e9364f437a8d56b3a7a8e8ac36",
            "placeholder": "​",
            "style": "IPY_MODEL_ddb13ee6f7c0488882634ac4a34d8a59",
            "value": "Map: 100%"
          }
        },
        "689b93d7ffaa49d680d608d1e00bafee": {
          "model_module": "@jupyter-widgets/controls",
          "model_name": "FloatProgressModel",
          "model_module_version": "1.5.0",
          "state": {
            "_dom_classes": [],
            "_model_module": "@jupyter-widgets/controls",
            "_model_module_version": "1.5.0",
            "_model_name": "FloatProgressModel",
            "_view_count": null,
            "_view_module": "@jupyter-widgets/controls",
            "_view_module_version": "1.5.0",
            "_view_name": "ProgressView",
            "bar_style": "success",
            "description": "",
            "description_tooltip": null,
            "layout": "IPY_MODEL_cad9c45433d34eccb5afc9512e48cb21",
            "max": 10000,
            "min": 0,
            "orientation": "horizontal",
            "style": "IPY_MODEL_b7646180118f4d5d978e40d2a3ad8a4d",
            "value": 10000
          }
        },
        "5e06e114a554432681c13f4aa7be25c8": {
          "model_module": "@jupyter-widgets/controls",
          "model_name": "HTMLModel",
          "model_module_version": "1.5.0",
          "state": {
            "_dom_classes": [],
            "_model_module": "@jupyter-widgets/controls",
            "_model_module_version": "1.5.0",
            "_model_name": "HTMLModel",
            "_view_count": null,
            "_view_module": "@jupyter-widgets/controls",
            "_view_module_version": "1.5.0",
            "_view_name": "HTMLView",
            "description": "",
            "description_tooltip": null,
            "layout": "IPY_MODEL_3a7fd3ef64c4441b81ff752af94da6ce",
            "placeholder": "​",
            "style": "IPY_MODEL_a46ed9db348940139499d9ae37461a97",
            "value": " 10000/10000 [00:35&lt;00:00, 243.47 examples/s]"
          }
        },
        "dd2cd4df44a44875872bae9d369c96cc": {
          "model_module": "@jupyter-widgets/base",
          "model_name": "LayoutModel",
          "model_module_version": "1.2.0",
          "state": {
            "_model_module": "@jupyter-widgets/base",
            "_model_module_version": "1.2.0",
            "_model_name": "LayoutModel",
            "_view_count": null,
            "_view_module": "@jupyter-widgets/base",
            "_view_module_version": "1.2.0",
            "_view_name": "LayoutView",
            "align_content": null,
            "align_items": null,
            "align_self": null,
            "border": null,
            "bottom": null,
            "display": null,
            "flex": null,
            "flex_flow": null,
            "grid_area": null,
            "grid_auto_columns": null,
            "grid_auto_flow": null,
            "grid_auto_rows": null,
            "grid_column": null,
            "grid_gap": null,
            "grid_row": null,
            "grid_template_areas": null,
            "grid_template_columns": null,
            "grid_template_rows": null,
            "height": null,
            "justify_content": null,
            "justify_items": null,
            "left": null,
            "margin": null,
            "max_height": null,
            "max_width": null,
            "min_height": null,
            "min_width": null,
            "object_fit": null,
            "object_position": null,
            "order": null,
            "overflow": null,
            "overflow_x": null,
            "overflow_y": null,
            "padding": null,
            "right": null,
            "top": null,
            "visibility": null,
            "width": null
          }
        },
        "535285e9364f437a8d56b3a7a8e8ac36": {
          "model_module": "@jupyter-widgets/base",
          "model_name": "LayoutModel",
          "model_module_version": "1.2.0",
          "state": {
            "_model_module": "@jupyter-widgets/base",
            "_model_module_version": "1.2.0",
            "_model_name": "LayoutModel",
            "_view_count": null,
            "_view_module": "@jupyter-widgets/base",
            "_view_module_version": "1.2.0",
            "_view_name": "LayoutView",
            "align_content": null,
            "align_items": null,
            "align_self": null,
            "border": null,
            "bottom": null,
            "display": null,
            "flex": null,
            "flex_flow": null,
            "grid_area": null,
            "grid_auto_columns": null,
            "grid_auto_flow": null,
            "grid_auto_rows": null,
            "grid_column": null,
            "grid_gap": null,
            "grid_row": null,
            "grid_template_areas": null,
            "grid_template_columns": null,
            "grid_template_rows": null,
            "height": null,
            "justify_content": null,
            "justify_items": null,
            "left": null,
            "margin": null,
            "max_height": null,
            "max_width": null,
            "min_height": null,
            "min_width": null,
            "object_fit": null,
            "object_position": null,
            "order": null,
            "overflow": null,
            "overflow_x": null,
            "overflow_y": null,
            "padding": null,
            "right": null,
            "top": null,
            "visibility": null,
            "width": null
          }
        },
        "ddb13ee6f7c0488882634ac4a34d8a59": {
          "model_module": "@jupyter-widgets/controls",
          "model_name": "DescriptionStyleModel",
          "model_module_version": "1.5.0",
          "state": {
            "_model_module": "@jupyter-widgets/controls",
            "_model_module_version": "1.5.0",
            "_model_name": "DescriptionStyleModel",
            "_view_count": null,
            "_view_module": "@jupyter-widgets/base",
            "_view_module_version": "1.2.0",
            "_view_name": "StyleView",
            "description_width": ""
          }
        },
        "cad9c45433d34eccb5afc9512e48cb21": {
          "model_module": "@jupyter-widgets/base",
          "model_name": "LayoutModel",
          "model_module_version": "1.2.0",
          "state": {
            "_model_module": "@jupyter-widgets/base",
            "_model_module_version": "1.2.0",
            "_model_name": "LayoutModel",
            "_view_count": null,
            "_view_module": "@jupyter-widgets/base",
            "_view_module_version": "1.2.0",
            "_view_name": "LayoutView",
            "align_content": null,
            "align_items": null,
            "align_self": null,
            "border": null,
            "bottom": null,
            "display": null,
            "flex": null,
            "flex_flow": null,
            "grid_area": null,
            "grid_auto_columns": null,
            "grid_auto_flow": null,
            "grid_auto_rows": null,
            "grid_column": null,
            "grid_gap": null,
            "grid_row": null,
            "grid_template_areas": null,
            "grid_template_columns": null,
            "grid_template_rows": null,
            "height": null,
            "justify_content": null,
            "justify_items": null,
            "left": null,
            "margin": null,
            "max_height": null,
            "max_width": null,
            "min_height": null,
            "min_width": null,
            "object_fit": null,
            "object_position": null,
            "order": null,
            "overflow": null,
            "overflow_x": null,
            "overflow_y": null,
            "padding": null,
            "right": null,
            "top": null,
            "visibility": null,
            "width": null
          }
        },
        "b7646180118f4d5d978e40d2a3ad8a4d": {
          "model_module": "@jupyter-widgets/controls",
          "model_name": "ProgressStyleModel",
          "model_module_version": "1.5.0",
          "state": {
            "_model_module": "@jupyter-widgets/controls",
            "_model_module_version": "1.5.0",
            "_model_name": "ProgressStyleModel",
            "_view_count": null,
            "_view_module": "@jupyter-widgets/base",
            "_view_module_version": "1.2.0",
            "_view_name": "StyleView",
            "bar_color": null,
            "description_width": ""
          }
        },
        "3a7fd3ef64c4441b81ff752af94da6ce": {
          "model_module": "@jupyter-widgets/base",
          "model_name": "LayoutModel",
          "model_module_version": "1.2.0",
          "state": {
            "_model_module": "@jupyter-widgets/base",
            "_model_module_version": "1.2.0",
            "_model_name": "LayoutModel",
            "_view_count": null,
            "_view_module": "@jupyter-widgets/base",
            "_view_module_version": "1.2.0",
            "_view_name": "LayoutView",
            "align_content": null,
            "align_items": null,
            "align_self": null,
            "border": null,
            "bottom": null,
            "display": null,
            "flex": null,
            "flex_flow": null,
            "grid_area": null,
            "grid_auto_columns": null,
            "grid_auto_flow": null,
            "grid_auto_rows": null,
            "grid_column": null,
            "grid_gap": null,
            "grid_row": null,
            "grid_template_areas": null,
            "grid_template_columns": null,
            "grid_template_rows": null,
            "height": null,
            "justify_content": null,
            "justify_items": null,
            "left": null,
            "margin": null,
            "max_height": null,
            "max_width": null,
            "min_height": null,
            "min_width": null,
            "object_fit": null,
            "object_position": null,
            "order": null,
            "overflow": null,
            "overflow_x": null,
            "overflow_y": null,
            "padding": null,
            "right": null,
            "top": null,
            "visibility": null,
            "width": null
          }
        },
        "a46ed9db348940139499d9ae37461a97": {
          "model_module": "@jupyter-widgets/controls",
          "model_name": "DescriptionStyleModel",
          "model_module_version": "1.5.0",
          "state": {
            "_model_module": "@jupyter-widgets/controls",
            "_model_module_version": "1.5.0",
            "_model_name": "DescriptionStyleModel",
            "_view_count": null,
            "_view_module": "@jupyter-widgets/base",
            "_view_module_version": "1.2.0",
            "_view_name": "StyleView",
            "description_width": ""
          }
        },
        "5b2e47a9e7314df8af34fbbb0b576082": {
          "model_module": "@jupyter-widgets/controls",
          "model_name": "HBoxModel",
          "model_module_version": "1.5.0",
          "state": {
            "_dom_classes": [],
            "_model_module": "@jupyter-widgets/controls",
            "_model_module_version": "1.5.0",
            "_model_name": "HBoxModel",
            "_view_count": null,
            "_view_module": "@jupyter-widgets/controls",
            "_view_module_version": "1.5.0",
            "_view_name": "HBoxView",
            "box_style": "",
            "children": [
              "IPY_MODEL_8839f7d6fc9b4040934e9aabeee5f862",
              "IPY_MODEL_800a0de7305a4a268d51bb6e47a5875c",
              "IPY_MODEL_ca946bf0c6b641ae98a98bb4be6d19ec"
            ],
            "layout": "IPY_MODEL_842319fd893a4e06b70a2e21cf14b6cc"
          }
        },
        "8839f7d6fc9b4040934e9aabeee5f862": {
          "model_module": "@jupyter-widgets/controls",
          "model_name": "HTMLModel",
          "model_module_version": "1.5.0",
          "state": {
            "_dom_classes": [],
            "_model_module": "@jupyter-widgets/controls",
            "_model_module_version": "1.5.0",
            "_model_name": "HTMLModel",
            "_view_count": null,
            "_view_module": "@jupyter-widgets/controls",
            "_view_module_version": "1.5.0",
            "_view_name": "HTMLView",
            "description": "",
            "description_tooltip": null,
            "layout": "IPY_MODEL_8ea4f784eecd450c924cb38d14a0263b",
            "placeholder": "​",
            "style": "IPY_MODEL_377215fcff384dabb8f7faf33fe43dc1",
            "value": "Map: 100%"
          }
        },
        "800a0de7305a4a268d51bb6e47a5875c": {
          "model_module": "@jupyter-widgets/controls",
          "model_name": "FloatProgressModel",
          "model_module_version": "1.5.0",
          "state": {
            "_dom_classes": [],
            "_model_module": "@jupyter-widgets/controls",
            "_model_module_version": "1.5.0",
            "_model_name": "FloatProgressModel",
            "_view_count": null,
            "_view_module": "@jupyter-widgets/controls",
            "_view_module_version": "1.5.0",
            "_view_name": "ProgressView",
            "bar_style": "success",
            "description": "",
            "description_tooltip": null,
            "layout": "IPY_MODEL_2bc467ed8b544cd1b23e29507cd1dd79",
            "max": 24,
            "min": 0,
            "orientation": "horizontal",
            "style": "IPY_MODEL_63b6fd4c95574fcaa838dcdc5208a138",
            "value": 24
          }
        },
        "ca946bf0c6b641ae98a98bb4be6d19ec": {
          "model_module": "@jupyter-widgets/controls",
          "model_name": "HTMLModel",
          "model_module_version": "1.5.0",
          "state": {
            "_dom_classes": [],
            "_model_module": "@jupyter-widgets/controls",
            "_model_module_version": "1.5.0",
            "_model_name": "HTMLModel",
            "_view_count": null,
            "_view_module": "@jupyter-widgets/controls",
            "_view_module_version": "1.5.0",
            "_view_name": "HTMLView",
            "description": "",
            "description_tooltip": null,
            "layout": "IPY_MODEL_1d474a2202a5457688f4713b79942c25",
            "placeholder": "​",
            "style": "IPY_MODEL_7c7b7e67e2a344f0be2704fa951a7339",
            "value": " 24/24 [00:00&lt;00:00, 785.22 examples/s]"
          }
        },
        "842319fd893a4e06b70a2e21cf14b6cc": {
          "model_module": "@jupyter-widgets/base",
          "model_name": "LayoutModel",
          "model_module_version": "1.2.0",
          "state": {
            "_model_module": "@jupyter-widgets/base",
            "_model_module_version": "1.2.0",
            "_model_name": "LayoutModel",
            "_view_count": null,
            "_view_module": "@jupyter-widgets/base",
            "_view_module_version": "1.2.0",
            "_view_name": "LayoutView",
            "align_content": null,
            "align_items": null,
            "align_self": null,
            "border": null,
            "bottom": null,
            "display": null,
            "flex": null,
            "flex_flow": null,
            "grid_area": null,
            "grid_auto_columns": null,
            "grid_auto_flow": null,
            "grid_auto_rows": null,
            "grid_column": null,
            "grid_gap": null,
            "grid_row": null,
            "grid_template_areas": null,
            "grid_template_columns": null,
            "grid_template_rows": null,
            "height": null,
            "justify_content": null,
            "justify_items": null,
            "left": null,
            "margin": null,
            "max_height": null,
            "max_width": null,
            "min_height": null,
            "min_width": null,
            "object_fit": null,
            "object_position": null,
            "order": null,
            "overflow": null,
            "overflow_x": null,
            "overflow_y": null,
            "padding": null,
            "right": null,
            "top": null,
            "visibility": null,
            "width": null
          }
        },
        "8ea4f784eecd450c924cb38d14a0263b": {
          "model_module": "@jupyter-widgets/base",
          "model_name": "LayoutModel",
          "model_module_version": "1.2.0",
          "state": {
            "_model_module": "@jupyter-widgets/base",
            "_model_module_version": "1.2.0",
            "_model_name": "LayoutModel",
            "_view_count": null,
            "_view_module": "@jupyter-widgets/base",
            "_view_module_version": "1.2.0",
            "_view_name": "LayoutView",
            "align_content": null,
            "align_items": null,
            "align_self": null,
            "border": null,
            "bottom": null,
            "display": null,
            "flex": null,
            "flex_flow": null,
            "grid_area": null,
            "grid_auto_columns": null,
            "grid_auto_flow": null,
            "grid_auto_rows": null,
            "grid_column": null,
            "grid_gap": null,
            "grid_row": null,
            "grid_template_areas": null,
            "grid_template_columns": null,
            "grid_template_rows": null,
            "height": null,
            "justify_content": null,
            "justify_items": null,
            "left": null,
            "margin": null,
            "max_height": null,
            "max_width": null,
            "min_height": null,
            "min_width": null,
            "object_fit": null,
            "object_position": null,
            "order": null,
            "overflow": null,
            "overflow_x": null,
            "overflow_y": null,
            "padding": null,
            "right": null,
            "top": null,
            "visibility": null,
            "width": null
          }
        },
        "377215fcff384dabb8f7faf33fe43dc1": {
          "model_module": "@jupyter-widgets/controls",
          "model_name": "DescriptionStyleModel",
          "model_module_version": "1.5.0",
          "state": {
            "_model_module": "@jupyter-widgets/controls",
            "_model_module_version": "1.5.0",
            "_model_name": "DescriptionStyleModel",
            "_view_count": null,
            "_view_module": "@jupyter-widgets/base",
            "_view_module_version": "1.2.0",
            "_view_name": "StyleView",
            "description_width": ""
          }
        },
        "2bc467ed8b544cd1b23e29507cd1dd79": {
          "model_module": "@jupyter-widgets/base",
          "model_name": "LayoutModel",
          "model_module_version": "1.2.0",
          "state": {
            "_model_module": "@jupyter-widgets/base",
            "_model_module_version": "1.2.0",
            "_model_name": "LayoutModel",
            "_view_count": null,
            "_view_module": "@jupyter-widgets/base",
            "_view_module_version": "1.2.0",
            "_view_name": "LayoutView",
            "align_content": null,
            "align_items": null,
            "align_self": null,
            "border": null,
            "bottom": null,
            "display": null,
            "flex": null,
            "flex_flow": null,
            "grid_area": null,
            "grid_auto_columns": null,
            "grid_auto_flow": null,
            "grid_auto_rows": null,
            "grid_column": null,
            "grid_gap": null,
            "grid_row": null,
            "grid_template_areas": null,
            "grid_template_columns": null,
            "grid_template_rows": null,
            "height": null,
            "justify_content": null,
            "justify_items": null,
            "left": null,
            "margin": null,
            "max_height": null,
            "max_width": null,
            "min_height": null,
            "min_width": null,
            "object_fit": null,
            "object_position": null,
            "order": null,
            "overflow": null,
            "overflow_x": null,
            "overflow_y": null,
            "padding": null,
            "right": null,
            "top": null,
            "visibility": null,
            "width": null
          }
        },
        "63b6fd4c95574fcaa838dcdc5208a138": {
          "model_module": "@jupyter-widgets/controls",
          "model_name": "ProgressStyleModel",
          "model_module_version": "1.5.0",
          "state": {
            "_model_module": "@jupyter-widgets/controls",
            "_model_module_version": "1.5.0",
            "_model_name": "ProgressStyleModel",
            "_view_count": null,
            "_view_module": "@jupyter-widgets/base",
            "_view_module_version": "1.2.0",
            "_view_name": "StyleView",
            "bar_color": null,
            "description_width": ""
          }
        },
        "1d474a2202a5457688f4713b79942c25": {
          "model_module": "@jupyter-widgets/base",
          "model_name": "LayoutModel",
          "model_module_version": "1.2.0",
          "state": {
            "_model_module": "@jupyter-widgets/base",
            "_model_module_version": "1.2.0",
            "_model_name": "LayoutModel",
            "_view_count": null,
            "_view_module": "@jupyter-widgets/base",
            "_view_module_version": "1.2.0",
            "_view_name": "LayoutView",
            "align_content": null,
            "align_items": null,
            "align_self": null,
            "border": null,
            "bottom": null,
            "display": null,
            "flex": null,
            "flex_flow": null,
            "grid_area": null,
            "grid_auto_columns": null,
            "grid_auto_flow": null,
            "grid_auto_rows": null,
            "grid_column": null,
            "grid_gap": null,
            "grid_row": null,
            "grid_template_areas": null,
            "grid_template_columns": null,
            "grid_template_rows": null,
            "height": null,
            "justify_content": null,
            "justify_items": null,
            "left": null,
            "margin": null,
            "max_height": null,
            "max_width": null,
            "min_height": null,
            "min_width": null,
            "object_fit": null,
            "object_position": null,
            "order": null,
            "overflow": null,
            "overflow_x": null,
            "overflow_y": null,
            "padding": null,
            "right": null,
            "top": null,
            "visibility": null,
            "width": null
          }
        },
        "7c7b7e67e2a344f0be2704fa951a7339": {
          "model_module": "@jupyter-widgets/controls",
          "model_name": "DescriptionStyleModel",
          "model_module_version": "1.5.0",
          "state": {
            "_model_module": "@jupyter-widgets/controls",
            "_model_module_version": "1.5.0",
            "_model_name": "DescriptionStyleModel",
            "_view_count": null,
            "_view_module": "@jupyter-widgets/base",
            "_view_module_version": "1.2.0",
            "_view_name": "StyleView",
            "description_width": ""
          }
        },
        "d7a84897887a4a2295839e2147278758": {
          "model_module": "@jupyter-widgets/controls",
          "model_name": "HBoxModel",
          "model_module_version": "1.5.0",
          "state": {
            "_dom_classes": [],
            "_model_module": "@jupyter-widgets/controls",
            "_model_module_version": "1.5.0",
            "_model_name": "HBoxModel",
            "_view_count": null,
            "_view_module": "@jupyter-widgets/controls",
            "_view_module_version": "1.5.0",
            "_view_name": "HBoxView",
            "box_style": "",
            "children": [
              "IPY_MODEL_a0f8bb5796fb406f91019e980f587bfe",
              "IPY_MODEL_0aaf682155914c6d8eb02de1baf02186",
              "IPY_MODEL_cad0baa46d5245759e8a4877a5c46178"
            ],
            "layout": "IPY_MODEL_b349a95fbc0844e0af9171d7264e94e9"
          }
        },
        "a0f8bb5796fb406f91019e980f587bfe": {
          "model_module": "@jupyter-widgets/controls",
          "model_name": "HTMLModel",
          "model_module_version": "1.5.0",
          "state": {
            "_dom_classes": [],
            "_model_module": "@jupyter-widgets/controls",
            "_model_module_version": "1.5.0",
            "_model_name": "HTMLModel",
            "_view_count": null,
            "_view_module": "@jupyter-widgets/controls",
            "_view_module_version": "1.5.0",
            "_view_name": "HTMLView",
            "description": "",
            "description_tooltip": null,
            "layout": "IPY_MODEL_519f6ecbbeaa4bcbae5fb021707a6986",
            "placeholder": "​",
            "style": "IPY_MODEL_a8bd7b18cfc44cbcae75bf5ed5ad2fe1",
            "value": "Map: 100%"
          }
        },
        "0aaf682155914c6d8eb02de1baf02186": {
          "model_module": "@jupyter-widgets/controls",
          "model_name": "FloatProgressModel",
          "model_module_version": "1.5.0",
          "state": {
            "_dom_classes": [],
            "_model_module": "@jupyter-widgets/controls",
            "_model_module_version": "1.5.0",
            "_model_name": "FloatProgressModel",
            "_view_count": null,
            "_view_module": "@jupyter-widgets/controls",
            "_view_module_version": "1.5.0",
            "_view_name": "ProgressView",
            "bar_style": "success",
            "description": "",
            "description_tooltip": null,
            "layout": "IPY_MODEL_7fa4b625027c4408b81c969be08341f8",
            "max": 24,
            "min": 0,
            "orientation": "horizontal",
            "style": "IPY_MODEL_e1ebb41801e042cc98fe11da9e92a984",
            "value": 24
          }
        },
        "cad0baa46d5245759e8a4877a5c46178": {
          "model_module": "@jupyter-widgets/controls",
          "model_name": "HTMLModel",
          "model_module_version": "1.5.0",
          "state": {
            "_dom_classes": [],
            "_model_module": "@jupyter-widgets/controls",
            "_model_module_version": "1.5.0",
            "_model_name": "HTMLModel",
            "_view_count": null,
            "_view_module": "@jupyter-widgets/controls",
            "_view_module_version": "1.5.0",
            "_view_name": "HTMLView",
            "description": "",
            "description_tooltip": null,
            "layout": "IPY_MODEL_9d747daaf36548838e97a4ca2a57bd1c",
            "placeholder": "​",
            "style": "IPY_MODEL_34def303bb214c7e80e862e0d213f8fe",
            "value": " 24/24 [00:00&lt;00:00, 820.97 examples/s]"
          }
        },
        "b349a95fbc0844e0af9171d7264e94e9": {
          "model_module": "@jupyter-widgets/base",
          "model_name": "LayoutModel",
          "model_module_version": "1.2.0",
          "state": {
            "_model_module": "@jupyter-widgets/base",
            "_model_module_version": "1.2.0",
            "_model_name": "LayoutModel",
            "_view_count": null,
            "_view_module": "@jupyter-widgets/base",
            "_view_module_version": "1.2.0",
            "_view_name": "LayoutView",
            "align_content": null,
            "align_items": null,
            "align_self": null,
            "border": null,
            "bottom": null,
            "display": null,
            "flex": null,
            "flex_flow": null,
            "grid_area": null,
            "grid_auto_columns": null,
            "grid_auto_flow": null,
            "grid_auto_rows": null,
            "grid_column": null,
            "grid_gap": null,
            "grid_row": null,
            "grid_template_areas": null,
            "grid_template_columns": null,
            "grid_template_rows": null,
            "height": null,
            "justify_content": null,
            "justify_items": null,
            "left": null,
            "margin": null,
            "max_height": null,
            "max_width": null,
            "min_height": null,
            "min_width": null,
            "object_fit": null,
            "object_position": null,
            "order": null,
            "overflow": null,
            "overflow_x": null,
            "overflow_y": null,
            "padding": null,
            "right": null,
            "top": null,
            "visibility": null,
            "width": null
          }
        },
        "519f6ecbbeaa4bcbae5fb021707a6986": {
          "model_module": "@jupyter-widgets/base",
          "model_name": "LayoutModel",
          "model_module_version": "1.2.0",
          "state": {
            "_model_module": "@jupyter-widgets/base",
            "_model_module_version": "1.2.0",
            "_model_name": "LayoutModel",
            "_view_count": null,
            "_view_module": "@jupyter-widgets/base",
            "_view_module_version": "1.2.0",
            "_view_name": "LayoutView",
            "align_content": null,
            "align_items": null,
            "align_self": null,
            "border": null,
            "bottom": null,
            "display": null,
            "flex": null,
            "flex_flow": null,
            "grid_area": null,
            "grid_auto_columns": null,
            "grid_auto_flow": null,
            "grid_auto_rows": null,
            "grid_column": null,
            "grid_gap": null,
            "grid_row": null,
            "grid_template_areas": null,
            "grid_template_columns": null,
            "grid_template_rows": null,
            "height": null,
            "justify_content": null,
            "justify_items": null,
            "left": null,
            "margin": null,
            "max_height": null,
            "max_width": null,
            "min_height": null,
            "min_width": null,
            "object_fit": null,
            "object_position": null,
            "order": null,
            "overflow": null,
            "overflow_x": null,
            "overflow_y": null,
            "padding": null,
            "right": null,
            "top": null,
            "visibility": null,
            "width": null
          }
        },
        "a8bd7b18cfc44cbcae75bf5ed5ad2fe1": {
          "model_module": "@jupyter-widgets/controls",
          "model_name": "DescriptionStyleModel",
          "model_module_version": "1.5.0",
          "state": {
            "_model_module": "@jupyter-widgets/controls",
            "_model_module_version": "1.5.0",
            "_model_name": "DescriptionStyleModel",
            "_view_count": null,
            "_view_module": "@jupyter-widgets/base",
            "_view_module_version": "1.2.0",
            "_view_name": "StyleView",
            "description_width": ""
          }
        },
        "7fa4b625027c4408b81c969be08341f8": {
          "model_module": "@jupyter-widgets/base",
          "model_name": "LayoutModel",
          "model_module_version": "1.2.0",
          "state": {
            "_model_module": "@jupyter-widgets/base",
            "_model_module_version": "1.2.0",
            "_model_name": "LayoutModel",
            "_view_count": null,
            "_view_module": "@jupyter-widgets/base",
            "_view_module_version": "1.2.0",
            "_view_name": "LayoutView",
            "align_content": null,
            "align_items": null,
            "align_self": null,
            "border": null,
            "bottom": null,
            "display": null,
            "flex": null,
            "flex_flow": null,
            "grid_area": null,
            "grid_auto_columns": null,
            "grid_auto_flow": null,
            "grid_auto_rows": null,
            "grid_column": null,
            "grid_gap": null,
            "grid_row": null,
            "grid_template_areas": null,
            "grid_template_columns": null,
            "grid_template_rows": null,
            "height": null,
            "justify_content": null,
            "justify_items": null,
            "left": null,
            "margin": null,
            "max_height": null,
            "max_width": null,
            "min_height": null,
            "min_width": null,
            "object_fit": null,
            "object_position": null,
            "order": null,
            "overflow": null,
            "overflow_x": null,
            "overflow_y": null,
            "padding": null,
            "right": null,
            "top": null,
            "visibility": null,
            "width": null
          }
        },
        "e1ebb41801e042cc98fe11da9e92a984": {
          "model_module": "@jupyter-widgets/controls",
          "model_name": "ProgressStyleModel",
          "model_module_version": "1.5.0",
          "state": {
            "_model_module": "@jupyter-widgets/controls",
            "_model_module_version": "1.5.0",
            "_model_name": "ProgressStyleModel",
            "_view_count": null,
            "_view_module": "@jupyter-widgets/base",
            "_view_module_version": "1.2.0",
            "_view_name": "StyleView",
            "bar_color": null,
            "description_width": ""
          }
        },
        "9d747daaf36548838e97a4ca2a57bd1c": {
          "model_module": "@jupyter-widgets/base",
          "model_name": "LayoutModel",
          "model_module_version": "1.2.0",
          "state": {
            "_model_module": "@jupyter-widgets/base",
            "_model_module_version": "1.2.0",
            "_model_name": "LayoutModel",
            "_view_count": null,
            "_view_module": "@jupyter-widgets/base",
            "_view_module_version": "1.2.0",
            "_view_name": "LayoutView",
            "align_content": null,
            "align_items": null,
            "align_self": null,
            "border": null,
            "bottom": null,
            "display": null,
            "flex": null,
            "flex_flow": null,
            "grid_area": null,
            "grid_auto_columns": null,
            "grid_auto_flow": null,
            "grid_auto_rows": null,
            "grid_column": null,
            "grid_gap": null,
            "grid_row": null,
            "grid_template_areas": null,
            "grid_template_columns": null,
            "grid_template_rows": null,
            "height": null,
            "justify_content": null,
            "justify_items": null,
            "left": null,
            "margin": null,
            "max_height": null,
            "max_width": null,
            "min_height": null,
            "min_width": null,
            "object_fit": null,
            "object_position": null,
            "order": null,
            "overflow": null,
            "overflow_x": null,
            "overflow_y": null,
            "padding": null,
            "right": null,
            "top": null,
            "visibility": null,
            "width": null
          }
        },
        "34def303bb214c7e80e862e0d213f8fe": {
          "model_module": "@jupyter-widgets/controls",
          "model_name": "DescriptionStyleModel",
          "model_module_version": "1.5.0",
          "state": {
            "_model_module": "@jupyter-widgets/controls",
            "_model_module_version": "1.5.0",
            "_model_name": "DescriptionStyleModel",
            "_view_count": null,
            "_view_module": "@jupyter-widgets/base",
            "_view_module_version": "1.2.0",
            "_view_name": "StyleView",
            "description_width": ""
          }
        },
        "d96ed4b923b34e53826e73a9ba07f348": {
          "model_module": "@jupyter-widgets/controls",
          "model_name": "HBoxModel",
          "model_module_version": "1.5.0",
          "state": {
            "_dom_classes": [],
            "_model_module": "@jupyter-widgets/controls",
            "_model_module_version": "1.5.0",
            "_model_name": "HBoxModel",
            "_view_count": null,
            "_view_module": "@jupyter-widgets/controls",
            "_view_module_version": "1.5.0",
            "_view_name": "HBoxView",
            "box_style": "",
            "children": [
              "IPY_MODEL_15bb241934a44b4db079c523ecc89216",
              "IPY_MODEL_42508ee7fa6a4eebaee827434b500cb8",
              "IPY_MODEL_3c6b23d1b4de422da151aeb41ceb6262"
            ],
            "layout": "IPY_MODEL_7e3ac48e5bca46aa9c5a926a66d571b6"
          }
        },
        "15bb241934a44b4db079c523ecc89216": {
          "model_module": "@jupyter-widgets/controls",
          "model_name": "HTMLModel",
          "model_module_version": "1.5.0",
          "state": {
            "_dom_classes": [],
            "_model_module": "@jupyter-widgets/controls",
            "_model_module_version": "1.5.0",
            "_model_name": "HTMLModel",
            "_view_count": null,
            "_view_module": "@jupyter-widgets/controls",
            "_view_module_version": "1.5.0",
            "_view_name": "HTMLView",
            "description": "",
            "description_tooltip": null,
            "layout": "IPY_MODEL_67e8742a49494ae489e70b307180ee4d",
            "placeholder": "​",
            "style": "IPY_MODEL_4f875c0a9d6440e3b0c85aa333ab1a95",
            "value": "Map: 100%"
          }
        },
        "42508ee7fa6a4eebaee827434b500cb8": {
          "model_module": "@jupyter-widgets/controls",
          "model_name": "FloatProgressModel",
          "model_module_version": "1.5.0",
          "state": {
            "_dom_classes": [],
            "_model_module": "@jupyter-widgets/controls",
            "_model_module_version": "1.5.0",
            "_model_name": "FloatProgressModel",
            "_view_count": null,
            "_view_module": "@jupyter-widgets/controls",
            "_view_module_version": "1.5.0",
            "_view_name": "ProgressView",
            "bar_style": "success",
            "description": "",
            "description_tooltip": null,
            "layout": "IPY_MODEL_99a75789d79f449fa697418c265d281d",
            "max": 185,
            "min": 0,
            "orientation": "horizontal",
            "style": "IPY_MODEL_e287f0f6d4b84f4bac3222d911274ce0",
            "value": 185
          }
        },
        "3c6b23d1b4de422da151aeb41ceb6262": {
          "model_module": "@jupyter-widgets/controls",
          "model_name": "HTMLModel",
          "model_module_version": "1.5.0",
          "state": {
            "_dom_classes": [],
            "_model_module": "@jupyter-widgets/controls",
            "_model_module_version": "1.5.0",
            "_model_name": "HTMLModel",
            "_view_count": null,
            "_view_module": "@jupyter-widgets/controls",
            "_view_module_version": "1.5.0",
            "_view_name": "HTMLView",
            "description": "",
            "description_tooltip": null,
            "layout": "IPY_MODEL_6497a5b9c8314ed1957cf86c65a22044",
            "placeholder": "​",
            "style": "IPY_MODEL_231bf60c6d534d7abde8ad89f4252071",
            "value": " 185/185 [00:00&lt;00:00, 1415.72 examples/s]"
          }
        },
        "7e3ac48e5bca46aa9c5a926a66d571b6": {
          "model_module": "@jupyter-widgets/base",
          "model_name": "LayoutModel",
          "model_module_version": "1.2.0",
          "state": {
            "_model_module": "@jupyter-widgets/base",
            "_model_module_version": "1.2.0",
            "_model_name": "LayoutModel",
            "_view_count": null,
            "_view_module": "@jupyter-widgets/base",
            "_view_module_version": "1.2.0",
            "_view_name": "LayoutView",
            "align_content": null,
            "align_items": null,
            "align_self": null,
            "border": null,
            "bottom": null,
            "display": null,
            "flex": null,
            "flex_flow": null,
            "grid_area": null,
            "grid_auto_columns": null,
            "grid_auto_flow": null,
            "grid_auto_rows": null,
            "grid_column": null,
            "grid_gap": null,
            "grid_row": null,
            "grid_template_areas": null,
            "grid_template_columns": null,
            "grid_template_rows": null,
            "height": null,
            "justify_content": null,
            "justify_items": null,
            "left": null,
            "margin": null,
            "max_height": null,
            "max_width": null,
            "min_height": null,
            "min_width": null,
            "object_fit": null,
            "object_position": null,
            "order": null,
            "overflow": null,
            "overflow_x": null,
            "overflow_y": null,
            "padding": null,
            "right": null,
            "top": null,
            "visibility": null,
            "width": null
          }
        },
        "67e8742a49494ae489e70b307180ee4d": {
          "model_module": "@jupyter-widgets/base",
          "model_name": "LayoutModel",
          "model_module_version": "1.2.0",
          "state": {
            "_model_module": "@jupyter-widgets/base",
            "_model_module_version": "1.2.0",
            "_model_name": "LayoutModel",
            "_view_count": null,
            "_view_module": "@jupyter-widgets/base",
            "_view_module_version": "1.2.0",
            "_view_name": "LayoutView",
            "align_content": null,
            "align_items": null,
            "align_self": null,
            "border": null,
            "bottom": null,
            "display": null,
            "flex": null,
            "flex_flow": null,
            "grid_area": null,
            "grid_auto_columns": null,
            "grid_auto_flow": null,
            "grid_auto_rows": null,
            "grid_column": null,
            "grid_gap": null,
            "grid_row": null,
            "grid_template_areas": null,
            "grid_template_columns": null,
            "grid_template_rows": null,
            "height": null,
            "justify_content": null,
            "justify_items": null,
            "left": null,
            "margin": null,
            "max_height": null,
            "max_width": null,
            "min_height": null,
            "min_width": null,
            "object_fit": null,
            "object_position": null,
            "order": null,
            "overflow": null,
            "overflow_x": null,
            "overflow_y": null,
            "padding": null,
            "right": null,
            "top": null,
            "visibility": null,
            "width": null
          }
        },
        "4f875c0a9d6440e3b0c85aa333ab1a95": {
          "model_module": "@jupyter-widgets/controls",
          "model_name": "DescriptionStyleModel",
          "model_module_version": "1.5.0",
          "state": {
            "_model_module": "@jupyter-widgets/controls",
            "_model_module_version": "1.5.0",
            "_model_name": "DescriptionStyleModel",
            "_view_count": null,
            "_view_module": "@jupyter-widgets/base",
            "_view_module_version": "1.2.0",
            "_view_name": "StyleView",
            "description_width": ""
          }
        },
        "99a75789d79f449fa697418c265d281d": {
          "model_module": "@jupyter-widgets/base",
          "model_name": "LayoutModel",
          "model_module_version": "1.2.0",
          "state": {
            "_model_module": "@jupyter-widgets/base",
            "_model_module_version": "1.2.0",
            "_model_name": "LayoutModel",
            "_view_count": null,
            "_view_module": "@jupyter-widgets/base",
            "_view_module_version": "1.2.0",
            "_view_name": "LayoutView",
            "align_content": null,
            "align_items": null,
            "align_self": null,
            "border": null,
            "bottom": null,
            "display": null,
            "flex": null,
            "flex_flow": null,
            "grid_area": null,
            "grid_auto_columns": null,
            "grid_auto_flow": null,
            "grid_auto_rows": null,
            "grid_column": null,
            "grid_gap": null,
            "grid_row": null,
            "grid_template_areas": null,
            "grid_template_columns": null,
            "grid_template_rows": null,
            "height": null,
            "justify_content": null,
            "justify_items": null,
            "left": null,
            "margin": null,
            "max_height": null,
            "max_width": null,
            "min_height": null,
            "min_width": null,
            "object_fit": null,
            "object_position": null,
            "order": null,
            "overflow": null,
            "overflow_x": null,
            "overflow_y": null,
            "padding": null,
            "right": null,
            "top": null,
            "visibility": null,
            "width": null
          }
        },
        "e287f0f6d4b84f4bac3222d911274ce0": {
          "model_module": "@jupyter-widgets/controls",
          "model_name": "ProgressStyleModel",
          "model_module_version": "1.5.0",
          "state": {
            "_model_module": "@jupyter-widgets/controls",
            "_model_module_version": "1.5.0",
            "_model_name": "ProgressStyleModel",
            "_view_count": null,
            "_view_module": "@jupyter-widgets/base",
            "_view_module_version": "1.2.0",
            "_view_name": "StyleView",
            "bar_color": null,
            "description_width": ""
          }
        },
        "6497a5b9c8314ed1957cf86c65a22044": {
          "model_module": "@jupyter-widgets/base",
          "model_name": "LayoutModel",
          "model_module_version": "1.2.0",
          "state": {
            "_model_module": "@jupyter-widgets/base",
            "_model_module_version": "1.2.0",
            "_model_name": "LayoutModel",
            "_view_count": null,
            "_view_module": "@jupyter-widgets/base",
            "_view_module_version": "1.2.0",
            "_view_name": "LayoutView",
            "align_content": null,
            "align_items": null,
            "align_self": null,
            "border": null,
            "bottom": null,
            "display": null,
            "flex": null,
            "flex_flow": null,
            "grid_area": null,
            "grid_auto_columns": null,
            "grid_auto_flow": null,
            "grid_auto_rows": null,
            "grid_column": null,
            "grid_gap": null,
            "grid_row": null,
            "grid_template_areas": null,
            "grid_template_columns": null,
            "grid_template_rows": null,
            "height": null,
            "justify_content": null,
            "justify_items": null,
            "left": null,
            "margin": null,
            "max_height": null,
            "max_width": null,
            "min_height": null,
            "min_width": null,
            "object_fit": null,
            "object_position": null,
            "order": null,
            "overflow": null,
            "overflow_x": null,
            "overflow_y": null,
            "padding": null,
            "right": null,
            "top": null,
            "visibility": null,
            "width": null
          }
        },
        "231bf60c6d534d7abde8ad89f4252071": {
          "model_module": "@jupyter-widgets/controls",
          "model_name": "DescriptionStyleModel",
          "model_module_version": "1.5.0",
          "state": {
            "_model_module": "@jupyter-widgets/controls",
            "_model_module_version": "1.5.0",
            "_model_name": "DescriptionStyleModel",
            "_view_count": null,
            "_view_module": "@jupyter-widgets/base",
            "_view_module_version": "1.2.0",
            "_view_name": "StyleView",
            "description_width": ""
          }
        },
        "4fd90c0c4f964de6aa43e1ac0c1f9f7f": {
          "model_module": "@jupyter-widgets/controls",
          "model_name": "HBoxModel",
          "model_module_version": "1.5.0",
          "state": {
            "_dom_classes": [],
            "_model_module": "@jupyter-widgets/controls",
            "_model_module_version": "1.5.0",
            "_model_name": "HBoxModel",
            "_view_count": null,
            "_view_module": "@jupyter-widgets/controls",
            "_view_module_version": "1.5.0",
            "_view_name": "HBoxView",
            "box_style": "",
            "children": [
              "IPY_MODEL_7a2922d0287044e28a3f5a4d4ca35572",
              "IPY_MODEL_2aeb58a3f7d345218851e1999450fc98",
              "IPY_MODEL_7d815c195cab4845add91e1e21d352f0"
            ],
            "layout": "IPY_MODEL_8eb6053fcd5c4966ab688b339e3e6da6"
          }
        },
        "7a2922d0287044e28a3f5a4d4ca35572": {
          "model_module": "@jupyter-widgets/controls",
          "model_name": "HTMLModel",
          "model_module_version": "1.5.0",
          "state": {
            "_dom_classes": [],
            "_model_module": "@jupyter-widgets/controls",
            "_model_module_version": "1.5.0",
            "_model_name": "HTMLModel",
            "_view_count": null,
            "_view_module": "@jupyter-widgets/controls",
            "_view_module_version": "1.5.0",
            "_view_name": "HTMLView",
            "description": "",
            "description_tooltip": null,
            "layout": "IPY_MODEL_c6cfc9b2c4594beebe8c3be3aedeee75",
            "placeholder": "​",
            "style": "IPY_MODEL_485ff3c3687d44b2a5e15bcc9bc0a520",
            "value": "Map: 100%"
          }
        },
        "2aeb58a3f7d345218851e1999450fc98": {
          "model_module": "@jupyter-widgets/controls",
          "model_name": "FloatProgressModel",
          "model_module_version": "1.5.0",
          "state": {
            "_dom_classes": [],
            "_model_module": "@jupyter-widgets/controls",
            "_model_module_version": "1.5.0",
            "_model_name": "FloatProgressModel",
            "_view_count": null,
            "_view_module": "@jupyter-widgets/controls",
            "_view_module_version": "1.5.0",
            "_view_name": "ProgressView",
            "bar_style": "success",
            "description": "",
            "description_tooltip": null,
            "layout": "IPY_MODEL_0ebb12b92c7c418a8d731ccfbae26a13",
            "max": 185,
            "min": 0,
            "orientation": "horizontal",
            "style": "IPY_MODEL_f2755846dbbe4bc68e24707dea5d4270",
            "value": 185
          }
        },
        "7d815c195cab4845add91e1e21d352f0": {
          "model_module": "@jupyter-widgets/controls",
          "model_name": "HTMLModel",
          "model_module_version": "1.5.0",
          "state": {
            "_dom_classes": [],
            "_model_module": "@jupyter-widgets/controls",
            "_model_module_version": "1.5.0",
            "_model_name": "HTMLModel",
            "_view_count": null,
            "_view_module": "@jupyter-widgets/controls",
            "_view_module_version": "1.5.0",
            "_view_name": "HTMLView",
            "description": "",
            "description_tooltip": null,
            "layout": "IPY_MODEL_19675ff404e841c49fdd879155188fa4",
            "placeholder": "​",
            "style": "IPY_MODEL_3bd657ccfe0f4870881b234b27e35db7",
            "value": " 185/185 [00:00&lt;00:00, 3607.04 examples/s]"
          }
        },
        "8eb6053fcd5c4966ab688b339e3e6da6": {
          "model_module": "@jupyter-widgets/base",
          "model_name": "LayoutModel",
          "model_module_version": "1.2.0",
          "state": {
            "_model_module": "@jupyter-widgets/base",
            "_model_module_version": "1.2.0",
            "_model_name": "LayoutModel",
            "_view_count": null,
            "_view_module": "@jupyter-widgets/base",
            "_view_module_version": "1.2.0",
            "_view_name": "LayoutView",
            "align_content": null,
            "align_items": null,
            "align_self": null,
            "border": null,
            "bottom": null,
            "display": null,
            "flex": null,
            "flex_flow": null,
            "grid_area": null,
            "grid_auto_columns": null,
            "grid_auto_flow": null,
            "grid_auto_rows": null,
            "grid_column": null,
            "grid_gap": null,
            "grid_row": null,
            "grid_template_areas": null,
            "grid_template_columns": null,
            "grid_template_rows": null,
            "height": null,
            "justify_content": null,
            "justify_items": null,
            "left": null,
            "margin": null,
            "max_height": null,
            "max_width": null,
            "min_height": null,
            "min_width": null,
            "object_fit": null,
            "object_position": null,
            "order": null,
            "overflow": null,
            "overflow_x": null,
            "overflow_y": null,
            "padding": null,
            "right": null,
            "top": null,
            "visibility": null,
            "width": null
          }
        },
        "c6cfc9b2c4594beebe8c3be3aedeee75": {
          "model_module": "@jupyter-widgets/base",
          "model_name": "LayoutModel",
          "model_module_version": "1.2.0",
          "state": {
            "_model_module": "@jupyter-widgets/base",
            "_model_module_version": "1.2.0",
            "_model_name": "LayoutModel",
            "_view_count": null,
            "_view_module": "@jupyter-widgets/base",
            "_view_module_version": "1.2.0",
            "_view_name": "LayoutView",
            "align_content": null,
            "align_items": null,
            "align_self": null,
            "border": null,
            "bottom": null,
            "display": null,
            "flex": null,
            "flex_flow": null,
            "grid_area": null,
            "grid_auto_columns": null,
            "grid_auto_flow": null,
            "grid_auto_rows": null,
            "grid_column": null,
            "grid_gap": null,
            "grid_row": null,
            "grid_template_areas": null,
            "grid_template_columns": null,
            "grid_template_rows": null,
            "height": null,
            "justify_content": null,
            "justify_items": null,
            "left": null,
            "margin": null,
            "max_height": null,
            "max_width": null,
            "min_height": null,
            "min_width": null,
            "object_fit": null,
            "object_position": null,
            "order": null,
            "overflow": null,
            "overflow_x": null,
            "overflow_y": null,
            "padding": null,
            "right": null,
            "top": null,
            "visibility": null,
            "width": null
          }
        },
        "485ff3c3687d44b2a5e15bcc9bc0a520": {
          "model_module": "@jupyter-widgets/controls",
          "model_name": "DescriptionStyleModel",
          "model_module_version": "1.5.0",
          "state": {
            "_model_module": "@jupyter-widgets/controls",
            "_model_module_version": "1.5.0",
            "_model_name": "DescriptionStyleModel",
            "_view_count": null,
            "_view_module": "@jupyter-widgets/base",
            "_view_module_version": "1.2.0",
            "_view_name": "StyleView",
            "description_width": ""
          }
        },
        "0ebb12b92c7c418a8d731ccfbae26a13": {
          "model_module": "@jupyter-widgets/base",
          "model_name": "LayoutModel",
          "model_module_version": "1.2.0",
          "state": {
            "_model_module": "@jupyter-widgets/base",
            "_model_module_version": "1.2.0",
            "_model_name": "LayoutModel",
            "_view_count": null,
            "_view_module": "@jupyter-widgets/base",
            "_view_module_version": "1.2.0",
            "_view_name": "LayoutView",
            "align_content": null,
            "align_items": null,
            "align_self": null,
            "border": null,
            "bottom": null,
            "display": null,
            "flex": null,
            "flex_flow": null,
            "grid_area": null,
            "grid_auto_columns": null,
            "grid_auto_flow": null,
            "grid_auto_rows": null,
            "grid_column": null,
            "grid_gap": null,
            "grid_row": null,
            "grid_template_areas": null,
            "grid_template_columns": null,
            "grid_template_rows": null,
            "height": null,
            "justify_content": null,
            "justify_items": null,
            "left": null,
            "margin": null,
            "max_height": null,
            "max_width": null,
            "min_height": null,
            "min_width": null,
            "object_fit": null,
            "object_position": null,
            "order": null,
            "overflow": null,
            "overflow_x": null,
            "overflow_y": null,
            "padding": null,
            "right": null,
            "top": null,
            "visibility": null,
            "width": null
          }
        },
        "f2755846dbbe4bc68e24707dea5d4270": {
          "model_module": "@jupyter-widgets/controls",
          "model_name": "ProgressStyleModel",
          "model_module_version": "1.5.0",
          "state": {
            "_model_module": "@jupyter-widgets/controls",
            "_model_module_version": "1.5.0",
            "_model_name": "ProgressStyleModel",
            "_view_count": null,
            "_view_module": "@jupyter-widgets/base",
            "_view_module_version": "1.2.0",
            "_view_name": "StyleView",
            "bar_color": null,
            "description_width": ""
          }
        },
        "19675ff404e841c49fdd879155188fa4": {
          "model_module": "@jupyter-widgets/base",
          "model_name": "LayoutModel",
          "model_module_version": "1.2.0",
          "state": {
            "_model_module": "@jupyter-widgets/base",
            "_model_module_version": "1.2.0",
            "_model_name": "LayoutModel",
            "_view_count": null,
            "_view_module": "@jupyter-widgets/base",
            "_view_module_version": "1.2.0",
            "_view_name": "LayoutView",
            "align_content": null,
            "align_items": null,
            "align_self": null,
            "border": null,
            "bottom": null,
            "display": null,
            "flex": null,
            "flex_flow": null,
            "grid_area": null,
            "grid_auto_columns": null,
            "grid_auto_flow": null,
            "grid_auto_rows": null,
            "grid_column": null,
            "grid_gap": null,
            "grid_row": null,
            "grid_template_areas": null,
            "grid_template_columns": null,
            "grid_template_rows": null,
            "height": null,
            "justify_content": null,
            "justify_items": null,
            "left": null,
            "margin": null,
            "max_height": null,
            "max_width": null,
            "min_height": null,
            "min_width": null,
            "object_fit": null,
            "object_position": null,
            "order": null,
            "overflow": null,
            "overflow_x": null,
            "overflow_y": null,
            "padding": null,
            "right": null,
            "top": null,
            "visibility": null,
            "width": null
          }
        },
        "3bd657ccfe0f4870881b234b27e35db7": {
          "model_module": "@jupyter-widgets/controls",
          "model_name": "DescriptionStyleModel",
          "model_module_version": "1.5.0",
          "state": {
            "_model_module": "@jupyter-widgets/controls",
            "_model_module_version": "1.5.0",
            "_model_name": "DescriptionStyleModel",
            "_view_count": null,
            "_view_module": "@jupyter-widgets/base",
            "_view_module_version": "1.2.0",
            "_view_name": "StyleView",
            "description_width": ""
          }
        }
      }
    }
  },
  "cells": [
    {
      "cell_type": "markdown",
      "metadata": {
        "id": "view-in-github",
        "colab_type": "text"
      },
      "source": [
        "<a href=\"https://colab.research.google.com/github/Abdevilji/python_project/blob/main/Workshop.ipynb\" target=\"_parent\"><img src=\"https://colab.research.google.com/assets/colab-badge.svg\" alt=\"Open In Colab\"/></a>"
      ]
    },
    {
      "cell_type": "markdown",
      "source": [
        "# NLP workshop: From NLTK to Semantic Search"
      ],
      "metadata": {
        "id": "qpLUMch44zj7"
      }
    },
    {
      "cell_type": "markdown",
      "source": [
        "https://shorturl.at/duU04"
      ],
      "metadata": {
        "id": "7DTfAAaLz2Xl"
      }
    },
    {
      "cell_type": "markdown",
      "source": [
        "Goals for the workshop:\n",
        "\n",
        "1. Familiarize yourself with\n",
        "    *   Colab interface\n",
        "    *   NLP libraries like NLTK, Gensim and huggingface datasets\n",
        "\n",
        "2. Understand the pipeline in any NLP task\n",
        "3. Perform Sematic Search on a wikipedia page of your choice"
      ],
      "metadata": {
        "id": "pm5BJv1IgbVs"
      }
    },
    {
      "cell_type": "markdown",
      "source": [
        "The Natural Language Toolkit, or more commonly NLTK, is a suite of libraries and programs for symbolic and statistical natural language processing for English written in the Python programming language.\n",
        "\n",
        "Make sure NLTK library is installed and download the books.\n",
        "\n"
      ],
      "metadata": {
        "id": "pVLpPf9L4sYX"
      }
    },
    {
      "cell_type": "markdown",
      "source": [
        "## Basic functions using NLTK"
      ],
      "metadata": {
        "id": "cGZSCzvP_EqF"
      }
    },
    {
      "cell_type": "code",
      "source": [
        "import nltk\n",
        "nltk.download('book')"
      ],
      "metadata": {
        "colab": {
          "base_uri": "https://localhost:8080/"
        },
        "id": "l0ZDFDi56b3Q",
        "outputId": "ee16cd6c-c086-4370-e224-b129efba0179"
      },
      "execution_count": null,
      "outputs": [
        {
          "output_type": "stream",
          "name": "stderr",
          "text": [
            "[nltk_data] Downloading collection 'book'\n",
            "[nltk_data]    | \n",
            "[nltk_data]    | Downloading package abc to /root/nltk_data...\n",
            "[nltk_data]    |   Unzipping corpora/abc.zip.\n",
            "[nltk_data]    | Downloading package brown to /root/nltk_data...\n",
            "[nltk_data]    |   Unzipping corpora/brown.zip.\n",
            "[nltk_data]    | Downloading package chat80 to /root/nltk_data...\n",
            "[nltk_data]    |   Unzipping corpora/chat80.zip.\n",
            "[nltk_data]    | Downloading package cmudict to /root/nltk_data...\n",
            "[nltk_data]    |   Unzipping corpora/cmudict.zip.\n",
            "[nltk_data]    | Downloading package conll2000 to /root/nltk_data...\n",
            "[nltk_data]    |   Unzipping corpora/conll2000.zip.\n",
            "[nltk_data]    | Downloading package conll2002 to /root/nltk_data...\n",
            "[nltk_data]    |   Unzipping corpora/conll2002.zip.\n",
            "[nltk_data]    | Downloading package dependency_treebank to\n",
            "[nltk_data]    |     /root/nltk_data...\n",
            "[nltk_data]    |   Unzipping corpora/dependency_treebank.zip.\n",
            "[nltk_data]    | Downloading package genesis to /root/nltk_data...\n",
            "[nltk_data]    |   Unzipping corpora/genesis.zip.\n",
            "[nltk_data]    | Downloading package gutenberg to /root/nltk_data...\n",
            "[nltk_data]    |   Unzipping corpora/gutenberg.zip.\n",
            "[nltk_data]    | Downloading package ieer to /root/nltk_data...\n",
            "[nltk_data]    |   Unzipping corpora/ieer.zip.\n",
            "[nltk_data]    | Downloading package inaugural to /root/nltk_data...\n",
            "[nltk_data]    |   Unzipping corpora/inaugural.zip.\n",
            "[nltk_data]    | Downloading package movie_reviews to\n",
            "[nltk_data]    |     /root/nltk_data...\n",
            "[nltk_data]    |   Unzipping corpora/movie_reviews.zip.\n",
            "[nltk_data]    | Downloading package nps_chat to /root/nltk_data...\n",
            "[nltk_data]    |   Unzipping corpora/nps_chat.zip.\n",
            "[nltk_data]    | Downloading package names to /root/nltk_data...\n",
            "[nltk_data]    |   Unzipping corpora/names.zip.\n",
            "[nltk_data]    | Downloading package ppattach to /root/nltk_data...\n",
            "[nltk_data]    |   Unzipping corpora/ppattach.zip.\n",
            "[nltk_data]    | Downloading package reuters to /root/nltk_data...\n",
            "[nltk_data]    | Downloading package senseval to /root/nltk_data...\n",
            "[nltk_data]    |   Unzipping corpora/senseval.zip.\n",
            "[nltk_data]    | Downloading package state_union to /root/nltk_data...\n",
            "[nltk_data]    |   Unzipping corpora/state_union.zip.\n",
            "[nltk_data]    | Downloading package stopwords to /root/nltk_data...\n",
            "[nltk_data]    |   Unzipping corpora/stopwords.zip.\n",
            "[nltk_data]    | Downloading package swadesh to /root/nltk_data...\n",
            "[nltk_data]    |   Unzipping corpora/swadesh.zip.\n",
            "[nltk_data]    | Downloading package timit to /root/nltk_data...\n",
            "[nltk_data]    |   Unzipping corpora/timit.zip.\n",
            "[nltk_data]    | Downloading package treebank to /root/nltk_data...\n",
            "[nltk_data]    |   Unzipping corpora/treebank.zip.\n",
            "[nltk_data]    | Downloading package toolbox to /root/nltk_data...\n",
            "[nltk_data]    |   Unzipping corpora/toolbox.zip.\n",
            "[nltk_data]    | Downloading package udhr to /root/nltk_data...\n",
            "[nltk_data]    |   Unzipping corpora/udhr.zip.\n",
            "[nltk_data]    | Downloading package udhr2 to /root/nltk_data...\n",
            "[nltk_data]    |   Unzipping corpora/udhr2.zip.\n",
            "[nltk_data]    | Downloading package unicode_samples to\n",
            "[nltk_data]    |     /root/nltk_data...\n",
            "[nltk_data]    |   Unzipping corpora/unicode_samples.zip.\n",
            "[nltk_data]    | Downloading package webtext to /root/nltk_data...\n",
            "[nltk_data]    |   Unzipping corpora/webtext.zip.\n",
            "[nltk_data]    | Downloading package wordnet to /root/nltk_data...\n",
            "[nltk_data]    | Downloading package wordnet_ic to /root/nltk_data...\n",
            "[nltk_data]    |   Unzipping corpora/wordnet_ic.zip.\n",
            "[nltk_data]    | Downloading package words to /root/nltk_data...\n",
            "[nltk_data]    |   Unzipping corpora/words.zip.\n",
            "[nltk_data]    | Downloading package maxent_treebank_pos_tagger to\n",
            "[nltk_data]    |     /root/nltk_data...\n",
            "[nltk_data]    |   Unzipping taggers/maxent_treebank_pos_tagger.zip.\n",
            "[nltk_data]    | Downloading package maxent_ne_chunker to\n",
            "[nltk_data]    |     /root/nltk_data...\n",
            "[nltk_data]    |   Unzipping chunkers/maxent_ne_chunker.zip.\n",
            "[nltk_data]    | Downloading package universal_tagset to\n",
            "[nltk_data]    |     /root/nltk_data...\n",
            "[nltk_data]    |   Unzipping taggers/universal_tagset.zip.\n",
            "[nltk_data]    | Downloading package punkt to /root/nltk_data...\n",
            "[nltk_data]    |   Unzipping tokenizers/punkt.zip.\n",
            "[nltk_data]    | Downloading package book_grammars to\n",
            "[nltk_data]    |     /root/nltk_data...\n",
            "[nltk_data]    |   Unzipping grammars/book_grammars.zip.\n",
            "[nltk_data]    | Downloading package city_database to\n",
            "[nltk_data]    |     /root/nltk_data...\n",
            "[nltk_data]    |   Unzipping corpora/city_database.zip.\n",
            "[nltk_data]    | Downloading package tagsets to /root/nltk_data...\n",
            "[nltk_data]    |   Unzipping help/tagsets.zip.\n",
            "[nltk_data]    | Downloading package panlex_swadesh to\n",
            "[nltk_data]    |     /root/nltk_data...\n",
            "[nltk_data]    | Downloading package averaged_perceptron_tagger to\n",
            "[nltk_data]    |     /root/nltk_data...\n",
            "[nltk_data]    |   Unzipping taggers/averaged_perceptron_tagger.zip.\n",
            "[nltk_data]    | \n",
            "[nltk_data]  Done downloading collection book\n"
          ]
        },
        {
          "output_type": "execute_result",
          "data": {
            "text/plain": [
              "True"
            ]
          },
          "metadata": {},
          "execution_count": 1
        }
      ]
    },
    {
      "cell_type": "markdown",
      "source": [
        "Let us get the first book and print it"
      ],
      "metadata": {
        "id": "otp_nL0x5qrR"
      }
    },
    {
      "cell_type": "code",
      "source": [
        "from nltk.book import text1\n",
        "text1"
      ],
      "metadata": {
        "colab": {
          "base_uri": "https://localhost:8080/"
        },
        "id": "V-Iuaum06d_0",
        "outputId": "ba8847b9-cedb-48f9-cb74-ac149d28e597"
      },
      "execution_count": null,
      "outputs": [
        {
          "output_type": "stream",
          "name": "stdout",
          "text": [
            "*** Introductory Examples for the NLTK Book ***\n",
            "Loading text1, ..., text9 and sent1, ..., sent9\n",
            "Type the name of the text or sentence to view it.\n",
            "Type: 'texts()' or 'sents()' to list the materials.\n",
            "text1: Moby Dick by Herman Melville 1851\n",
            "text2: Sense and Sensibility by Jane Austen 1811\n",
            "text3: The Book of Genesis\n",
            "text4: Inaugural Address Corpus\n",
            "text5: Chat Corpus\n",
            "text6: Monty Python and the Holy Grail\n",
            "text7: Wall Street Journal\n",
            "text8: Personals Corpus\n",
            "text9: The Man Who Was Thursday by G . K . Chesterton 1908\n"
          ]
        },
        {
          "output_type": "execute_result",
          "data": {
            "text/plain": [
              "<Text: Moby Dick by Herman Melville 1851>"
            ]
          },
          "metadata": {},
          "execution_count": 2
        }
      ]
    },
    {
      "cell_type": "markdown",
      "source": [
        "What datatype is the book?"
      ],
      "metadata": {
        "id": "QF6-NXwE5vVP"
      }
    },
    {
      "cell_type": "code",
      "source": [
        "type(text1)"
      ],
      "metadata": {
        "colab": {
          "base_uri": "https://localhost:8080/",
          "height": 186
        },
        "id": "mzkG7R_c79XM",
        "outputId": "918a31e5-128d-4d55-c8ac-17c1f1088ecd"
      },
      "execution_count": null,
      "outputs": [
        {
          "output_type": "execute_result",
          "data": {
            "text/plain": [
              "nltk.text.Text"
            ],
            "text/html": [
              "<div style=\"max-width:800px; border: 1px solid var(--colab-border-color);\"><style>\n",
              "      pre.function-repr-contents {\n",
              "        overflow-x: auto;\n",
              "        padding: 8px 12px;\n",
              "        max-height: 500px;\n",
              "      }\n",
              "\n",
              "      pre.function-repr-contents.function-repr-contents-collapsed {\n",
              "        cursor: pointer;\n",
              "        max-height: 100px;\n",
              "      }\n",
              "    </style>\n",
              "    <pre style=\"white-space: initial; background:\n",
              "         var(--colab-secondary-surface-color); padding: 8px 12px;\n",
              "         border-bottom: 1px solid var(--colab-border-color);\"><b>nltk.text.Text</b><br/>def __init__(tokens, name=None)</pre><pre class=\"function-repr-contents function-repr-contents-collapsed\" style=\"\"><a class=\"filepath\" style=\"display:none\" href=\"#\">/usr/local/lib/python3.10/dist-packages/nltk/text.py</a>A wrapper around a sequence of simple (string) tokens, which is\n",
              "intended to support initial exploration of texts (via the\n",
              "interactive console).  Its methods perform a variety of analyses\n",
              "on the text&#x27;s contexts (e.g., counting, concordancing, collocation\n",
              "discovery), and display the results.  If you wish to write a\n",
              "program which makes use of these analyses, then you should bypass\n",
              "the ``Text`` class, and use the appropriate analysis function or\n",
              "class directly instead.\n",
              "\n",
              "A ``Text`` is typically initialized from a given document or\n",
              "corpus.  E.g.:\n",
              "\n",
              "&gt;&gt;&gt; import nltk.corpus\n",
              "&gt;&gt;&gt; from nltk.text import Text\n",
              "&gt;&gt;&gt; moby = Text(nltk.corpus.gutenberg.words(&#x27;melville-moby_dick.txt&#x27;))</pre>\n",
              "      <script>\n",
              "      if (google.colab.kernel.accessAllowed && google.colab.files && google.colab.files.view) {\n",
              "        for (const element of document.querySelectorAll('.filepath')) {\n",
              "          element.style.display = 'block'\n",
              "          element.onclick = (event) => {\n",
              "            event.preventDefault();\n",
              "            event.stopPropagation();\n",
              "            google.colab.files.view(element.textContent, 308);\n",
              "          };\n",
              "        }\n",
              "      }\n",
              "      for (const element of document.querySelectorAll('.function-repr-contents')) {\n",
              "        element.onclick = (event) => {\n",
              "          event.preventDefault();\n",
              "          event.stopPropagation();\n",
              "          element.classList.toggle('function-repr-contents-collapsed');\n",
              "        };\n",
              "      }\n",
              "      </script>\n",
              "      </div>"
            ]
          },
          "metadata": {},
          "execution_count": 3
        }
      ]
    },
    {
      "cell_type": "code",
      "source": [
        "nltk.text.Text??"
      ],
      "metadata": {
        "id": "-BwjcYnG8Fcd"
      },
      "execution_count": null,
      "outputs": []
    },
    {
      "cell_type": "markdown",
      "source": [
        "Check for all the occurances for the word \"man\" in text.\n",
        "\n",
        "What about other words?"
      ],
      "metadata": {
        "id": "ANdY8KGu6HDU"
      }
    },
    {
      "cell_type": "code",
      "source": [
        "text1.concordance('man')"
      ],
      "metadata": {
        "colab": {
          "base_uri": "https://localhost:8080/"
        },
        "id": "uqiyWjkd6AQr",
        "outputId": "30a03c72-fcd4-470f-e164-b3464198fffd"
      },
      "execution_count": null,
      "outputs": [
        {
          "output_type": "stream",
          "name": "stdout",
          "text": [
            "Displaying 25 of 527 matches:\n",
            " Civitas ) which is but an artificial man .\" -- OPENING SENTENCE OF HOBBES ' S \n",
            "y of that sort that was killed by any man , such is his fierceness and swiftnes\n",
            "in his deepest reveries -- stand that man on his legs , set his feet a - going \n",
            "it ? The urbane activity with which a man receives money is really marvellous ,\n",
            ", and that on no account can a monied man enter heaven . Ah ! how cheerfully we\n",
            "ure truly , enough to drive a nervous man distracted . Yet was there a sort of \n",
            "ss needle sojourning in the body of a man , travelled full forty feet , and at \n",
            " him ), bustles a little withered old man , who , for their money , dearly sell\n",
            "ld put up with the half of any decent man ' s blanket . \" I thought so . All ri\n",
            "king as much noise as the rest . This man interested me at once ; and since the\n",
            " . I have seldom seen such brawn in a man . His face was deeply brown and burnt\n",
            "ions had mounted to its height , this man slipped away unobserved , and I saw n\n",
            "us to the entrance of the seamen . No man prefers to sleep two in a bed . In fa\n",
            " an uncomfortable feeling towards the man whom you design for my bedfellow -- a\n",
            "lord , that harpooneer is a dangerous man .\" \" He pays reg ' lar ,\" was the rej\n",
            "nd a papered fireboard representing a man striking a whale . Of things not prop\n",
            " me . I remembered a story of a white man -- a whaleman too -- who , falling am\n",
            "ter all ! It ' s only his outside ; a man can be honest in any sort of skin . B\n",
            "eard of a hot sun ' s tanning a white man into a purplish yellow one . However \n",
            " you sabbee me , I sabbee -- you this man sleepe you -- you sabbee ?\" \" Me sabb\n",
            "ng about , thought I to myself -- the man ' s a human being just as I am : he h\n",
            "th him . But I don ' t fancy having a man smoking in bed with me . It ' s dange\n",
            "ter of my breeding . Nevertheless , a man like Queequeg you don ' t see every d\n",
            "opriety that I ever heard of , is any man required to be private when putting o\n",
            "e more ' s the pity . So , if any one man , in his own proper person , afford s\n"
          ]
        }
      ]
    },
    {
      "cell_type": "markdown",
      "source": [
        "Visualize the occurances of words in text"
      ],
      "metadata": {
        "id": "ynnoftfx6fUx"
      }
    },
    {
      "cell_type": "code",
      "source": [
        "text1.dispersion_plot([\"man\", \"woman\",\"big\", \"small\"])"
      ],
      "metadata": {
        "colab": {
          "base_uri": "https://localhost:8080/",
          "height": 472
        },
        "id": "Fauy9xxZ6W-T",
        "outputId": "acb04fc7-574c-49f1-8380-a8d7f4e15999"
      },
      "execution_count": null,
      "outputs": [
        {
          "output_type": "display_data",
          "data": {
            "text/plain": [
              "<Figure size 640x480 with 1 Axes>"
            ],
            "image/png": "[encoded data removed]"
          },
          "metadata": {}
        }
      ]
    },
    {
      "cell_type": "markdown",
      "source": [
        "To count the number of words in text1, we can call the `len()` function"
      ],
      "metadata": {
        "id": "jGBPJNye70DI"
      }
    },
    {
      "cell_type": "code",
      "source": [
        "len(text1)"
      ],
      "metadata": {
        "colab": {
          "base_uri": "https://localhost:8080/"
        },
        "id": "vbAC8RVB6ruW",
        "outputId": "17b99477-fed2-4333-b337-446a45f7587a"
      },
      "execution_count": null,
      "outputs": [
        {
          "output_type": "execute_result",
          "data": {
            "text/plain": [
              "260819"
            ]
          },
          "metadata": {},
          "execution_count": 7
        }
      ]
    },
    {
      "cell_type": "markdown",
      "source": [
        "To get the unique words, we pass it though a set"
      ],
      "metadata": {
        "id": "AQ8V-dYw79pu"
      }
    },
    {
      "cell_type": "code",
      "source": [
        "sorted(set(text1))"
      ],
      "metadata": {
        "colab": {
          "base_uri": "https://localhost:8080/"
        },
        "id": "hhS-fhSc7s8R",
        "outputId": "f31aaa2b-771c-46f7-c614-5599d50f53b5"
      },
      "execution_count": null,
      "outputs": [
        {
          "output_type": "execute_result",
          "data": {
            "text/plain": [
              "['!',\n",
              " '!\"',\n",
              " '!\"--',\n",
              " \"!'\",\n",
              " '!\\'\"',\n",
              " '!)',\n",
              " '!)\"',\n",
              " '!*',\n",
              " '!--',\n",
              " '!--\"',\n",
              " \"!--'\",\n",
              " '\"',\n",
              " '\"\\'',\n",
              " '\"--',\n",
              " '\"...',\n",
              " '\";',\n",
              " '$',\n",
              " '&',\n",
              " \"'\",\n",
              " \"',\",\n",
              " \"',--\",\n",
              " \"'-\",\n",
              " \"'--\",\n",
              " \"';\",\n",
              " '(',\n",
              " ')',\n",
              " '),',\n",
              " ')--',\n",
              " ').',\n",
              " ').--',\n",
              " '):',\n",
              " ');',\n",
              " ');--',\n",
              " '*',\n",
              " ',',\n",
              " ',\"',\n",
              " ',\"--',\n",
              " \",'\",\n",
              " \",'--\",\n",
              " ',)',\n",
              " ',*',\n",
              " ',--',\n",
              " ',--\"',\n",
              " \",--'\",\n",
              " '-',\n",
              " '--',\n",
              " '--\"',\n",
              " \"--'\",\n",
              " '--\\'\"',\n",
              " '--(',\n",
              " '---\"',\n",
              " '---,',\n",
              " '.',\n",
              " '.\"',\n",
              " '.\"*',\n",
              " '.\"--',\n",
              " \".'\",\n",
              " '.\\'\"',\n",
              " '.)',\n",
              " '.*',\n",
              " '.*--',\n",
              " '.,',\n",
              " '.--',\n",
              " '.--\"',\n",
              " '...',\n",
              " '....',\n",
              " '.]',\n",
              " '000',\n",
              " '1',\n",
              " '10',\n",
              " '100',\n",
              " '101',\n",
              " '102',\n",
              " '103',\n",
              " '104',\n",
              " '105',\n",
              " '106',\n",
              " '107',\n",
              " '108',\n",
              " '109',\n",
              " '11',\n",
              " '110',\n",
              " '111',\n",
              " '112',\n",
              " '113',\n",
              " '114',\n",
              " '115',\n",
              " '116',\n",
              " '117',\n",
              " '118',\n",
              " '119',\n",
              " '12',\n",
              " '120',\n",
              " '121',\n",
              " '122',\n",
              " '123',\n",
              " '124',\n",
              " '125',\n",
              " '126',\n",
              " '127',\n",
              " '128',\n",
              " '129',\n",
              " '13',\n",
              " '130',\n",
              " '131',\n",
              " '132',\n",
              " '133',\n",
              " '134',\n",
              " '135',\n",
              " '14',\n",
              " '144',\n",
              " '1492',\n",
              " '15',\n",
              " '150',\n",
              " '15th',\n",
              " '16',\n",
              " '1652',\n",
              " '1668',\n",
              " '1671',\n",
              " '1690',\n",
              " '1695',\n",
              " '16th',\n",
              " '17',\n",
              " '1726',\n",
              " '1729',\n",
              " '1750',\n",
              " '1772',\n",
              " '1775',\n",
              " '1776',\n",
              " '1778',\n",
              " '1779',\n",
              " '1788',\n",
              " '1791',\n",
              " '1793',\n",
              " '18',\n",
              " '180',\n",
              " '1807',\n",
              " '1819',\n",
              " '1820',\n",
              " '1821',\n",
              " '1825',\n",
              " '1828',\n",
              " '1833',\n",
              " '1836',\n",
              " '1839',\n",
              " '1840',\n",
              " '1842',\n",
              " '1846',\n",
              " '1850',\n",
              " '1851',\n",
              " '19',\n",
              " '1ST',\n",
              " '1st',\n",
              " '2',\n",
              " '20',\n",
              " '2000',\n",
              " '200th',\n",
              " '21',\n",
              " '21st',\n",
              " '22',\n",
              " '23',\n",
              " '24',\n",
              " '25',\n",
              " '26',\n",
              " '27',\n",
              " '275th',\n",
              " '28',\n",
              " '29',\n",
              " '2ND',\n",
              " '3',\n",
              " '30',\n",
              " '31',\n",
              " '31st',\n",
              " '32',\n",
              " '33',\n",
              " '34',\n",
              " '35',\n",
              " '36',\n",
              " '37',\n",
              " '38',\n",
              " '39',\n",
              " '3D',\n",
              " '3d',\n",
              " '4',\n",
              " '40',\n",
              " '400',\n",
              " '41',\n",
              " '42',\n",
              " '43',\n",
              " '44',\n",
              " '440',\n",
              " '45',\n",
              " '46',\n",
              " '47',\n",
              " '48',\n",
              " '49',\n",
              " '4TH',\n",
              " '5',\n",
              " '50',\n",
              " '500',\n",
              " '51',\n",
              " '52',\n",
              " '53',\n",
              " '54',\n",
              " '55',\n",
              " '550',\n",
              " '56',\n",
              " '57',\n",
              " '58',\n",
              " '59',\n",
              " '5TH',\n",
              " '6',\n",
              " '60',\n",
              " '61',\n",
              " '62',\n",
              " '63',\n",
              " '64',\n",
              " '65',\n",
              " '66',\n",
              " '67',\n",
              " '68',\n",
              " '69',\n",
              " '7',\n",
              " '70',\n",
              " '71',\n",
              " '72',\n",
              " '73',\n",
              " '74',\n",
              " '75',\n",
              " '76',\n",
              " '77',\n",
              " '78',\n",
              " '79',\n",
              " '8',\n",
              " '80',\n",
              " '800',\n",
              " '81',\n",
              " '82',\n",
              " '83',\n",
              " '84',\n",
              " '85',\n",
              " '86',\n",
              " '87',\n",
              " '88',\n",
              " '89',\n",
              " '890',\n",
              " '9',\n",
              " '90',\n",
              " '91',\n",
              " '92',\n",
              " '93',\n",
              " '94',\n",
              " '95',\n",
              " '96',\n",
              " '97',\n",
              " '98',\n",
              " '99',\n",
              " ':',\n",
              " ':\"-',\n",
              " ':--',\n",
              " ':--\"',\n",
              " \":--'\",\n",
              " ';',\n",
              " ';\"',\n",
              " ';\"--',\n",
              " ';\"--(',\n",
              " \";'\",\n",
              " ';*',\n",
              " ';--',\n",
              " ';--\"',\n",
              " \";--'\",\n",
              " '?',\n",
              " '?\"',\n",
              " '?\"--',\n",
              " \"?'\",\n",
              " \"?'--'\",\n",
              " '?--',\n",
              " '?--\"',\n",
              " \"?--'\",\n",
              " 'A',\n",
              " 'ABOUT',\n",
              " 'ACCOUNT',\n",
              " 'ADDITIONAL',\n",
              " 'ADVANCING',\n",
              " 'ADVENTURES',\n",
              " 'AFFGHANISTAN',\n",
              " 'AFRICA',\n",
              " 'AFTER',\n",
              " 'AGAINST',\n",
              " 'AHAB',\n",
              " 'ALFRED',\n",
              " 'ALGERINE',\n",
              " 'ALIVE',\n",
              " 'ALL',\n",
              " 'ALONE',\n",
              " 'AM',\n",
              " 'AMERICA',\n",
              " 'AMONG',\n",
              " 'ANCHORS',\n",
              " 'AND',\n",
              " 'ANGLO',\n",
              " 'ANIMAL',\n",
              " 'ANNALS',\n",
              " 'ANNUS',\n",
              " 'ANOTHER',\n",
              " 'ANY',\n",
              " 'APOLOGY',\n",
              " 'APPLICATION',\n",
              " 'APPROACHING',\n",
              " 'ARCTIC',\n",
              " 'ARE',\n",
              " 'AROUND',\n",
              " 'AS',\n",
              " 'ASCENDING',\n",
              " 'ASIA',\n",
              " 'ASIDE',\n",
              " 'ASPECT',\n",
              " 'AT',\n",
              " 'ATTACK',\n",
              " 'ATTACKED',\n",
              " 'ATTITUDES',\n",
              " 'AUGUST',\n",
              " 'AUTHOR',\n",
              " 'AZORE',\n",
              " 'Abashed',\n",
              " 'Abednego',\n",
              " 'Abel',\n",
              " 'Abjectus',\n",
              " 'Aboard',\n",
              " 'Abominable',\n",
              " 'About',\n",
              " 'Above',\n",
              " 'Abraham',\n",
              " 'Academy',\n",
              " 'Accessory',\n",
              " 'According',\n",
              " 'Accordingly',\n",
              " 'Accursed',\n",
              " 'Achilles',\n",
              " 'Actium',\n",
              " 'Acushnet',\n",
              " 'Adam',\n",
              " 'Adieu',\n",
              " 'Adios',\n",
              " 'Admiral',\n",
              " 'Admirals',\n",
              " 'Advance',\n",
              " 'Advancement',\n",
              " 'Adventures',\n",
              " 'Adverse',\n",
              " 'Advocate',\n",
              " 'Affected',\n",
              " 'Affidavit',\n",
              " 'Affrighted',\n",
              " 'Afric',\n",
              " 'Africa',\n",
              " 'African',\n",
              " 'Africans',\n",
              " 'Aft',\n",
              " 'After',\n",
              " 'Afterwards',\n",
              " 'Again',\n",
              " 'Against',\n",
              " 'Agassiz',\n",
              " 'Ages',\n",
              " 'Ah',\n",
              " 'Ahab',\n",
              " 'Ahabs',\n",
              " 'Ahasuerus',\n",
              " 'Ahaz',\n",
              " 'Ahoy',\n",
              " 'Ain',\n",
              " 'Air',\n",
              " 'Akin',\n",
              " 'Alabama',\n",
              " 'Aladdin',\n",
              " 'Alarmed',\n",
              " 'Alas',\n",
              " 'Albatross',\n",
              " 'Albemarle',\n",
              " 'Albert',\n",
              " 'Albicore',\n",
              " 'Albino',\n",
              " 'Aldrovandi',\n",
              " 'Aldrovandus',\n",
              " 'Alexander',\n",
              " 'Alexanders',\n",
              " 'Alfred',\n",
              " 'Algerine',\n",
              " 'Algiers',\n",
              " 'Alike',\n",
              " 'Alive',\n",
              " 'All',\n",
              " 'Alleghanian',\n",
              " 'Alleghanies',\n",
              " 'Alley',\n",
              " 'Almanack',\n",
              " 'Almighty',\n",
              " 'Almost',\n",
              " 'Aloft',\n",
              " 'Alone',\n",
              " 'Alps',\n",
              " 'Already',\n",
              " 'Also',\n",
              " 'Am',\n",
              " 'Ambergriese',\n",
              " 'Ambergris',\n",
              " 'Amelia',\n",
              " 'America',\n",
              " 'American',\n",
              " 'Americans',\n",
              " 'Americas',\n",
              " 'Amittai',\n",
              " 'Among',\n",
              " 'Amsterdam',\n",
              " 'An',\n",
              " 'Anacharsis',\n",
              " 'Anak',\n",
              " 'Anatomist',\n",
              " 'And',\n",
              " 'Andes',\n",
              " 'Andrew',\n",
              " 'Andromeda',\n",
              " 'Angel',\n",
              " 'Angelo',\n",
              " 'Angels',\n",
              " 'Animated',\n",
              " 'Annawon',\n",
              " 'Anne',\n",
              " 'Anno',\n",
              " 'Anomalous',\n",
              " 'Another',\n",
              " 'Answer',\n",
              " 'Antarctic',\n",
              " 'Antilles',\n",
              " 'Antiochus',\n",
              " 'Antony',\n",
              " 'Antwerp',\n",
              " 'Anvil',\n",
              " 'Any',\n",
              " 'Anyhow',\n",
              " 'Anything',\n",
              " 'Anyway',\n",
              " 'Apollo',\n",
              " 'Apoplexy',\n",
              " 'Applied',\n",
              " 'Apply',\n",
              " 'April',\n",
              " 'Aquarius',\n",
              " 'Arch',\n",
              " 'Archbishop',\n",
              " 'Arched',\n",
              " 'Archer',\n",
              " 'Archipelagoes',\n",
              " 'Archy',\n",
              " 'Arctic',\n",
              " 'Are',\n",
              " 'Arethusa',\n",
              " 'Argo',\n",
              " 'Aries',\n",
              " 'Arion',\n",
              " 'Aristotle',\n",
              " 'Ark',\n",
              " 'Arkansas',\n",
              " 'Arkite',\n",
              " 'Arm',\n",
              " 'Armada',\n",
              " 'Arnold',\n",
              " 'Aroostook',\n",
              " 'Around',\n",
              " 'Arrayed',\n",
              " 'Arrived',\n",
              " 'Arsacidean',\n",
              " 'Arsacides',\n",
              " 'Art',\n",
              " 'Artedi',\n",
              " 'Arter',\n",
              " 'Articles',\n",
              " 'As',\n",
              " 'Asa',\n",
              " 'Ashantee',\n",
              " 'Ashore',\n",
              " 'Asia',\n",
              " 'Asiatic',\n",
              " 'Asiatics',\n",
              " 'Aside',\n",
              " 'Asphaltites',\n",
              " 'Assaulted',\n",
              " 'Assume',\n",
              " 'Assuming',\n",
              " 'Assuredly',\n",
              " 'Assyrian',\n",
              " 'Astern',\n",
              " 'Astir',\n",
              " 'Astronomy',\n",
              " 'At',\n",
              " 'Atlantic',\n",
              " 'Atlantics',\n",
              " 'Attached',\n",
              " 'Attend',\n",
              " 'August',\n",
              " 'Aunt',\n",
              " 'Australia',\n",
              " 'Australian',\n",
              " 'Austrian',\n",
              " 'Author',\n",
              " 'Authors',\n",
              " 'Auto',\n",
              " 'Availing',\n",
              " 'Avast',\n",
              " 'Avatar',\n",
              " 'Aware',\n",
              " 'Away',\n",
              " 'Awful',\n",
              " 'Ay',\n",
              " 'Aye',\n",
              " 'Azores',\n",
              " 'BACK',\n",
              " 'BACKED',\n",
              " 'BACON',\n",
              " 'BALEINE',\n",
              " 'BALLENA',\n",
              " 'BANKS',\n",
              " 'BARON',\n",
              " 'BATTLE',\n",
              " 'BE',\n",
              " 'BEALE',\n",
              " 'BEFORE',\n",
              " 'BEING',\n",
              " 'BELFAST',\n",
              " 'BELOW',\n",
              " 'BENCH',\n",
              " 'BENNETT',\n",
              " 'BERMUDAS',\n",
              " 'BETWEEN',\n",
              " 'BEWARE',\n",
              " 'BIOGRAPHY',\n",
              " 'BIT',\n",
              " 'BLACK',\n",
              " 'BLACKSMITH',\n",
              " 'BLACKSTONE',\n",
              " 'BLOOD',\n",
              " 'BLOODY',\n",
              " 'BLOWS',\n",
              " 'BOARD',\n",
              " 'BOAT',\n",
              " 'BOATS',\n",
              " 'BOOK',\n",
              " 'BOOKS',\n",
              " 'BOSOM',\n",
              " 'BOTTOM',\n",
              " 'BOUTON',\n",
              " 'BRACE',\n",
              " 'BRACTON',\n",
              " 'BREACH',\n",
              " 'BREAKERS',\n",
              " 'BREAKWATER',\n",
              " 'BRIT',\n",
              " 'BROKE',\n",
              " 'BROTHER',\n",
              " 'BROWN',\n",
              " 'BROWNE',\n",
              " 'BURKE',\n",
              " 'BURST',\n",
              " 'BUSILY',\n",
              " 'BY',\n",
              " 'Babel',\n",
              " 'Babylon',\n",
              " 'Babylonian',\n",
              " 'Bachelor',\n",
              " 'Back',\n",
              " 'Backs',\n",
              " 'Bad',\n",
              " 'Baden',\n",
              " 'Bag',\n",
              " 'Balaene',\n",
              " 'Baliene',\n",
              " 'Baling',\n",
              " 'Bally',\n",
              " 'Baltic',\n",
              " 'Baltimore',\n",
              " 'Bamboo',\n",
              " 'Bang',\n",
              " 'Banks',\n",
              " 'Barbary',\n",
              " 'Bare',\n",
              " 'Bargain',\n",
              " 'Baron',\n",
              " 'Barrens',\n",
              " 'Bartholomew',\n",
              " 'Base',\n",
              " 'Bashaw',\n",
              " 'Bashee',\n",
              " 'Basilosaurus',\n",
              " 'Bastille',\n",
              " 'Battering',\n",
              " 'Battery',\n",
              " 'Bay',\n",
              " 'Bays',\n",
              " 'Be',\n",
              " 'Beach',\n",
              " 'Beale',\n",
              " 'Beams',\n",
              " 'Bear',\n",
              " 'Bears',\n",
              " 'Beat',\n",
              " 'Because',\n",
              " 'Becket',\n",
              " 'Bedford',\n",
              " 'Beelzebub',\n",
              " 'Befooled',\n",
              " 'Before',\n",
              " 'Begone',\n",
              " 'Behold',\n",
              " 'Behring',\n",
              " 'Being',\n",
              " 'Belated',\n",
              " 'Belial',\n",
              " 'Believe',\n",
              " 'Belisarius',\n",
              " 'Bell',\n",
              " 'Bellies',\n",
              " 'Beloved',\n",
              " 'Below',\n",
              " 'Belshazzar',\n",
              " 'Belubed',\n",
              " 'Bench',\n",
              " 'Bendigoes',\n",
              " 'Beneath',\n",
              " 'Bengal',\n",
              " 'Benjamin',\n",
              " 'Bennett',\n",
              " 'Bentham',\n",
              " 'Berkshire',\n",
              " 'Berlin',\n",
              " 'Bernard',\n",
              " 'Besides',\n",
              " 'Bess',\n",
              " 'Best',\n",
              " 'Bestow',\n",
              " 'Bethink',\n",
              " 'Better',\n",
              " 'Betty',\n",
              " 'Between',\n",
              " 'Beware',\n",
              " 'Beyond',\n",
              " 'Bible',\n",
              " 'Bibles',\n",
              " 'Bibliographical',\n",
              " 'Bildad',\n",
              " 'Biographical',\n",
              " 'Birmah',\n",
              " 'Bishop',\n",
              " 'Bite',\n",
              " 'Black',\n",
              " 'Blacksmith',\n",
              " 'Blackstone',\n",
              " 'Blanc',\n",
              " 'Blanche',\n",
              " 'Blanco',\n",
              " 'Blang',\n",
              " 'Blanket',\n",
              " 'Blast',\n",
              " 'Bless',\n",
              " 'Blind',\n",
              " 'Blinding',\n",
              " 'Blocksburg',\n",
              " 'Blood',\n",
              " 'Bloody',\n",
              " 'Blue',\n",
              " 'Boat',\n",
              " 'Boats',\n",
              " 'Bobbing',\n",
              " 'Bolivia',\n",
              " 'Bombay',\n",
              " 'Bonapartes',\n",
              " 'Bone',\n",
              " 'Bones',\n",
              " 'Bonneterre',\n",
              " 'Booble',\n",
              " 'Book',\n",
              " 'Boomer',\n",
              " 'Boone',\n",
              " 'Bordeaux',\n",
              " 'Borean',\n",
              " 'Born',\n",
              " 'Borneo',\n",
              " 'Bosom',\n",
              " 'Boston',\n",
              " 'Both',\n",
              " 'Bottle',\n",
              " 'Bottom',\n",
              " 'Bourbons',\n",
              " 'Bout',\n",
              " 'Bouton',\n",
              " 'Bowditch',\n",
              " 'Bower',\n",
              " 'Boy',\n",
              " 'Boys',\n",
              " 'Brace',\n",
              " 'Brahma',\n",
              " 'Brahmins',\n",
              " 'Brandreth',\n",
              " 'Brazil',\n",
              " 'Breakfast',\n",
              " 'Bremen',\n",
              " 'Bress',\n",
              " 'Bridge',\n",
              " 'Brighggians',\n",
              " 'Bright',\n",
              " 'Bring',\n",
              " 'Brisson',\n",
              " 'Brit',\n",
              " 'Britain',\n",
              " 'British',\n",
              " 'Britons',\n",
              " 'Broad',\n",
              " 'Broadway',\n",
              " 'Broke',\n",
              " 'Brother',\n",
              " 'Browne',\n",
              " 'Brute',\n",
              " 'Buckets',\n",
              " 'Bud',\n",
              " 'Buffalo',\n",
              " 'Bulkington',\n",
              " 'Bull',\n",
              " 'Bulwarks',\n",
              " 'Bunger',\n",
              " 'Bungle',\n",
              " 'Bunyan',\n",
              " 'Buoy',\n",
              " 'Buoyed',\n",
              " 'Burke',\n",
              " 'Burkes',\n",
              " 'Burst',\n",
              " 'Burton',\n",
              " 'Burtons',\n",
              " 'Business',\n",
              " 'But',\n",
              " 'Butchers',\n",
              " 'Butler',\n",
              " 'By',\n",
              " 'Byward',\n",
              " 'C',\n",
              " 'CABIN',\n",
              " 'CABINET',\n",
              " 'CANNY',\n",
              " 'CAP',\n",
              " 'CAPTAIN',\n",
              " 'CAPTAINS',\n",
              " 'CAPTORS',\n",
              " 'CARPENTER',\n",
              " 'CATCHES',\n",
              " 'CAULKING',\n",
              " 'CEASE',\n",
              " 'CETI',\n",
              " 'CETUS',\n",
              " 'CHACE',\n",
              " 'CHAPTER',\n",
              " 'CHAPTERS',\n",
              " 'CHARLES',\n",
              " 'CHEERLY',\n",
              " 'CHEEVER',\n",
              " 'CHIEF',\n",
              " 'CHINA',\n",
              " 'CHOP',\n",
              " 'CHORUS',\n",
              " 'CHRONICLER',\n",
              " 'CIRCUMNAVIGATION',\n",
              " 'CLEAN',\n",
              " 'CLOSES',\n",
              " 'CLUSTERS',\n",
              " 'COFFIN',\n",
              " 'COILS',\n",
              " 'COLEMAN',\n",
              " 'COLL',\n",
              " 'COLNETT',\n",
              " 'COMES',\n",
              " 'COMMERCIAL',\n",
              " 'COMMODORE',\n",
              " 'COMSTOCK',\n",
              " 'CONTESTED',\n",
              " 'CONTINUES',\n",
              " 'CONVERSATIONS',\n",
              " 'COOK',\n",
              " 'COOPER',\n",
              " 'COWLEY',\n",
              " 'COWPER',\n",
              " 'CREWS',\n",
              " 'CROW',\n",
              " 'CRUISE',\n",
              " 'CRUISING',\n",
              " 'CRUIZE',\n",
              " 'CURRENTS',\n",
              " 'CUVIER',\n",
              " 'Cabaco',\n",
              " 'Cabin',\n",
              " 'Cachalot',\n",
              " 'Cadiz',\n",
              " 'Caesar',\n",
              " 'Caesarian',\n",
              " 'Cain',\n",
              " 'Calais',\n",
              " 'Californian',\n",
              " 'Call',\n",
              " 'Callao',\n",
              " 'Cambyses',\n",
              " 'Camel',\n",
              " 'Campagna',\n",
              " 'Can',\n",
              " 'Canaan',\n",
              " 'Canada',\n",
              " 'Canadian',\n",
              " 'Canal',\n",
              " 'Canaller',\n",
              " 'Canallers',\n",
              " 'Canals',\n",
              " 'Canaris',\n",
              " 'Cancer',\n",
              " 'Candles',\n",
              " 'Cannibal',\n",
              " 'Cannibals',\n",
              " 'Cannon',\n",
              " 'Canst',\n",
              " 'Cant',\n",
              " 'Canterbury',\n",
              " 'Cap',\n",
              " 'Cape',\n",
              " 'Capes',\n",
              " 'Capricornus',\n",
              " 'Captain',\n",
              " 'Captains',\n",
              " 'Capting',\n",
              " 'Caramba',\n",
              " 'Careful',\n",
              " 'Carefully',\n",
              " 'Carey',\n",
              " 'Carpenter',\n",
              " 'Carpet',\n",
              " 'Carrol',\n",
              " 'Carson',\n",
              " 'Carthage',\n",
              " 'Caryatid',\n",
              " 'Case',\n",
              " 'Cash',\n",
              " 'Cassock',\n",
              " 'Castaway',\n",
              " 'Castle',\n",
              " 'Categut',\n",
              " 'Cathedral',\n",
              " 'Catholic',\n",
              " 'Cato',\n",
              " 'Catskill',\n",
              " 'Cattegat',\n",
              " 'Caught',\n",
              " 'Cave',\n",
              " 'Caw',\n",
              " 'Cellini',\n",
              " 'Central',\n",
              " 'Certain',\n",
              " 'Certainly',\n",
              " 'Cervantes',\n",
              " 'Cetacea',\n",
              " 'Cetacean',\n",
              " 'Cetology',\n",
              " 'Cetus',\n",
              " 'Ceylon',\n",
              " 'Chace',\n",
              " 'Chaldee',\n",
              " 'Champagne',\n",
              " 'Champollion',\n",
              " 'Channel',\n",
              " 'Chapel',\n",
              " 'Charing',\n",
              " 'Charity',\n",
              " 'Charlemagne',\n",
              " 'Charley',\n",
              " 'Chart',\n",
              " 'Chartering',\n",
              " 'Chase',\n",
              " 'Cheever',\n",
              " 'Cherries',\n",
              " 'Chestnut',\n",
              " 'Chief',\n",
              " 'Childe',\n",
              " 'Chili',\n",
              " 'Chilian',\n",
              " 'China',\n",
              " 'Chinese',\n",
              " 'Cholo',\n",
              " 'Chowder',\n",
              " 'Christ',\n",
              " 'Christendom',\n",
              " 'Christian',\n",
              " 'Christianity',\n",
              " 'Christians',\n",
              " 'Christmas',\n",
              " 'Church',\n",
              " 'Cinque',\n",
              " 'Circassian',\n",
              " 'Circumambulate',\n",
              " 'Cistern',\n",
              " 'Civitas',\n",
              " 'Clam',\n",
              " 'Clap',\n",
              " 'Claus',\n",
              " 'Clay',\n",
              " 'Clear',\n",
              " 'Clearing',\n",
              " 'Cleopatra',\n",
              " 'Cleveland',\n",
              " 'Clifford',\n",
              " 'Clinging',\n",
              " 'Clootz',\n",
              " 'Close',\n",
              " 'Closing',\n",
              " 'Cloud',\n",
              " 'Cluny',\n",
              " 'Coast',\n",
              " 'Cock',\n",
              " 'Cockatoo',\n",
              " 'Cod',\n",
              " 'Cods',\n",
              " 'Coenties',\n",
              " 'Coffin',\n",
              " 'Coffins',\n",
              " 'Cognac',\n",
              " 'Coke',\n",
              " 'Cold',\n",
              " 'Coleman',\n",
              " 'Coleridge',\n",
              " 'College',\n",
              " 'Colnett',\n",
              " 'Cologne',\n",
              " 'Colonies',\n",
              " 'Colossus',\n",
              " 'Columbus',\n",
              " 'Come',\n",
              " 'Coming',\n",
              " 'Commanded',\n",
              " 'Commanders',\n",
              " 'Commend',\n",
              " 'Commodore',\n",
              " 'Commodores',\n",
              " 'Common',\n",
              " 'Commonly',\n",
              " 'Commons',\n",
              " 'Commonwealth',\n",
              " 'Companies',\n",
              " 'Comparing',\n",
              " 'Concerning',\n",
              " 'Congo',\n",
              " 'Congregation',\n",
              " 'Congregational',\n",
              " 'Conjuror',\n",
              " 'Connecticut',\n",
              " 'Consequently',\n",
              " 'Consider',\n",
              " 'Considering',\n",
              " 'Constable',\n",
              " 'Constantine',\n",
              " 'Constantinople',\n",
              " 'Consumptive',\n",
              " 'Continents',\n",
              " 'Contrasted',\n",
              " 'Conversation',\n",
              " 'Convulsively',\n",
              " 'Cook',\n",
              " 'Cooke',\n",
              " 'Cooks',\n",
              " 'Cooper',\n",
              " 'Coopman',\n",
              " 'Copenhagen',\n",
              " 'Coppered',\n",
              " 'Corinthians',\n",
              " 'Corkscrew',\n",
              " 'Corlaer',\n",
              " 'Corlears',\n",
              " 'Coronation',\n",
              " 'Corresponding',\n",
              " 'Corrupt',\n",
              " 'Cough',\n",
              " 'Could',\n",
              " 'Count',\n",
              " 'Counterpane',\n",
              " 'County',\n",
              " 'Court',\n",
              " 'Cousin',\n",
              " 'Cowper',\n",
              " 'Crab',\n",
              " 'Crack',\n",
              " 'Crammer',\n",
              " 'Crappo',\n",
              " 'Crappoes',\n",
              " 'Crazed',\n",
              " 'Creagh',\n",
              " 'Created',\n",
              " 'Cretan',\n",
              " 'Crete',\n",
              " ...]"
            ]
          },
          "metadata": {},
          "execution_count": 8
        }
      ]
    },
    {
      "cell_type": "code",
      "source": [
        "len(sorted(set(text1)))"
      ],
      "metadata": {
        "colab": {
          "base_uri": "https://localhost:8080/"
        },
        "id": "tMROJpWz7uFI",
        "outputId": "f6fc093f-e5dc-4eb6-9a7b-4e34fadd5a6b"
      },
      "execution_count": null,
      "outputs": [
        {
          "output_type": "execute_result",
          "data": {
            "text/plain": [
              "19317"
            ]
          },
          "metadata": {},
          "execution_count": 9
        }
      ]
    },
    {
      "cell_type": "markdown",
      "source": [
        "To count the occurances of a word in text"
      ],
      "metadata": {
        "id": "r8_fGinI8Got"
      }
    },
    {
      "cell_type": "code",
      "source": [
        "text1.count(\"big\")"
      ],
      "metadata": {
        "colab": {
          "base_uri": "https://localhost:8080/"
        },
        "id": "adwlMzAX7wEs",
        "outputId": "1aad3d42-510a-476f-e5df-b885080e978e"
      },
      "execution_count": null,
      "outputs": [
        {
          "output_type": "execute_result",
          "data": {
            "text/plain": [
              "13"
            ]
          },
          "metadata": {},
          "execution_count": 10
        }
      ]
    },
    {
      "cell_type": "markdown",
      "source": [
        "To get the Frequency Distribution of words in the text"
      ],
      "metadata": {
        "id": "mnH-f2SP8Uud"
      }
    },
    {
      "cell_type": "code",
      "source": [
        "from nltk.probability import FreqDist\n",
        "FreqDist(text1)"
      ],
      "metadata": {
        "colab": {
          "base_uri": "https://localhost:8080/"
        },
        "id": "Hiw9NGPp8JAR",
        "outputId": "d2de43e0-ef07-4629-d940-e4c20a3c60af"
      },
      "execution_count": null,
      "outputs": [
        {
          "output_type": "execute_result",
          "data": {
            "text/plain": [
              "FreqDist({',': 18713, 'the': 13721, '.': 6862, 'of': 6536, 'and': 6024, 'a': 4569, 'to': 4542, ';': 4072, 'in': 3916, 'that': 2982, ...})"
            ]
          },
          "metadata": {},
          "execution_count": 11
        }
      ]
    },
    {
      "cell_type": "markdown",
      "source": [
        "Remove the punctuations"
      ],
      "metadata": {
        "id": "CaHRaFIz9772"
      }
    },
    {
      "cell_type": "code",
      "source": [
        "import string\n",
        "string.punctuation"
      ],
      "metadata": {
        "colab": {
          "base_uri": "https://localhost:8080/",
          "height": 35
        },
        "id": "gZ3eJs0G9-vg",
        "outputId": "6b9171f4-8265-4e58-92bf-3cf08b13f7fd"
      },
      "execution_count": null,
      "outputs": [
        {
          "output_type": "execute_result",
          "data": {
            "text/plain": [
              "'!\"#$%&\\'()*+,-./:;<=>?@[\\\\]^_`{|}~'"
            ],
            "application/vnd.google.colaboratory.intrinsic+json": {
              "type": "string"
            }
          },
          "metadata": {},
          "execution_count": 12
        }
      ]
    },
    {
      "cell_type": "code",
      "source": [
        "len_before_filtering = len(text1)\n",
        "filtered_words = [word for word in text1 if word not in string.punctuation]\n",
        "len_after_filtering = len(filtered_words)\n",
        "\n",
        "len_before_filtering, len_after_filtering"
      ],
      "metadata": {
        "colab": {
          "base_uri": "https://localhost:8080/"
        },
        "id": "90vS4FCa-CVK",
        "outputId": "7f8068d5-e552-4ba4-8d9b-96dfb348c27d"
      },
      "execution_count": null,
      "outputs": [
        {
          "output_type": "execute_result",
          "data": {
            "text/plain": [
              "(260819, 221767)"
            ]
          },
          "metadata": {},
          "execution_count": 13
        }
      ]
    },
    {
      "cell_type": "code",
      "source": [
        "from nltk.text import Text\n",
        "filtered_text1 = Text(filtered_words)"
      ],
      "metadata": {
        "id": "qHcj8zfN-FWh"
      },
      "execution_count": null,
      "outputs": []
    },
    {
      "cell_type": "code",
      "source": [
        "FreqDist(filtered_text1)"
      ],
      "metadata": {
        "colab": {
          "base_uri": "https://localhost:8080/"
        },
        "id": "Iy9dwYwO-I2h",
        "outputId": "f6362a66-85a0-40a2-bad6-f99dcebdf93d"
      },
      "execution_count": null,
      "outputs": [
        {
          "output_type": "execute_result",
          "data": {
            "text/plain": [
              "FreqDist({'the': 13721, 'of': 6536, 'and': 6024, 'a': 4569, 'to': 4542, 'in': 3916, 'that': 2982, 'his': 2459, 'it': 2209, 'I': 2124, ...})"
            ]
          },
          "metadata": {},
          "execution_count": 15
        }
      ]
    },
    {
      "cell_type": "markdown",
      "source": [
        "## Stopword Removal\n",
        "Download stopwords and use them to remove unnecessary words from the text"
      ],
      "metadata": {
        "id": "vuICVsJq-TkY"
      }
    },
    {
      "cell_type": "code",
      "source": [
        "import nltk\n",
        "nltk.download('stopwords')"
      ],
      "metadata": {
        "colab": {
          "base_uri": "https://localhost:8080/"
        },
        "id": "Siajm9PV-LOo",
        "outputId": "f582eff2-88a7-4c19-8a71-b0fac47dcb6f"
      },
      "execution_count": null,
      "outputs": [
        {
          "output_type": "stream",
          "name": "stderr",
          "text": [
            "[nltk_data] Downloading package stopwords to /root/nltk_data...\n",
            "[nltk_data]   Package stopwords is already up-to-date!\n"
          ]
        },
        {
          "output_type": "execute_result",
          "data": {
            "text/plain": [
              "True"
            ]
          },
          "metadata": {},
          "execution_count": 16
        }
      ]
    },
    {
      "cell_type": "code",
      "source": [
        "!ls /root/nltk_data/corpora/stopwords"
      ],
      "metadata": {
        "colab": {
          "base_uri": "https://localhost:8080/"
        },
        "id": "lFa0LFFf-bpC",
        "outputId": "d580092d-3860-4ff3-b024-8b162f488ec0"
      },
      "execution_count": null,
      "outputs": [
        {
          "output_type": "stream",
          "name": "stdout",
          "text": [
            "arabic\t     catalan  english  greek\t  indonesian  norwegian   russian  tajik\n",
            "azerbaijani  chinese  finnish  hebrew\t  italian     portuguese  slovene  turkish\n",
            "basque\t     danish   french   hinglish   kazakh      README\t  spanish\n",
            "bengali      dutch    german   hungarian  nepali      romanian\t  swedish\n"
          ]
        }
      ]
    },
    {
      "cell_type": "code",
      "source": [
        "from nltk.corpus import stopwords\n",
        "stopwords.words('english')"
      ],
      "metadata": {
        "id": "4aQagmQS-TLl",
        "colab": {
          "base_uri": "https://localhost:8080/"
        },
        "outputId": "dfdb1979-2a79-4ccb-b5f7-317f65d67e92"
      },
      "execution_count": null,
      "outputs": [
        {
          "output_type": "execute_result",
          "data": {
            "text/plain": [
              "['i',\n",
              " 'me',\n",
              " 'my',\n",
              " 'myself',\n",
              " 'we',\n",
              " 'our',\n",
              " 'ours',\n",
              " 'ourselves',\n",
              " 'you',\n",
              " \"you're\",\n",
              " \"you've\",\n",
              " \"you'll\",\n",
              " \"you'd\",\n",
              " 'your',\n",
              " 'yours',\n",
              " 'yourself',\n",
              " 'yourselves',\n",
              " 'he',\n",
              " 'him',\n",
              " 'his',\n",
              " 'himself',\n",
              " 'she',\n",
              " \"she's\",\n",
              " 'her',\n",
              " 'hers',\n",
              " 'herself',\n",
              " 'it',\n",
              " \"it's\",\n",
              " 'its',\n",
              " 'itself',\n",
              " 'they',\n",
              " 'them',\n",
              " 'their',\n",
              " 'theirs',\n",
              " 'themselves',\n",
              " 'what',\n",
              " 'which',\n",
              " 'who',\n",
              " 'whom',\n",
              " 'this',\n",
              " 'that',\n",
              " \"that'll\",\n",
              " 'these',\n",
              " 'those',\n",
              " 'am',\n",
              " 'is',\n",
              " 'are',\n",
              " 'was',\n",
              " 'were',\n",
              " 'be',\n",
              " 'been',\n",
              " 'being',\n",
              " 'have',\n",
              " 'has',\n",
              " 'had',\n",
              " 'having',\n",
              " 'do',\n",
              " 'does',\n",
              " 'did',\n",
              " 'doing',\n",
              " 'a',\n",
              " 'an',\n",
              " 'the',\n",
              " 'and',\n",
              " 'but',\n",
              " 'if',\n",
              " 'or',\n",
              " 'because',\n",
              " 'as',\n",
              " 'until',\n",
              " 'while',\n",
              " 'of',\n",
              " 'at',\n",
              " 'by',\n",
              " 'for',\n",
              " 'with',\n",
              " 'about',\n",
              " 'against',\n",
              " 'between',\n",
              " 'into',\n",
              " 'through',\n",
              " 'during',\n",
              " 'before',\n",
              " 'after',\n",
              " 'above',\n",
              " 'below',\n",
              " 'to',\n",
              " 'from',\n",
              " 'up',\n",
              " 'down',\n",
              " 'in',\n",
              " 'out',\n",
              " 'on',\n",
              " 'off',\n",
              " 'over',\n",
              " 'under',\n",
              " 'again',\n",
              " 'further',\n",
              " 'then',\n",
              " 'once',\n",
              " 'here',\n",
              " 'there',\n",
              " 'when',\n",
              " 'where',\n",
              " 'why',\n",
              " 'how',\n",
              " 'all',\n",
              " 'any',\n",
              " 'both',\n",
              " 'each',\n",
              " 'few',\n",
              " 'more',\n",
              " 'most',\n",
              " 'other',\n",
              " 'some',\n",
              " 'such',\n",
              " 'no',\n",
              " 'nor',\n",
              " 'not',\n",
              " 'only',\n",
              " 'own',\n",
              " 'same',\n",
              " 'so',\n",
              " 'than',\n",
              " 'too',\n",
              " 'very',\n",
              " 's',\n",
              " 't',\n",
              " 'can',\n",
              " 'will',\n",
              " 'just',\n",
              " 'don',\n",
              " \"don't\",\n",
              " 'should',\n",
              " \"should've\",\n",
              " 'now',\n",
              " 'd',\n",
              " 'll',\n",
              " 'm',\n",
              " 'o',\n",
              " 're',\n",
              " 've',\n",
              " 'y',\n",
              " 'ain',\n",
              " 'aren',\n",
              " \"aren't\",\n",
              " 'couldn',\n",
              " \"couldn't\",\n",
              " 'didn',\n",
              " \"didn't\",\n",
              " 'doesn',\n",
              " \"doesn't\",\n",
              " 'hadn',\n",
              " \"hadn't\",\n",
              " 'hasn',\n",
              " \"hasn't\",\n",
              " 'haven',\n",
              " \"haven't\",\n",
              " 'isn',\n",
              " \"isn't\",\n",
              " 'ma',\n",
              " 'mightn',\n",
              " \"mightn't\",\n",
              " 'mustn',\n",
              " \"mustn't\",\n",
              " 'needn',\n",
              " \"needn't\",\n",
              " 'shan',\n",
              " \"shan't\",\n",
              " 'shouldn',\n",
              " \"shouldn't\",\n",
              " 'wasn',\n",
              " \"wasn't\",\n",
              " 'weren',\n",
              " \"weren't\",\n",
              " 'won',\n",
              " \"won't\",\n",
              " 'wouldn',\n",
              " \"wouldn't\"]"
            ]
          },
          "metadata": {},
          "execution_count": 18
        }
      ]
    },
    {
      "cell_type": "code",
      "source": [
        "len_before_filtering = len(text1)\n",
        "filtered_words = [word for word in text1 if word not in string.punctuation]\n",
        "filtered_words = [word for word in filtered_words if word.lower() not in stopwords.words('english') and len(word) > 2]\n",
        "len_after_filtering = len(filtered_words)\n",
        "\n",
        "len_before_filtering, len_after_filtering"
      ],
      "metadata": {
        "colab": {
          "base_uri": "https://localhost:8080/"
        },
        "id": "yLYZQIAD-mP1",
        "outputId": "85abe09f-08c8-406e-c5c4-af6bcc4cb495"
      },
      "execution_count": null,
      "outputs": [
        {
          "output_type": "execute_result",
          "data": {
            "text/plain": [
              "(260819, 109707)"
            ]
          },
          "metadata": {},
          "execution_count": 19
        }
      ]
    },
    {
      "cell_type": "code",
      "source": [
        "from nltk.text import Text\n",
        "filtered_text1 = Text(filtered_words)\n",
        "FreqDist(filtered_text1)"
      ],
      "metadata": {
        "colab": {
          "base_uri": "https://localhost:8080/"
        },
        "id": "Q5SViWsG-qJz",
        "outputId": "b4683699-49e9-4b3f-a745-07c130bade76"
      },
      "execution_count": null,
      "outputs": [
        {
          "output_type": "execute_result",
          "data": {
            "text/plain": [
              "FreqDist({'whale': 906, 'one': 889, 'like': 624, 'upon': 538, 'man': 508, 'ship': 507, 'Ahab': 501, 'old': 436, 'sea': 433, 'would': 421, ...})"
            ]
          },
          "metadata": {},
          "execution_count": 20
        }
      ]
    },
    {
      "cell_type": "code",
      "source": [
        "FreqDist(filtered_text1).most_common(20)"
      ],
      "metadata": {
        "colab": {
          "base_uri": "https://localhost:8080/"
        },
        "id": "BgXlQArM-rgk",
        "outputId": "eab78d6f-6155-43e6-8ef5-42cbae8ab29e"
      },
      "execution_count": null,
      "outputs": [
        {
          "output_type": "execute_result",
          "data": {
            "text/plain": [
              "[('whale', 906),\n",
              " ('one', 889),\n",
              " ('like', 624),\n",
              " ('upon', 538),\n",
              " ('man', 508),\n",
              " ('ship', 507),\n",
              " ('Ahab', 501),\n",
              " ('old', 436),\n",
              " ('sea', 433),\n",
              " ('would', 421),\n",
              " ('head', 335),\n",
              " ('though', 335),\n",
              " ('boat', 330),\n",
              " ('time', 324),\n",
              " ('long', 318),\n",
              " ('said', 302),\n",
              " ('yet', 300),\n",
              " ('still', 299),\n",
              " ('great', 293),\n",
              " ('two', 285)]"
            ]
          },
          "metadata": {},
          "execution_count": 21
        }
      ]
    },
    {
      "cell_type": "markdown",
      "source": [
        "## Stemming\n",
        "Stemming is a text processing task in which you reduce words to their root, which is the core part of a word. For example, the words “helping” and “helper” share the root “help.”"
      ],
      "metadata": {
        "id": "fOks7Ui2_AT2"
      }
    },
    {
      "cell_type": "code",
      "source": [
        "from nltk.stem import PorterStemmer\n",
        "stemmer = PorterStemmer()"
      ],
      "metadata": {
        "id": "xnMqJyMK-8l5"
      },
      "execution_count": null,
      "outputs": []
    },
    {
      "cell_type": "code",
      "source": [
        "stemmer.stem('running')"
      ],
      "metadata": {
        "colab": {
          "base_uri": "https://localhost:8080/",
          "height": 35
        },
        "id": "34bVcZMg_WgF",
        "outputId": "065d6bd9-46dd-4e35-a8a2-d208b740d4ab"
      },
      "execution_count": null,
      "outputs": [
        {
          "output_type": "execute_result",
          "data": {
            "text/plain": [
              "'run'"
            ],
            "application/vnd.google.colaboratory.intrinsic+json": {
              "type": "string"
            }
          },
          "metadata": {},
          "execution_count": 23
        }
      ]
    },
    {
      "cell_type": "code",
      "source": [
        "block = \"\"\"\n",
        "If you go for running every morning, you will be healthier.\n",
        "Or you shall suffer from obesity\"\"\""
      ],
      "metadata": {
        "id": "VGOQhfK3_YZK"
      },
      "execution_count": null,
      "outputs": []
    },
    {
      "cell_type": "code",
      "source": [
        "[stemmer.stem(word) for word in block.split()]"
      ],
      "metadata": {
        "colab": {
          "base_uri": "https://localhost:8080/"
        },
        "id": "x8tlWU6K_Z-T",
        "outputId": "6792cb26-8876-4835-e1f2-989425acb8e5"
      },
      "execution_count": null,
      "outputs": [
        {
          "output_type": "execute_result",
          "data": {
            "text/plain": [
              "['if',\n",
              " 'you',\n",
              " 'go',\n",
              " 'for',\n",
              " 'run',\n",
              " 'everi',\n",
              " 'morning,',\n",
              " 'you',\n",
              " 'will',\n",
              " 'be',\n",
              " 'healthier.',\n",
              " 'or',\n",
              " 'you',\n",
              " 'shall',\n",
              " 'suffer',\n",
              " 'from',\n",
              " 'obes']"
            ]
          },
          "metadata": {},
          "execution_count": 25
        }
      ]
    },
    {
      "cell_type": "markdown",
      "source": [
        "## POS tagging\n",
        "\n",
        "Part of speech is a grammatical term that deals with the roles words play when you use them together in sentences. Tagging parts of speech, or POS tagging, is the task of labeling the words in your text according to their part of speech like Noun, Verb, Adverb etc."
      ],
      "metadata": {
        "id": "EA0Z2c7AEJXk"
      }
    },
    {
      "cell_type": "markdown",
      "source": [
        "Tokenization is the process of spliting text into its basic unit, words."
      ],
      "metadata": {
        "id": "yojuMhogEY0a"
      }
    },
    {
      "cell_type": "code",
      "source": [
        "from nltk.tokenize import word_tokenize\n",
        "tokenized_words = word_tokenize(block)"
      ],
      "metadata": {
        "id": "BNg2WeoDEIqS"
      },
      "execution_count": null,
      "outputs": []
    },
    {
      "cell_type": "code",
      "source": [
        "tokenized_words"
      ],
      "metadata": {
        "colab": {
          "base_uri": "https://localhost:8080/"
        },
        "id": "Mc2oLY2cEgJc",
        "outputId": "782ffd19-f865-489b-83fe-e9cd84d514ae"
      },
      "execution_count": null,
      "outputs": [
        {
          "output_type": "execute_result",
          "data": {
            "text/plain": [
              "['If',\n",
              " 'you',\n",
              " 'go',\n",
              " 'for',\n",
              " 'running',\n",
              " 'every',\n",
              " 'morning',\n",
              " ',',\n",
              " 'you',\n",
              " 'will',\n",
              " 'be',\n",
              " 'healthier',\n",
              " '.',\n",
              " 'Or',\n",
              " 'you',\n",
              " 'shall',\n",
              " 'suffer',\n",
              " 'from',\n",
              " 'obesity']"
            ]
          },
          "metadata": {},
          "execution_count": 27
        }
      ]
    },
    {
      "cell_type": "code",
      "source": [
        "nltk.pos_tag(tokenized_words)"
      ],
      "metadata": {
        "colab": {
          "base_uri": "https://localhost:8080/"
        },
        "id": "bPrLyugHEiUH",
        "outputId": "272489d4-a275-4d7e-bf0d-344efd8f1496"
      },
      "execution_count": null,
      "outputs": [
        {
          "output_type": "execute_result",
          "data": {
            "text/plain": [
              "[('If', 'IN'),\n",
              " ('you', 'PRP'),\n",
              " ('go', 'VBP'),\n",
              " ('for', 'IN'),\n",
              " ('running', 'VBG'),\n",
              " ('every', 'DT'),\n",
              " ('morning', 'NN'),\n",
              " (',', ','),\n",
              " ('you', 'PRP'),\n",
              " ('will', 'MD'),\n",
              " ('be', 'VB'),\n",
              " ('healthier', 'JJR'),\n",
              " ('.', '.'),\n",
              " ('Or', 'CC'),\n",
              " ('you', 'PRP'),\n",
              " ('shall', 'MD'),\n",
              " ('suffer', 'VB'),\n",
              " ('from', 'IN'),\n",
              " ('obesity', 'NN')]"
            ]
          },
          "metadata": {},
          "execution_count": 28
        }
      ]
    },
    {
      "cell_type": "code",
      "source": [
        "nltk.help.upenn_tagset()"
      ],
      "metadata": {
        "colab": {
          "base_uri": "https://localhost:8080/"
        },
        "id": "ph6E7g5TEl9v",
        "outputId": "772761ed-7748-4aff-d417-a8ee7983a3ee"
      },
      "execution_count": null,
      "outputs": [
        {
          "output_type": "stream",
          "name": "stdout",
          "text": [
            "$: dollar\n",
            "    $ -$ --$ A$ C$ HK$ M$ NZ$ S$ U.S.$ US$\n",
            "'': closing quotation mark\n",
            "    ' ''\n",
            "(: opening parenthesis\n",
            "    ( [ {\n",
            "): closing parenthesis\n",
            "    ) ] }\n",
            ",: comma\n",
            "    ,\n",
            "--: dash\n",
            "    --\n",
            ".: sentence terminator\n",
            "    . ! ?\n",
            ":: colon or ellipsis\n",
            "    : ; ...\n",
            "CC: conjunction, coordinating\n",
            "    & 'n and both but either et for less minus neither nor or plus so\n",
            "    therefore times v. versus vs. whether yet\n",
            "CD: numeral, cardinal\n",
            "    mid-1890 nine-thirty forty-two one-tenth ten million 0.5 one forty-\n",
            "    seven 1987 twenty '79 zero two 78-degrees eighty-four IX '60s .025\n",
            "    fifteen 271,124 dozen quintillion DM2,000 ...\n",
            "DT: determiner\n",
            "    all an another any both del each either every half la many much nary\n",
            "    neither no some such that the them these this those\n",
            "EX: existential there\n",
            "    there\n",
            "FW: foreign word\n",
            "    gemeinschaft hund ich jeux habeas Haementeria Herr K'ang-si vous\n",
            "    lutihaw alai je jour objets salutaris fille quibusdam pas trop Monte\n",
            "    terram fiche oui corporis ...\n",
            "IN: preposition or conjunction, subordinating\n",
            "    astride among uppon whether out inside pro despite on by throughout\n",
            "    below within for towards near behind atop around if like until below\n",
            "    next into if beside ...\n",
            "JJ: adjective or numeral, ordinal\n",
            "    third ill-mannered pre-war regrettable oiled calamitous first separable\n",
            "    ectoplasmic battery-powered participatory fourth still-to-be-named\n",
            "    multilingual multi-disciplinary ...\n",
            "JJR: adjective, comparative\n",
            "    bleaker braver breezier briefer brighter brisker broader bumper busier\n",
            "    calmer cheaper choosier cleaner clearer closer colder commoner costlier\n",
            "    cozier creamier crunchier cuter ...\n",
            "JJS: adjective, superlative\n",
            "    calmest cheapest choicest classiest cleanest clearest closest commonest\n",
            "    corniest costliest crassest creepiest crudest cutest darkest deadliest\n",
            "    dearest deepest densest dinkiest ...\n",
            "LS: list item marker\n",
            "    A A. B B. C C. D E F First G H I J K One SP-44001 SP-44002 SP-44005\n",
            "    SP-44007 Second Third Three Two * a b c d first five four one six three\n",
            "    two\n",
            "MD: modal auxiliary\n",
            "    can cannot could couldn't dare may might must need ought shall should\n",
            "    shouldn't will would\n",
            "NN: noun, common, singular or mass\n",
            "    common-carrier cabbage knuckle-duster Casino afghan shed thermostat\n",
            "    investment slide humour falloff slick wind hyena override subhumanity\n",
            "    machinist ...\n",
            "NNP: noun, proper, singular\n",
            "    Motown Venneboerger Czestochwa Ranzer Conchita Trumplane Christos\n",
            "    Oceanside Escobar Kreisler Sawyer Cougar Yvette Ervin ODI Darryl CTCA\n",
            "    Shannon A.K.C. Meltex Liverpool ...\n",
            "NNPS: noun, proper, plural\n",
            "    Americans Americas Amharas Amityvilles Amusements Anarcho-Syndicalists\n",
            "    Andalusians Andes Andruses Angels Animals Anthony Antilles Antiques\n",
            "    Apache Apaches Apocrypha ...\n",
            "NNS: noun, common, plural\n",
            "    undergraduates scotches bric-a-brac products bodyguards facets coasts\n",
            "    divestitures storehouses designs clubs fragrances averages\n",
            "    subjectivists apprehensions muses factory-jobs ...\n",
            "PDT: pre-determiner\n",
            "    all both half many quite such sure this\n",
            "POS: genitive marker\n",
            "    ' 's\n",
            "PRP: pronoun, personal\n",
            "    hers herself him himself hisself it itself me myself one oneself ours\n",
            "    ourselves ownself self she thee theirs them themselves they thou thy us\n",
            "PRP$: pronoun, possessive\n",
            "    her his mine my our ours their thy your\n",
            "RB: adverb\n",
            "    occasionally unabatingly maddeningly adventurously professedly\n",
            "    stirringly prominently technologically magisterially predominately\n",
            "    swiftly fiscally pitilessly ...\n",
            "RBR: adverb, comparative\n",
            "    further gloomier grander graver greater grimmer harder harsher\n",
            "    healthier heavier higher however larger later leaner lengthier less-\n",
            "    perfectly lesser lonelier longer louder lower more ...\n",
            "RBS: adverb, superlative\n",
            "    best biggest bluntest earliest farthest first furthest hardest\n",
            "    heartiest highest largest least less most nearest second tightest worst\n",
            "RP: particle\n",
            "    aboard about across along apart around aside at away back before behind\n",
            "    by crop down ever fast for forth from go high i.e. in into just later\n",
            "    low more off on open out over per pie raising start teeth that through\n",
            "    under unto up up-pp upon whole with you\n",
            "SYM: symbol\n",
            "    % & ' '' ''. ) ). * + ,. < = > @ A[fj] U.S U.S.S.R * ** ***\n",
            "TO: \"to\" as preposition or infinitive marker\n",
            "    to\n",
            "UH: interjection\n",
            "    Goodbye Goody Gosh Wow Jeepers Jee-sus Hubba Hey Kee-reist Oops amen\n",
            "    huh howdy uh dammit whammo shucks heck anyways whodunnit honey golly\n",
            "    man baby diddle hush sonuvabitch ...\n",
            "VB: verb, base form\n",
            "    ask assemble assess assign assume atone attention avoid bake balkanize\n",
            "    bank begin behold believe bend benefit bevel beware bless boil bomb\n",
            "    boost brace break bring broil brush build ...\n",
            "VBD: verb, past tense\n",
            "    dipped pleaded swiped regummed soaked tidied convened halted registered\n",
            "    cushioned exacted snubbed strode aimed adopted belied figgered\n",
            "    speculated wore appreciated contemplated ...\n",
            "VBG: verb, present participle or gerund\n",
            "    telegraphing stirring focusing angering judging stalling lactating\n",
            "    hankerin' alleging veering capping approaching traveling besieging\n",
            "    encrypting interrupting erasing wincing ...\n",
            "VBN: verb, past participle\n",
            "    multihulled dilapidated aerosolized chaired languished panelized used\n",
            "    experimented flourished imitated reunifed factored condensed sheared\n",
            "    unsettled primed dubbed desired ...\n",
            "VBP: verb, present tense, not 3rd person singular\n",
            "    predominate wrap resort sue twist spill cure lengthen brush terminate\n",
            "    appear tend stray glisten obtain comprise detest tease attract\n",
            "    emphasize mold postpone sever return wag ...\n",
            "VBZ: verb, present tense, 3rd person singular\n",
            "    bases reconstructs marks mixes displeases seals carps weaves snatches\n",
            "    slumps stretches authorizes smolders pictures emerges stockpiles\n",
            "    seduces fizzes uses bolsters slaps speaks pleads ...\n",
            "WDT: WH-determiner\n",
            "    that what whatever which whichever\n",
            "WP: WH-pronoun\n",
            "    that what whatever whatsoever which who whom whosoever\n",
            "WP$: WH-pronoun, possessive\n",
            "    whose\n",
            "WRB: Wh-adverb\n",
            "    how however whence whenever where whereby whereever wherein whereof why\n",
            "``: opening quotation mark\n",
            "    ` ``\n"
          ]
        }
      ]
    },
    {
      "cell_type": "markdown",
      "source": [
        "## Lemmatization\n",
        "Like stemming, lemmatizing reduces words to their core meaning, but it will give you a complete English word that makes sense on its own instead of just a fragment of a word."
      ],
      "metadata": {
        "id": "QzW9Ep1xEo3J"
      }
    },
    {
      "cell_type": "code",
      "source": [
        "from nltk.stem import WordNetLemmatizer\n",
        "lemmatizer = WordNetLemmatizer()"
      ],
      "metadata": {
        "id": "d6GlKJzfGpqO"
      },
      "execution_count": null,
      "outputs": []
    },
    {
      "cell_type": "code",
      "source": [
        "lemmatizer.lemmatize('thieves')"
      ],
      "metadata": {
        "colab": {
          "base_uri": "https://localhost:8080/",
          "height": 35
        },
        "id": "t0wQ2EXNG1fO",
        "outputId": "2e14dd02-176c-4455-bd15-4c864bfbeaea"
      },
      "execution_count": null,
      "outputs": [
        {
          "output_type": "execute_result",
          "data": {
            "text/plain": [
              "'thief'"
            ],
            "application/vnd.google.colaboratory.intrinsic+json": {
              "type": "string"
            }
          },
          "metadata": {},
          "execution_count": 31
        }
      ]
    },
    {
      "cell_type": "code",
      "source": [
        "stemmer.stem('thieves')"
      ],
      "metadata": {
        "colab": {
          "base_uri": "https://localhost:8080/",
          "height": 35
        },
        "id": "i4iwSnl8G21_",
        "outputId": "fadfd3e5-f401-4d92-aae4-740c32b69057"
      },
      "execution_count": null,
      "outputs": [
        {
          "output_type": "execute_result",
          "data": {
            "text/plain": [
              "'thiev'"
            ],
            "application/vnd.google.colaboratory.intrinsic+json": {
              "type": "string"
            }
          },
          "metadata": {},
          "execution_count": 32
        }
      ]
    },
    {
      "cell_type": "code",
      "source": [
        "lemmatizer.lemmatize(\"worst\")"
      ],
      "metadata": {
        "colab": {
          "base_uri": "https://localhost:8080/",
          "height": 35
        },
        "id": "pHZUsWPmG8lX",
        "outputId": "78fed250-4ea5-4011-d158-cd7d584e4495"
      },
      "execution_count": null,
      "outputs": [
        {
          "output_type": "execute_result",
          "data": {
            "text/plain": [
              "'worst'"
            ],
            "application/vnd.google.colaboratory.intrinsic+json": {
              "type": "string"
            }
          },
          "metadata": {},
          "execution_count": 33
        }
      ]
    },
    {
      "cell_type": "code",
      "source": [
        "lemmatizer.lemmatize(\"worst\", pos='a')"
      ],
      "metadata": {
        "colab": {
          "base_uri": "https://localhost:8080/",
          "height": 35
        },
        "id": "dJ1WKbhkHI6l",
        "outputId": "0689d624-97fb-4a0f-891b-651d2de17e67"
      },
      "execution_count": null,
      "outputs": [
        {
          "output_type": "execute_result",
          "data": {
            "text/plain": [
              "'bad'"
            ],
            "application/vnd.google.colaboratory.intrinsic+json": {
              "type": "string"
            }
          },
          "metadata": {},
          "execution_count": 34
        }
      ]
    },
    {
      "cell_type": "markdown",
      "source": [
        "## Named Entity Recognition\n",
        "Named entities are noun phrases that refer to specific locations, people, organizations, and so on.\n",
        "\n",
        "![image.png](data:image/png;base64,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)"
      ],
      "metadata": {
        "id": "i0FA6fslZBkx"
      }
    },
    {
      "cell_type": "code",
      "source": [
        "import spacy\n",
        "nlp = spacy.load(\"en_core_web_sm\")\n",
        "\n",
        "doc = nlp(\"Barack Obama was born in Hawaii. Today its 4:00 am on 5th April and 20% of 500 dollars is 100\")\n",
        "\n",
        "for token in doc:\n",
        "    print(f\"Token: {token.text} \\t token.ent_type_)"
      ],
      "metadata": {
        "colab": {
          "base_uri": "https://localhost:8080/"
        },
        "id": "HY1rLSkHIQ7u",
        "outputId": "e2540063-775a-4c88-e753-f9a20b49dd90"
      },
      "execution_count": null,
      "outputs": [
        {
          "output_type": "stream",
          "name": "stdout",
          "text": [
            "Barack PERSON\n",
            "Obama PERSON\n",
            "was \n",
            "born \n",
            "in \n",
            "Hawaii GPE\n",
            ". \n",
            "Today DATE\n",
            "its \n",
            "4:00 TIME\n",
            "am TIME\n",
            "on \n",
            "5th DATE\n",
            "April DATE\n",
            "and \n",
            "20 PERCENT\n",
            "% PERCENT\n",
            "of \n",
            "500 MONEY\n",
            "dollars MONEY\n",
            "is \n",
            "100 CARDINAL\n"
          ]
        }
      ]
    },
    {
      "cell_type": "markdown",
      "source": [
        "## Data Prepropessing\n",
        "\n",
        "How to combine all the above menthods to clean data?"
      ],
      "metadata": {
        "id": "loOS1_5IMrRt"
      }
    },
    {
      "cell_type": "markdown",
      "source": [
        "Installing datasets library"
      ],
      "metadata": {
        "id": "RTlTaJCNM6GO"
      }
    },
    {
      "cell_type": "code",
      "source": [
        "!pip install -qq datasets"
      ],
      "metadata": {
        "colab": {
          "base_uri": "https://localhost:8080/"
        },
        "id": "TI8NfkLcM0ks",
        "outputId": "07d6ab24-6b74-470c-a177-1889b398fcee"
      },
      "execution_count": null,
      "outputs": [
        {
          "output_type": "stream",
          "name": "stdout",
          "text": [
            "\u001b[2K     \u001b[90m━━━━━━━━━━━━━━━━━━━━━━━━━━━━━━━━━━━━━━━━\u001b[0m \u001b[32m510.5/510.5 kB\u001b[0m \u001b[31m11.0 MB/s\u001b[0m eta \u001b[36m0:00:00\u001b[0m\n",
            "\u001b[2K     \u001b[90m━━━━━━━━━━━━━━━━━━━━━━━━━━━━━━━━━━━━━━━━\u001b[0m \u001b[32m116.3/116.3 kB\u001b[0m \u001b[31m16.4 MB/s\u001b[0m eta \u001b[36m0:00:00\u001b[0m\n",
            "\u001b[2K     \u001b[90m━━━━━━━━━━━━━━━━━━━━━━━━━━━━━━━━━━━━━━━━\u001b[0m \u001b[32m194.1/194.1 kB\u001b[0m \u001b[31m21.1 MB/s\u001b[0m eta \u001b[36m0:00:00\u001b[0m\n",
            "\u001b[2K     \u001b[90m━━━━━━━━━━━━━━━━━━━━━━━━━━━━━━━━━━━━━━━━\u001b[0m \u001b[32m134.8/134.8 kB\u001b[0m \u001b[31m15.1 MB/s\u001b[0m eta \u001b[36m0:00:00\u001b[0m\n",
            "\u001b[?25h"
          ]
        }
      ]
    },
    {
      "cell_type": "markdown",
      "source": [
        "Load the wikipedia dataset. More about datasets on https://hf.co"
      ],
      "metadata": {
        "id": "ploUP0WBZz2s"
      }
    },
    {
      "cell_type": "code",
      "source": [
        "from datasets import load_dataset\n",
        "\n",
        "data = load_dataset(\"wikipedia\", \"20220301.simple\")"
      ],
      "metadata": {
        "colab": {
          "base_uri": "https://localhost:8080/",
          "height": 339,
          "referenced_widgets": [
            "b4bef6d3d9f043268e39790c6f8ee901",
            "e19fe8e0cc754c42801e25a44b5309b1",
            "85780ad324cc4086aef5efe7b0dd7cac",
            "46cbd73e00e442e2a2e830b97e83a3c3",
            "6e4dea74f0254220a2a1e41d16758fcd",
            "66218d331f85409ba631a0f02c602e67",
            "0d8f570713fb4a6ebc0babf3fc31da4a",
            "f0d6de53610e43319ec01d77867f211d",
            "cb0fbfa81998496f973fd6ed787b6ead",
            "d2768aa0929b4ac3a76be223a9bd66ad",
            "da014a2f9854492ba7f36eab1c7c407f",
            "a7cbd19e6e2b417485971c451ec43c25",
            "33bea2374042411aa83604faa8d03de9",
            "d85455efedb4481a91b52d545af60f35",
            "4311325b291f4d4d9dfe7e1401807ec3",
            "142762396c534463a3a31207e695ec03",
            "ec0d6a9892f64ec7a6d6ab29d5cd8979",
            "5f1c6ac37d354f4784f5c850051ee0fc",
            "5e2e77d62a8d4737a415a13d905661f6",
            "3ab4df45c48049e48eb071d7912bd97c",
            "e79c29769b134cbb8a328583492497d9",
            "abf66cc98d4544c699a5160e814115bc",
            "0fbcbfd036ca49b3b2a5f3ed87bb07ee",
            "6f18dc5dd94f4e888bfbcb727a97366d",
            "9ea7edccae7544198487e292d08aa666",
            "d65fb3d4c6f54e10a6003bc0fa8193e4",
            "ad205385eb7742478a27b8f51247dd15",
            "f4fdf3a384844ca19f97445a5b291379",
            "68487d95acd64f4fb154df15c1995881",
            "492a24216a1b490baf2e8c6bcb45cc6d",
            "a630cde095634e01936ac7677457d167",
            "e15195a0d5dc4863bc36b6fbb1532565",
            "533684e391e1482687c7b4f188562b63",
            "f9c1ae6634d943058873efeee0a7b0a6",
            "1adf809eb1bf414b81f08a7c249fe277",
            "1fb69e6062df4a878cf3f16b8156c27b",
            "f3b9b6714065449594c3a1a658d9c037",
            "4b7d00ca7a804322a4e448c793a033e6",
            "518e961d83504a96b71f4410870081f8",
            "d373df278fd94944b0f267d917c5bd5d",
            "45cfc474a14e43bab6408d08790a8ff2",
            "ee9c9d104b1c4cb49a6efce7d8f0e97c",
            "091fab6a8b694b99aeeebd3243e72e86",
            "d93b37dc7ecc4b8996d336ef7bbccf33"
          ]
        },
        "id": "1GsVCNfVLKy-",
        "outputId": "0cabf8c6-835e-41b7-b336-8eaf06d8750d"
      },
      "execution_count": null,
      "outputs": [
        {
          "output_type": "stream",
          "name": "stderr",
          "text": [
            "/usr/local/lib/python3.10/dist-packages/huggingface_hub/utils/_token.py:88: UserWarning: \n",
            "The secret `HF_TOKEN` does not exist in your Colab secrets.\n",
            "To authenticate with the Hugging Face Hub, create a token in your settings tab (https://huggingface.co/settings/tokens), set it as secret in your Google Colab and restart your session.\n",
            "You will be able to reuse this secret in all of your notebooks.\n",
            "Please note that authentication is recommended but still optional to access public models or datasets.\n",
            "  warnings.warn(\n",
            "/usr/local/lib/python3.10/dist-packages/datasets/load.py:1461: FutureWarning: The repository for wikipedia contains custom code which must be executed to correctly load the dataset. You can inspect the repository content at https://hf.co/datasets/wikipedia\n",
            "You can avoid this message in future by passing the argument `trust_remote_code=True`.\n",
            "Passing `trust_remote_code=True` will be mandatory to load this dataset from the next major release of `datasets`.\n",
            "  warnings.warn(\n"
          ]
        },
        {
          "output_type": "display_data",
          "data": {
            "text/plain": [
              "Downloading builder script:   0%|          | 0.00/36.7k [00:00<?, ?B/s]"
            ],
            "application/vnd.jupyter.widget-view+json": {
              "version_major": 2,
              "version_minor": 0,
              "model_id": "b4bef6d3d9f043268e39790c6f8ee901"
            }
          },
          "metadata": {}
        },
        {
          "output_type": "display_data",
          "data": {
            "text/plain": [
              "Downloading readme:   0%|          | 0.00/16.0k [00:00<?, ?B/s]"
            ],
            "application/vnd.jupyter.widget-view+json": {
              "version_major": 2,
              "version_minor": 0,
              "model_id": "a7cbd19e6e2b417485971c451ec43c25"
            }
          },
          "metadata": {}
        },
        {
          "output_type": "display_data",
          "data": {
            "text/plain": [
              "Downloading:   0%|          | 0.00/1.66k [00:00<?, ?B/s]"
            ],
            "application/vnd.jupyter.widget-view+json": {
              "version_major": 2,
              "version_minor": 0,
              "model_id": "0fbcbfd036ca49b3b2a5f3ed87bb07ee"
            }
          },
          "metadata": {}
        },
        {
          "output_type": "display_data",
          "data": {
            "text/plain": [
              "Downloading:   0%|          | 0.00/235M [00:00<?, ?B/s]"
            ],
            "application/vnd.jupyter.widget-view+json": {
              "version_major": 2,
              "version_minor": 0,
              "model_id": "f9c1ae6634d943058873efeee0a7b0a6"
            }
          },
          "metadata": {}
        }
      ]
    },
    {
      "cell_type": "code",
      "source": [
        "data"
      ],
      "metadata": {
        "colab": {
          "base_uri": "https://localhost:8080/"
        },
        "id": "9mjMd73CM981",
        "outputId": "40040e96-bae5-4e82-8b0f-4f2e2ded391c"
      },
      "execution_count": null,
      "outputs": [
        {
          "output_type": "execute_result",
          "data": {
            "text/plain": [
              "DatasetDict({\n",
              "    train: Dataset({\n",
              "        features: ['id', 'url', 'title', 'text'],\n",
              "        num_rows: 205328\n",
              "    })\n",
              "})"
            ]
          },
          "metadata": {},
          "execution_count": 38
        }
      ]
    },
    {
      "cell_type": "code",
      "source": [
        "data['train']"
      ],
      "metadata": {
        "colab": {
          "base_uri": "https://localhost:8080/"
        },
        "id": "dYvn2tSDNCsd",
        "outputId": "b9aefe89-5203-4ae7-9315-853dafa2e7bc"
      },
      "execution_count": null,
      "outputs": [
        {
          "output_type": "execute_result",
          "data": {
            "text/plain": [
              "Dataset({\n",
              "    features: ['id', 'url', 'title', 'text'],\n",
              "    num_rows: 205328\n",
              "})"
            ]
          },
          "metadata": {},
          "execution_count": 39
        }
      ]
    },
    {
      "cell_type": "code",
      "source": [
        "data['train'][0]"
      ],
      "metadata": {
        "colab": {
          "base_uri": "https://localhost:8080/"
        },
        "id": "NdLaBXefNDdL",
        "outputId": "c6e9404e-a754-4ad2-89f4-90ef6a180081"
      },
      "execution_count": null,
      "outputs": [
        {
          "output_type": "execute_result",
          "data": {
            "text/plain": [
              "{'id': '1',\n",
              " 'url': 'https://simple.wikipedia.org/wiki/April',\n",
              " 'title': 'April',\n",
              " 'text': 'April is the fourth month of the year in the Julian and Gregorian calendars, and comes between March and May. It is one of four months to have 30 days.\\n\\nApril always begins on the same day of week as July, and additionally, January in leap years. April always ends on the same day of the week as December.\\n\\nApril\\'s flowers are the Sweet Pea and Daisy. Its birthstone is the diamond. The meaning of the diamond is innocence.\\n\\nThe Month \\n\\nApril comes between March and May, making it the fourth month of the year. It also comes first in the year out of the four months that have 30 days, as June, September and November are later in the year.\\n\\nApril begins on the same day of the week as July every year and on the same day of the week as January in leap years. April ends on the same day of the week as December every year, as each other\\'s last days are exactly 35 weeks (245 days) apart.\\n\\nIn common years, April starts on the same day of the week as October of the previous year, and in leap years, May of the previous year. In common years, April finishes on the same day of the week as July of the previous year, and in leap years, February and October of the previous year. In common years immediately after other common years, April starts on the same day of the week as January of the previous year, and in leap years and years immediately after that, April finishes on the same day of the week as January of the previous year.\\n\\nIn years immediately before common years, April starts on the same day of the week as September and December of the following year, and in years immediately before leap years, June of the following year. In years immediately before common years, April finishes on the same day of the week as September of the following year, and in years immediately before leap years, March and June of the following year.\\n\\nApril is a spring month in the Northern Hemisphere and an autumn/fall month in the Southern Hemisphere. In each hemisphere, it is the seasonal equivalent of October in the other.\\n\\nIt is unclear as to where April got its name. A common theory is that it comes from the Latin word \"aperire\", meaning \"to open\", referring to flowers opening in spring. Another theory is that the name could come from Aphrodite, the Greek goddess of love. It was originally the second month in the old Roman Calendar, before the start of the new year was put to January 1.\\n\\nQuite a few festivals are held in this month. In many Southeast Asian cultures, new year is celebrated in this month (including Songkran). In Western Christianity, Easter can be celebrated on a Sunday between March 22 and April 25. In Orthodox Christianity, it can fall between April 4 and May 8. At the end of the month, Central and Northern European cultures celebrate Walpurgis Night on April 30, marking the transition from winter into summer.\\n\\nApril in poetry \\nPoets use April to mean the end of winter. For example: April showers bring May flowers.\\n\\nEvents in April\\n\\nFixed Events \\n\\n April 1 - April Fools\\' Day\\n April 1 - Islamic Republic Day (Iran)\\n April 2 - International Children\\'s Book Day\\n April 2 - Thai Heritage and Conservation Day\\n April 2 - World Autism Awareness Day\\n April 2 - Malvinas Day (Argentina)\\n April 4 - Independence Day (Senegal)\\n April 4 - International Day for Landmine Awareness and Assistance\\n April 4 - Peace Day (Angola)\\n April 5 - End of Tax Year (United Kingdom)\\n April 6 - Tartan Day (Canada and United States)\\n April 6 - Chakri Day (Thailand)\\n April 7 - Day of Maternity and Beauty (Armenia)\\n April 7 - Genocide Memorial Day (Rwanda)\\n April 7 - World Health Day\\n April 7 - Women\\'s Day (Mozambique)\\n April 8 - Buddha\\'s Birthday (Buddhism)\\n April 9 - Martyrs\\' Day (Tunisia)\\n April 9 - Day of National Unity (Georgia)\\n April 9 - Day of the Finnish language\\n April 12 - Cosmonauts\\' Day (Russia), marking the day of Yuri Gagarin\\'s space flight\\n April 13 - Songkan (Laos), local New Year celebration\\n April 13 - Cambodian New Year\\n April 13 - Thomas Jefferson\\'s Birthday (United States)\\n April 14 - Southeast Asian New Year festivals, including Songkran\\n April 14 - Georgian language Day\\n April 14 - Youth Day (Angola)\\n April 14 - Ambedkar Tayanti (India)\\n April 14 - Pan-American Day\\n April 15 - Tax Day (United States)\\n April 15 - Kim Il-Sung\\'s Birthday (North Korea)\\n April 15 - Father Damien Day (Hawaii)\\n April 15 - Jackie Robinson Day (Major League Baseball)\\n April 16 - Birthday of Queen Margrethe II of Denmark\\n April 16 - Emancipation Day (Washington, DC)\\n April 16 - World Voice Day\\n April 16 - Selena Day (Texas)\\n April 17 - National Day of Syria\\n April 17 - Flag Day (American Samoa)\\n April 17 - Women\\'s Day (Gabon)\\n April 17 - World Hemophilia Day\\n April 18 - Independence Day (Zimbabwe)\\n April 18 - Invention Day (Japan)\\n April 18 - International Day of Monuments and Sites\\n April 19 - Bicycle Day\\n April 19 - Dutch-American Friendship Day\\n April 19 - Birthday of King Mswati III of Swaziland\\n April 19 - Patriots\\' Day (Massachusetts, Maine, Wisconsin)\\n April 20 - 4/20 in Cannabis Culture\\n April 21 - John Muir Day (California)\\n April 21 - San Jacinto Day (Texas)\\n April 21 - Kartini Day (Indonesia)\\n April 21 - National Tree Planting Day (Kenya)\\n April 21 - First Day of Ridran (Baha\\'i faith)\\n April 21 - Grounation Day (Rastafari movement)\\n April 22 - Earth Day\\n April 22 - Discovery Day (Brazil)\\n April 23 - Saint George\\'s Day, celebrating the patron saint of several countries, regions and cities (including England and Catalonia)\\n April 23 - World Book Day\\n April 23 - National Sovereignty and Children\\'s Day (Turkey)\\n April 24 - Democracy Day (Nepal)\\n April 24 - Genocide Day (Armenia)\\n April 24 - Republic Day (the Gambia)\\n April 25 - Australia and New Zealand celebrate ANZAC Day. ANZAC  means Australian and New Zealand Army Corps, and began in 1915.\\n April 25 - World DNA Day\\n April 25 - World Malaria Day\\n April 25 - Flag Day (Swaziland, Faroe Islands)\\n April 25 - Freedom Day (Portugal)\\n April 25 - Liberation Day (Italy)\\n April 25 - Army Day (North Korea)\\n April 26 - Union Day (Tanzania)\\n April 26 - Confederate Memorial Day (Texas, Florida)\\n April 27 - Independence Day (Sierra Leone and Togo)\\n April 27 - Freedom Day (South Africa)\\n April 27 - World Tapir Day\\n April 27 - King\\'s Day (Netherlands) from 2014, birthday of Willem-Alexander of the Netherlands\\n April 28 - Workers Memorial Day\\n April 28 - National Day (Sardinia)\\n April 28 - National Heroes Day (Barbados)\\n April 29 - Showa Day (Japan), birthday of Emperor Hirohito, who died in 1989\\n April 29 - International Dance Day\\n April 30 - Former Queen\\'s Day Holiday in the Netherlands (changed to King\\'s Day, April 27 in 2014), was the birthday of former Queen Juliana of the Netherlands\\n April 30 - Flag Day in Sweden (birthday of King Carl XVI Gustaf of Sweden)\\n April 30 - International Jazz Day\\n April 30 - Walpurgis Night (Central and Northern Europe)\\n\\nMoveable Events \\n\\n Easter-related events in Western Christianity:\\n Palm Sunday (between March 15 and April 18)\\n Maundy Thursday (between March 19 and April 22)\\n Good Friday (between March 20 and April 23)\\n Easter Sunday (between March 22 and April 25)\\n Easter Monday (between March 23 and April 26)\\n Eastern Orthodox Easter falls between April 4 and May 8.\\n Ascension Day (Western Christianity), falls between April 30 and June 3.\\n Jewish Passover - falls in the same week as Western Christianity\\'s Holy Week, which is the week leading up to Easter.\\n Mother\\'s Day (UK) falls between March 1 and April 4.\\n World Snooker Championship (late April, early May)\\n Horse racing - Grand National (UK), Kentucky Derby (United States)\\n Start of Daylight Saving Time - Clocks going forward one hour:\\n Most of Mexico\\n Morocco (Ramadan does not include Daylight Saving Time)\\n End of Daylight Saving Time - Clocks going back one hour:\\n Southeast Australia, and New Zealand\\n Chile\\n Marathon Events in the following cities:\\n Belgrade, Serbia\\n Boston, Massachusetts, United States\\n Brighton, United Kingdom\\n Enschede, Netherlands\\n London, United Kingdom\\n Madrid, Spain\\n Paris, France\\n Rotterdam, Netherlands\\n Utrecht, Netherlands\\n Zurich, Switzerland\\n\\nSelection of Historical Events \\n\\n April 1, 1918 - The Royal Air Force is founded.\\n April 1, 1976 - Apple Inc. is founded.\\n April 1, 1979 - The Islamic Republic of Iran is founded.\\n April 1, 1999 - The territory of Nunavut is created in Northern Canada.\\n April 1, 2001 - The Netherlands introduces same-sex marriage, as the first country to do so.\\n April 2, 1519 - Florida is sighted by a European for the first time.\\n April 2, 1930 - Haile Selassie becomes Emperor of Ethiopia.\\n April 2, 1982 - Start of the Falklands War, as Argentine forces land on the Falkland Islands.\\n April 2, 2005 - Pope John Paul II dies aged 84, after 26-and-a-half years as Pope.\\n April 3, 1973 - The first-ever mobile phone call is placed by Martin Cooper in New York City.\\n April 4, 1721 - Robert Walpole becomes the first Prime Minister of Great Britain.\\n April 4, 1841 - William Henry Harrison dies. He was President of the United States for 31 days, the shortest-ever time in office for a US President.\\n April 4, 1960 - Senegal becomes independent.\\n April 4, 1968 - Assassination of Martin Luther King, Jr. in Memphis, Tennessee.\\n April 5, 1722 - Jacob Roggeveen becomes the first European to land on Easter Island, landing there on Easter Sunday.\\n April 6, 1320 - Scotland\\'s independence is confirmed with the Declaration of Arbroath.\\n April 6, 1830 - The Mormon Church is founded.\\n April 6, 1909 - Robert Peary claims to have been first at the North Pole on this date.\\n April 7, 1994 - The Rwandan Genocide begins.\\n April 9, 1865 - American Civil War: Confederate forces under Robert E. Lee surrender to Union forces.\\n April 9, 1940 - World War II: Denmark and Norway are invaded by Nazi Germany.\\n April 9, 1989 - April 9 tragedy: In Tbilisi, Georgia, a peaceful demonstration for independence is broken up by the Soviet Army, killing 20 people. The country gains independence on this date exactly two years later.\\n April 10, 1815 - Mount Tambora in Indonesia erupts in a huge eruption, affecting the world\\'s climate for at least a year.\\n April 10, 2010 - A plane crash near Smolensk, Russia, kills several people who were important in Poland, including President Lech Kaczynski.\\n April 11, 1814 - Napoleon Bonaparte is exiled to the island of Elba.\\n April 11, 1954 - Said to have been the most boring day of the 20th century.\\n April 12, 1861 - The American Civil War begins at Fort Sumter, Charleston, South Carolina.\\n April 12, 1945 - US President Franklin D. Roosevelt dies, and Harry S. Truman replaces him.\\n April 12, 1961 - Yuri Gagarin becomes the first human to fly into space.\\n April 14, 1865 - US President Abraham Lincoln is shot dead at Ford\\'s Theatre by John Wilkes Booth. Lincoln dies the next day.\\n April 14, 2010 - Qinghai Province, China, is hit by an earthquake, killing tens of thousands of people.\\n April 14, 2010 - The eruption of Eyjafjallajokull in Iceland shuts down air traffic around Europe for a week, due to its ash cloud.\\n April 15, 1912 - The ship RMS Titanic sinks near Newfoundland after hitting an iceberg, resulting in the deaths of many of the people on board.\\n April 16, 1943 - Albert Hofmann discovers LSD\\'s effects.\\n April 17, 1946 - Syria gains full independence from France.\\n April 18, 1906 - 1906 San Francisco earthquake: San Francisco, California, is hit by a big earthquake, resulting in fires that destroy large parts of the city.\\n April 18, 1980 - Zimbabwe gains full independence.\\n April 19, 1897 - The first Boston Marathon is held.\\n April 19, 1971 - Sierra Leone becomes a republic.\\n April 19, 1993 - The siege of the Branch Davidians at Waco, Texas, ends in a fire that kills 82 people.\\n April 19, 1995 - Timothy McVeigh carries out the Oklahoma City bombing, killing 169 people.\\n April 19, 2005 - Joseph Alois Ratzinger becomes Pope Benedict XVI.\\n April 20, 1902 - Marie Curie and Pierre Curie refine Radium.\\n April 20, 2010 - Deepwater Horizon oil spill: A massive fire on the Deepwater Horizon drilling rig in the Gulf of Mexico kills 11 workers and causes a massive oil spill, the worst spill in US history.\\n April 21, 753 BC - Legendary founding date of Rome\\n April 21, 1509 - Henry VIII of England becomes King.\\n April 21, 1908 - Frederick Cook claims to have reached the North Pole on this date.\\n April 22, 1502 - Pedro Alvares Cabral becomes the first European to reach present-day Brazil.\\n April 22, 1970 - Earth Day is observed for the first time.\\n April 23, 1533 - The Church of England declares that Henry VIII of England and Catherine of Aragon are not married.\\n April 24, 1916 - The Easter Rising occurs in Dublin, Ireland.\\n April 24, 1990 - The Hubble Space Telescope is launched on the Space Shuttle Discovery.\\n April 25, 1915 - World War I: In Turkey, the Battle of Gallipoli begins, Australian, French, British and New Zealand forces land at Anzac cove.\\n April 25, 1974 - Portugal\\'s dictatorship is overthrown in a coup, in what is known as the Carnation Revolution.\\n April 26, 1937 - Spanish Civil War: German planes bomb the town of Guernica, Basque Country, later depicted in a painting by Pablo Picasso.\\n April 26, 1964 - Tanganyika and Zanzibar merge to form Tanzania.\\n April 26, 1986 - A reactor explosion occurs at the Chernobyl nuclear plant in present-day Ukraine, with radiation spreading around Europe and the world.\\n April 26/27, 1994 - South Africa holds its first free elections.\\n April 27, 1960 - Togo becomes independent from France.\\n April 27, 1961 - Sierra Leone becomes independent from the United Kingdom.\\n April 28, 1789 - Mutiny on the ship Bounty in the Pacific Ocean, lead by Fletcher Christian.\\n April 28, 1945 - Benito Mussolini is executed by Italian partisans.\\n April 28, 1947 - In Peru, Thor Heyerdahl starts his Kon-Tiki expedition aimed at proving his theory that the Polynesian settlers on the Pacific Ocean\\'s islands came from South America.\\n April 29, 1991 - A cyclone in Bangladesh kills an estimated 138,000 people.\\n April 29, 2011 - The wedding of Prince William, Duke of Cambridge and Catherine, Duchess of Cambridge is broadcast worldwide.\\n April 30, 1789 - George Washington becomes the first President of the United States.\\n April 30, 1803 - The United States purchases (buys) the Louisiana territory from France.\\n April 30, 1945 - Adolf Hitler commits suicide on the same day that the Soviet Army raises the Red Flag on Berlin\\'s Reichstag.\\n April 30, 1952 - The Diary of Anne Frank is published in English.\\n April 30, 1975 - The Vietnam War ends, as North Vietnamese forces take Saigon.\\n April 30, 1980 - Queen Juliana of the Netherlands abdicates the throne, and her daughter becomes Queen Beatrix of the Netherlands. Beatrix later also abdicates, on this day in 2013, in favor of her son, King Willem-Alexander of the Netherlands.\\n\\nTrivia \\n\\n In Western Christianity, there is a bigger likelihood of Easter falling in April than in March.\\n The months around April (March and May) both start with an \\'M\\' in the English language, with an \\'A\\' as the second letter.\\n In the English language, April is the first of three months in-a-row, along with May and June, that is also a female given name.\\n The astrological signs for April are Aries (March 21 to April 20) and Taurus (April 21 to May 20).\\n The sweet pea and daisy are the traditional birth flowers for April.\\n Birthstone for April is the Diamond.\\nApril 1 is the only day in April to start within the first quarter of the calendar year.\\n If the months of the year were arranged in alphabetical order in the English language, April would come first.\\n Six current European monarchs were born in April. They are King Philippe of Belgium (April 15), Queen Margrethe II of Denmark (April 16), Henri, Grand Duke of Luxembourg (April 16), Elizabeth II of the United Kingdom and Commonwealth realms (April 21), King Willem-Alexander of the Netherlands (April 27), and King Carl XVI Gustaf of Sweden (April 30).\\n\\nReferences'}"
            ]
          },
          "metadata": {},
          "execution_count": 40
        }
      ]
    },
    {
      "cell_type": "markdown",
      "source": [
        "Select 10000 articles from the dataset"
      ],
      "metadata": {
        "id": "z1wMe0PXaF6D"
      }
    },
    {
      "cell_type": "code",
      "source": [
        "data = data['train'].shuffle().select(range(10000))"
      ],
      "metadata": {
        "id": "fVZLKZiINLaB"
      },
      "execution_count": null,
      "outputs": []
    },
    {
      "cell_type": "markdown",
      "source": [
        "Preprocess function to\n",
        "1. Remove extra spaces\n",
        "2. Convert text to lowercase\n",
        "3. Tokenize the text\n",
        "4. Remove non-alphanumeric text\n",
        "5. Remove stopwords\n",
        "6. Remove numbers"
      ],
      "metadata": {
        "id": "W9uKCq7xaJ7D"
      }
    },
    {
      "cell_type": "code",
      "source": [
        "stop_words = set(stopwords.words('english'))\n",
        "\n",
        "def preprocess(examples):\n",
        "    texts = [line.strip() for line in examples['text']]\n",
        "    texts = [text.lower() for text in texts]\n",
        "    texts = [word_tokenize(text) for text in texts]\n",
        "    texts = [[word for word in text if word.isalnum()] for text in texts]\n",
        "    texts = [[word for word in text if word not in stop_words] for text in texts]\n",
        "    texts = [[word for word in text if not word.isdigit()] for text in texts]\n",
        "    return {\n",
        "        'text': texts\n",
        "    }\n",
        "\n",
        "data = data.map(preprocess, batched=True) # parallization"
      ],
      "metadata": {
        "colab": {
          "base_uri": "https://localhost:8080/",
          "height": 49,
          "referenced_widgets": [
            "89abc830311142d78b6ba829469acccc",
            "f02ad9003a3549dea8fea36f17431bd5",
            "689b93d7ffaa49d680d608d1e00bafee",
            "5e06e114a554432681c13f4aa7be25c8",
            "dd2cd4df44a44875872bae9d369c96cc",
            "535285e9364f437a8d56b3a7a8e8ac36",
            "ddb13ee6f7c0488882634ac4a34d8a59",
            "cad9c45433d34eccb5afc9512e48cb21",
            "b7646180118f4d5d978e40d2a3ad8a4d",
            "3a7fd3ef64c4441b81ff752af94da6ce",
            "a46ed9db348940139499d9ae37461a97"
          ]
        },
        "id": "K3m9a7JsN18G",
        "outputId": "0cd5ab6d-2cd0-4550-e491-912efce297ea"
      },
      "execution_count": null,
      "outputs": [
        {
          "output_type": "display_data",
          "data": {
            "text/plain": [
              "Map:   0%|          | 0/10000 [00:00<?, ? examples/s]"
            ],
            "application/vnd.jupyter.widget-view+json": {
              "version_major": 2,
              "version_minor": 0,
              "model_id": "89abc830311142d78b6ba829469acccc"
            }
          },
          "metadata": {}
        }
      ]
    },
    {
      "cell_type": "markdown",
      "source": [
        "## Word embeddings\n",
        "\n",
        "Word embeddings are a way to represent words in natural language processing (NLP) as real-valued vectors. These vectors capture the semantic and syntactic relationships of words, and are distributed representations of text in an n-dimensional space. Words that are closer together in the vector space are expected to have similar meanings."
      ],
      "metadata": {
        "id": "JzXkpWhYataF"
      }
    },
    {
      "cell_type": "code",
      "source": [
        "from gensim.models import Word2Vec\n",
        "w = Word2Vec(\n",
        "    [text for text in data['text']],\n",
        "    min_count=3, # minimum number of occurences to consider for training\n",
        "    sg = 1, # 1: skipgram\n",
        "    window=7 # window to consider\n",
        ")\n"
      ],
      "metadata": {
        "id": "9mxkbCe1PNgT"
      },
      "execution_count": null,
      "outputs": []
    },
    {
      "cell_type": "code",
      "source": [
        "w.wv['man']"
      ],
      "metadata": {
        "colab": {
          "base_uri": "https://localhost:8080/"
        },
        "id": "ZUxKXQKKPkLX",
        "outputId": "5d48ba83-5894-4ba8-a553-6c88ce89984b"
      },
      "execution_count": null,
      "outputs": [
        {
          "output_type": "execute_result",
          "data": {
            "text/plain": [
              "array([-0.42608407, -0.04411277,  0.07539885,  0.1513732 ,  0.08221193,\n",
              "       -0.13894099, -0.05262115,  0.63166773, -0.74208254,  0.00989899,\n",
              "        0.07175286, -0.02478303, -0.28284022, -0.22952534, -0.27202344,\n",
              "        0.01227461,  0.78379184, -0.06965772,  0.23977496, -0.3540863 ,\n",
              "       -0.07353805,  0.3173045 ,  0.17606509, -0.40300542,  0.3025012 ,\n",
              "        0.26698107,  0.29578522, -0.17199403,  0.02937308,  0.5466752 ,\n",
              "        0.55078554,  0.38567498, -0.11537629, -0.7613023 , -0.19671494,\n",
              "        0.01651732, -0.35218528, -0.21248569, -0.3563503 ,  0.19533482,\n",
              "        0.39627084,  0.16297251,  0.31360257,  0.13988593,  0.08552089,\n",
              "       -0.26387623, -0.7903097 , -0.18050244, -0.03107922,  0.20165914,\n",
              "       -0.13725565, -0.01353335, -0.58534485, -0.10611179, -0.5296344 ,\n",
              "        0.22934797,  0.38586774,  0.3062089 ,  0.23038147,  0.08763672,\n",
              "        0.03532811, -0.1496347 , -0.07462039,  0.19516274, -0.10122386,\n",
              "        0.36666837,  0.1761781 ,  0.5262456 , -0.06983146, -0.01241518,\n",
              "       -0.39674863, -0.24729876,  0.20248574, -0.3296825 , -0.11280997,\n",
              "        0.48115814, -0.5701993 , -0.04157039, -0.00256848,  0.31419986,\n",
              "       -0.57724124, -0.6671985 ,  0.09470703, -0.36257252,  0.08305089,\n",
              "       -0.04004334, -0.03441945,  0.00156376,  0.04193228,  0.01542369,\n",
              "        0.35826507,  0.41247424,  0.2122134 ,  0.04143335,  0.26380387,\n",
              "        0.17258489, -0.15381595,  0.00622979,  0.15476726, -0.45358366],\n",
              "      dtype=float32)"
            ]
          },
          "metadata": {},
          "execution_count": 44
        }
      ]
    },
    {
      "cell_type": "code",
      "source": [
        "w.wv.most_similar('computer', topn=10)"
      ],
      "metadata": {
        "colab": {
          "base_uri": "https://localhost:8080/"
        },
        "id": "8b4fJWdRcxl9",
        "outputId": "0837d99f-c772-44a1-bf93-a5eb4d1c0ff1"
      },
      "execution_count": null,
      "outputs": [
        {
          "output_type": "execute_result",
          "data": {
            "text/plain": [
              "[('computers', 0.8147462606430054),\n",
              " ('hardware', 0.8038742542266846),\n",
              " ('software', 0.8020380735397339),\n",
              " ('networking', 0.7922399640083313),\n",
              " ('devices', 0.7903818488121033),\n",
              " ('files', 0.7866085171699524),\n",
              " ('interfaces', 0.7793911695480347),\n",
              " ('macintosh', 0.7753524780273438),\n",
              " ('graphics', 0.7747758626937866),\n",
              " ('technology', 0.7737457156181335)]"
            ]
          },
          "metadata": {},
          "execution_count": 45
        }
      ]
    },
    {
      "cell_type": "code",
      "source": [
        "import numpy as np\n",
        "import matplotlib.pyplot as plt\n",
        "from sklearn.decomposition import PCA\n",
        "\n",
        "\n",
        "def plot_word_vectors(word_vectors):\n",
        "    word_vectors = np.array([w.wv[word] for word in words_to_plot])\n",
        "\n",
        "    pca = PCA(n_components=2)\n",
        "    word_vectors_2d = pca.fit_transform(word_vectors)\n",
        "\n",
        "    plt.figure(figsize=(8, 6))\n",
        "    plt.scatter(word_vectors_2d[:, 0], word_vectors_2d[:, 1], c='b')\n",
        "\n",
        "    for i, word in enumerate(words_to_plot):\n",
        "        plt.annotate(word, xy=(word_vectors_2d[i, 0], word_vectors_2d[i, 1]))\n",
        "\n",
        "    plt.xlabel('Principal Component 1')\n",
        "    plt.ylabel('Principal Component 2')\n",
        "    plt.title('Word Embeddings Visualization using PCA')\n",
        "    plt.grid(True)\n",
        "    plt.show()"
      ],
      "metadata": {
        "id": "oeMS83KPPkig"
      },
      "execution_count": null,
      "outputs": []
    },
    {
      "cell_type": "code",
      "source": [
        "words_to_plot = ['man', 'woman', 'king', 'queen', 'son', 'daughter']\n",
        "plot_word_vectors(words_to_plot)"
      ],
      "metadata": {
        "colab": {
          "base_uri": "https://localhost:8080/",
          "height": 564
        },
        "id": "Jwhvd0O2bMDz",
        "outputId": "7280b9d6-8ebf-4f59-cb9a-481f8c76cf72"
      },
      "execution_count": null,
      "outputs": [
        {
          "output_type": "display_data",
          "data": {
            "text/plain": [
              "<Figure size 800x600 with 1 Axes>"
            ],
            "image/png": "[encoded data removed]"
          },
          "metadata": {}
        }
      ]
    },
    {
      "cell_type": "code",
      "source": [
        "words_to_plot = [\"frogs\", \"toads\", \"square\", \"circle\"]\n",
        "plot_word_vectors(words_to_plot)"
      ],
      "metadata": {
        "id": "_gXGcd1gbK-1",
        "colab": {
          "base_uri": "https://localhost:8080/",
          "height": 564
        },
        "outputId": "4f27a9c5-53d9-43a9-d410-21678a0c50e6"
      },
      "execution_count": null,
      "outputs": [
        {
          "output_type": "display_data",
          "data": {
            "text/plain": [
              "<Figure size 800x600 with 1 Axes>"
            ],
            "image/png": "[encoded data removed]"
          },
          "metadata": {}
        }
      ]
    },
    {
      "cell_type": "markdown",
      "source": [
        "## Semantic Search\n",
        "\n",
        "A form of search where you understand the context of the query and sentences instead of exact matches.\n",
        "\n",
        "Let us perform semantic search using the Word Embeddings"
      ],
      "metadata": {
        "id": "-Dkwlkg8cd8t"
      }
    },
    {
      "cell_type": "code",
      "source": [
        "from sklearn.metrics.pairwise import cosine_similarity\n",
        "import numpy as np\n",
        "\n",
        "def generate_embeddings(sentence):\n",
        "    words = sentence.lower().split()\n",
        "    embeddings = []\n",
        "    for word in words:\n",
        "        if word in w.wv:\n",
        "            embedding = w.wv[word]\n",
        "            embeddings.append(embedding)\n",
        "    if len(embeddings) == 0:\n",
        "        return np.zeros(w.vector_size).reshape(1, -1)\n",
        "    return np.mean(embeddings, axis=0).reshape(1, -1)\n",
        "\n",
        "def semantic_search(query, corpus, top_n=5):\n",
        "    query_embedding = generate_embeddings(query)\n",
        "    similarity_scores = {}\n",
        "    for idx, sentence in enumerate(corpus):\n",
        "        sentence_embedding = generate_embeddings(sentence)\n",
        "        try:\n",
        "            similarity = cosine_similarity(query_embedding, sentence_embedding)[0][0]\n",
        "        except ValueError:\n",
        "            continue\n",
        "        similarity_scores[idx] = similarity\n",
        "    top_sentences = sorted(similarity_scores, key=similarity_scores.get, reverse=True)[:top_n]\n",
        "    return [(corpus[idx], similarity_scores[idx]) for idx in top_sentences]\n"
      ],
      "metadata": {
        "id": "MP5CwpyvQveU"
      },
      "execution_count": null,
      "outputs": []
    },
    {
      "cell_type": "code",
      "source": [
        "corpus = [\n",
        "    \"Machine learning is a subset of artificial intelligence.\",\n",
        "    \"Deep learning models are based on artificial neural networks.\",\n",
        "    \"Natural language processing is used for text data analysis.\",\n",
        "    \"Reinforcement learning is a type of machine learning algorithm.\",\n",
        "    \"Supervised learning requires labeled training data.\"\n",
        "]\n",
        "\n",
        "query = \"What is supervised learning?\"\n",
        "\n",
        "results = semantic_search(query, corpus)\n",
        "\n",
        "print(\"Semantic Search Results:\")\n",
        "for idx, (sentence, similarity) in enumerate(results):\n",
        "    print(f\"{idx + 1}. Sentence: '{sentence}', Similarity Score: {similarity:.4f}\")"
      ],
      "metadata": {
        "colab": {
          "base_uri": "https://localhost:8080/"
        },
        "id": "D-iRzTN3Rf4L",
        "outputId": "77ce87bc-06c3-4800-816c-822ef93d918b"
      },
      "execution_count": null,
      "outputs": [
        {
          "output_type": "stream",
          "name": "stdout",
          "text": [
            "Semantic Search Results:\n",
            "1. Sentence: 'Supervised learning requires labeled training data.', Similarity Score: 0.9107\n",
            "2. Sentence: 'Machine learning is a subset of artificial intelligence.', Similarity Score: 0.8625\n",
            "3. Sentence: 'Deep learning models are based on artificial neural networks.', Similarity Score: 0.8437\n",
            "4. Sentence: 'Reinforcement learning is a type of machine learning algorithm.', Similarity Score: 0.8334\n",
            "5. Sentence: 'Natural language processing is used for text data analysis.', Similarity Score: 0.7090\n"
          ]
        }
      ]
    },
    {
      "cell_type": "markdown",
      "source": [
        "## Search wikipedia articles!"
      ],
      "metadata": {
        "id": "0tOSNExre3NZ"
      }
    },
    {
      "cell_type": "code",
      "source": [
        "!pip install wikipedia"
      ],
      "metadata": {
        "colab": {
          "base_uri": "https://localhost:8080/"
        },
        "id": "TnVwkrmxRiiq",
        "outputId": "c48572af-2f6d-4e49-f509-7a9ad640a3f3"
      },
      "execution_count": null,
      "outputs": [
        {
          "output_type": "stream",
          "name": "stdout",
          "text": [
            "Collecting wikipedia\n",
            "  Downloading wikipedia-1.4.0.tar.gz (27 kB)\n",
            "  Preparing metadata (setup.py) ... \u001b[?25l\u001b[?25hdone\n",
            "Requirement already satisfied: beautifulsoup4 in /usr/local/lib/python3.10/dist-packages (from wikipedia) (4.12.3)\n",
            "Requirement already satisfied: requests<3.0.0,>=2.0.0 in /usr/local/lib/python3.10/dist-packages (from wikipedia) (2.31.0)\n",
            "Requirement already satisfied: charset-normalizer<4,>=2 in /usr/local/lib/python3.10/dist-packages (from requests<3.0.0,>=2.0.0->wikipedia) (3.3.2)\n",
            "Requirement already satisfied: idna<4,>=2.5 in /usr/local/lib/python3.10/dist-packages (from requests<3.0.0,>=2.0.0->wikipedia) (3.6)\n",
            "Requirement already satisfied: urllib3<3,>=1.21.1 in /usr/local/lib/python3.10/dist-packages (from requests<3.0.0,>=2.0.0->wikipedia) (2.0.7)\n",
            "Requirement already satisfied: certifi>=2017.4.17 in /usr/local/lib/python3.10/dist-packages (from requests<3.0.0,>=2.0.0->wikipedia) (2024.2.2)\n",
            "Requirement already satisfied: soupsieve>1.2 in /usr/local/lib/python3.10/dist-packages (from beautifulsoup4->wikipedia) (2.5)\n",
            "Building wheels for collected packages: wikipedia\n",
            "  Building wheel for wikipedia (setup.py) ... \u001b[?25l\u001b[?25hdone\n",
            "  Created wheel for wikipedia: filename=wikipedia-1.4.0-py3-none-any.whl size=11680 sha256=f4f60ced2902cb2c021c2a0fef89344ef91a261e46a357cb573ed20b62c6e460\n",
            "  Stored in directory: /root/.cache/pip/wheels/5e/b6/c5/93f3dec388ae76edc830cb42901bb0232504dfc0df02fc50de\n",
            "Successfully built wikipedia\n",
            "Installing collected packages: wikipedia\n",
            "Successfully installed wikipedia-1.4.0\n"
          ]
        }
      ]
    },
    {
      "cell_type": "code",
      "source": [
        "import wikipedia\n",
        "\n",
        "wiki = wikipedia.page('John D. Hunter')\n",
        "\n",
        "text = wiki.content\n",
        "\n",
        "text = text.replace('==', '')[:-12]\n",
        "\n",
        "print(text.split('\\n')[0])"
      ],
      "metadata": {
        "colab": {
          "base_uri": "https://localhost:8080/"
        },
        "id": "MGPUWWZyRjxL",
        "outputId": "35366a5f-9475-4c84-88d3-6de416d81772"
      },
      "execution_count": null,
      "outputs": [
        {
          "output_type": "stream",
          "name": "stdout",
          "text": [
            "John D. Hunter (August 1, 1968 – August 28, 2012) was an American neurobiologist and the original author of Matplotlib.\n"
          ]
        }
      ]
    },
    {
      "cell_type": "code",
      "source": [
        "from datasets import Dataset\n",
        "my_dict = {\"text\": text.split('\\n')}\n",
        "dataset = Dataset.from_dict(my_dict)\n",
        "dataset = dataset.map(preprocess, batched=True)\n",
        "dataset = dataset.map(lambda x: {'text': \" \".join(x['text'])}, batched=False)"
      ],
      "metadata": {
        "colab": {
          "base_uri": "https://localhost:8080/",
          "height": 81,
          "referenced_widgets": [
            "5b2e47a9e7314df8af34fbbb0b576082",
            "8839f7d6fc9b4040934e9aabeee5f862",
            "800a0de7305a4a268d51bb6e47a5875c",
            "ca946bf0c6b641ae98a98bb4be6d19ec",
            "842319fd893a4e06b70a2e21cf14b6cc",
            "8ea4f784eecd450c924cb38d14a0263b",
            "377215fcff384dabb8f7faf33fe43dc1",
            "2bc467ed8b544cd1b23e29507cd1dd79",
            "63b6fd4c95574fcaa838dcdc5208a138",
            "1d474a2202a5457688f4713b79942c25",
            "7c7b7e67e2a344f0be2704fa951a7339",
            "d7a84897887a4a2295839e2147278758",
            "a0f8bb5796fb406f91019e980f587bfe",
            "0aaf682155914c6d8eb02de1baf02186",
            "cad0baa46d5245759e8a4877a5c46178",
            "b349a95fbc0844e0af9171d7264e94e9",
            "519f6ecbbeaa4bcbae5fb021707a6986",
            "a8bd7b18cfc44cbcae75bf5ed5ad2fe1",
            "7fa4b625027c4408b81c969be08341f8",
            "e1ebb41801e042cc98fe11da9e92a984",
            "9d747daaf36548838e97a4ca2a57bd1c",
            "34def303bb214c7e80e862e0d213f8fe"
          ]
        },
        "id": "RkPNKC2yRrMd",
        "outputId": "a441742b-5f96-4ca6-a5be-6086e7bc7312"
      },
      "execution_count": null,
      "outputs": [
        {
          "output_type": "display_data",
          "data": {
            "text/plain": [
              "Map:   0%|          | 0/24 [00:00<?, ? examples/s]"
            ],
            "application/vnd.jupyter.widget-view+json": {
              "version_major": 2,
              "version_minor": 0,
              "model_id": "5b2e47a9e7314df8af34fbbb0b576082"
            }
          },
          "metadata": {}
        },
        {
          "output_type": "display_data",
          "data": {
            "text/plain": [
              "Map:   0%|          | 0/24 [00:00<?, ? examples/s]"
            ],
            "application/vnd.jupyter.widget-view+json": {
              "version_major": 2,
              "version_minor": 0,
              "model_id": "d7a84897887a4a2295839e2147278758"
            }
          },
          "metadata": {}
        }
      ]
    },
    {
      "cell_type": "code",
      "source": [
        "corpus = dataset['text']\n",
        "\n",
        "query = \"Who is the author of Matplotlib?\"\n",
        "\n",
        "results = semantic_search(query, corpus)\n",
        "\n",
        "print(\"Semantic Search Results:\")\n",
        "for idx, (sentence, similarity) in enumerate(results):\n",
        "    print(f\"{idx + 1}. Sentence: '{sentence}', Similarity Score: {similarity:.4f}\")"
      ],
      "metadata": {
        "colab": {
          "base_uri": "https://localhost:8080/"
        },
        "id": "VBZTr42pRu_5",
        "outputId": "d894d6bc-5db1-4809-acb1-69b50e96de04"
      },
      "execution_count": null,
      "outputs": [
        {
          "output_type": "stream",
          "name": "stdout",
          "text": [
            "Semantic Search Results:\n",
            "1. Sentence: 'john hunter august august american neurobiologist original author matplotlib', Similarity Score: 0.7507\n",
            "2. Sentence: 'onwards scipy conference hosted annual john hunter excellence plotting contest honor prize continue advancement scientific plotting', Similarity Score: 0.6219\n",
            "3. Sentence: 'hunter diagnosed malignant colon cancer died cancer treatment complications august memorial service held university chicago rockefeller chapel also location graduation october survived wife miriam three daughters clara ava rahel', Similarity Score: 0.5777\n",
            "4. Sentence: 'hunter brought dyersburg tennessee attended mccallie school graduated princeton university obtained neurobiology university chicago joined tradelink securities quantitative analyst later one founding directors numfocus foundation', Similarity Score: 0.5690\n",
            "5. Sentence: 'two weeks hunter death python software foundation announced voted unanimously create distinguished service award intended foundation highest honor issued first award hunter', Similarity Score: 0.5681\n"
          ]
        }
      ]
    },
    {
      "cell_type": "code",
      "source": [
        "wikipedia.search(\"Elon Musk\")"
      ],
      "metadata": {
        "colab": {
          "base_uri": "https://localhost:8080/"
        },
        "id": "IWY7SaN8eIoU",
        "outputId": "39227ea6-a3ba-4aa7-a90d-1d96f7cf02a8"
      },
      "execution_count": null,
      "outputs": [
        {
          "output_type": "execute_result",
          "data": {
            "text/plain": [
              "['Elon Musk',\n",
              " 'Acquisition of Twitter by Elon Musk',\n",
              " 'Views of Elon Musk',\n",
              " 'Twitter under Elon Musk',\n",
              " 'Musk family',\n",
              " 'Wealth of Elon Musk',\n",
              " 'Elon Musk vs. Mark Zuckerberg',\n",
              " 'Maye Musk',\n",
              " \"Elon Musk's Tesla Roadster\",\n",
              " 'Elon Musk (Isaacson book)']"
            ]
          },
          "metadata": {},
          "execution_count": 55
        }
      ]
    },
    {
      "cell_type": "code",
      "source": [
        "wiki = wikipedia.page('Elon Musk', auto_suggest=False)\n",
        "text = wiki.content\n",
        "text = text.replace('==', '')[:-12]\n",
        "print(text.split('\\n')[0])\n",
        "\n",
        "my_dict = {\"text\": text.split('\\n')}\n",
        "dataset = Dataset.from_dict(my_dict)\n",
        "dataset = dataset.map(preprocess, batched=True)\n",
        "dataset = dataset.map(lambda x: {'text': \" \".join(x['text'])}, batched=False)"
      ],
      "metadata": {
        "id": "GrsNQayadma9",
        "colab": {
          "base_uri": "https://localhost:8080/",
          "height": 118,
          "referenced_widgets": [
            "d96ed4b923b34e53826e73a9ba07f348",
            "15bb241934a44b4db079c523ecc89216",
            "42508ee7fa6a4eebaee827434b500cb8",
            "3c6b23d1b4de422da151aeb41ceb6262",
            "7e3ac48e5bca46aa9c5a926a66d571b6",
            "67e8742a49494ae489e70b307180ee4d",
            "4f875c0a9d6440e3b0c85aa333ab1a95",
            "99a75789d79f449fa697418c265d281d",
            "e287f0f6d4b84f4bac3222d911274ce0",
            "6497a5b9c8314ed1957cf86c65a22044",
            "231bf60c6d534d7abde8ad89f4252071",
            "4fd90c0c4f964de6aa43e1ac0c1f9f7f",
            "7a2922d0287044e28a3f5a4d4ca35572",
            "2aeb58a3f7d345218851e1999450fc98",
            "7d815c195cab4845add91e1e21d352f0",
            "8eb6053fcd5c4966ab688b339e3e6da6",
            "c6cfc9b2c4594beebe8c3be3aedeee75",
            "485ff3c3687d44b2a5e15bcc9bc0a520",
            "0ebb12b92c7c418a8d731ccfbae26a13",
            "f2755846dbbe4bc68e24707dea5d4270",
            "19675ff404e841c49fdd879155188fa4",
            "3bd657ccfe0f4870881b234b27e35db7"
          ]
        },
        "outputId": "18a4c323-4454-4184-a6ce-f2bc9eae6bb5"
      },
      "execution_count": null,
      "outputs": [
        {
          "output_type": "stream",
          "name": "stdout",
          "text": [
            "Elon Reeve Musk ( EE-lon; born June 28, 1971) is a businessman and investor. He is the founder, chairman, CEO, and CTO of SpaceX; angel investor, CEO, product architect, and former chairman of Tesla, Inc.; owner, executive chairman, and CTO of X Corp.; founder of the Boring Company and xAI; co-founder of Neuralink and OpenAI; and president of the Musk Foundation. He is one of the wealthiest people in the world, with an estimated net worth of US$190 billion as of March 2024, according to the Bloomberg Billionaires Index, and $195 billion according to Forbes, primarily from his ownership stakes in Tesla and SpaceX.A member of the wealthy South African Musk family, Elon was born in Pretoria and briefly attended the University of Pretoria before immigrating to Canada at age 18, acquiring citizenship through his Canadian-born mother. Two years later, he matriculated at Queen's University at Kingston in Canada. Musk later transferred to the University of Pennsylvania, and received bachelor's degrees in economics and physics. He moved to California in 1995 to attend Stanford University, but dropped out after two days and, with his brother Kimbal, co-founded online city guide software company Zip2. The startup was acquired by Compaq for $307 million in 1999, and that same year Musk co-founded X.com, a direct bank. X.com merged with Confinity in 2000 to form PayPal.\n"
          ]
        },
        {
          "output_type": "display_data",
          "data": {
            "text/plain": [
              "Map:   0%|          | 0/185 [00:00<?, ? examples/s]"
            ],
            "application/vnd.jupyter.widget-view+json": {
              "version_major": 2,
              "version_minor": 0,
              "model_id": "d96ed4b923b34e53826e73a9ba07f348"
            }
          },
          "metadata": {}
        },
        {
          "output_type": "display_data",
          "data": {
            "text/plain": [
              "Map:   0%|          | 0/185 [00:00<?, ? examples/s]"
            ],
            "application/vnd.jupyter.widget-view+json": {
              "version_major": 2,
              "version_minor": 0,
              "model_id": "4fd90c0c4f964de6aa43e1ac0c1f9f7f"
            }
          },
          "metadata": {}
        }
      ]
    },
    {
      "cell_type": "code",
      "source": [
        "corpus = dataset['text']\n",
        "\n",
        "query = \"Twitter\"\n",
        "\n",
        "results = semantic_search(query, corpus)\n",
        "\n",
        "print(\"Semantic Search Results:\")\n",
        "for idx, (sentence, similarity) in enumerate(results):\n",
        "    print(f\"{idx + 1}. Sentence: '{sentence}', Similarity Score: {similarity:.4f}\")"
      ],
      "metadata": {
        "colab": {
          "base_uri": "https://localhost:8080/"
        },
        "id": "RfNBAnfadsNo",
        "outputId": "e4533b58-0e46-49d5-a0cb-eb6ab327a4b9"
      },
      "execution_count": null,
      "outputs": [
        {
          "output_type": "stream",
          "name": "stdout",
          "text": [
            "Semantic Search Results:\n",
            "1. Sentence: 'personal views twitter usage', Similarity Score: 0.8446\n",
            "2. Sentence: 'musk expressed interest buying twitter early questioned platform commitment freedom speech additionally talulah riley urged buy twitter stop january musk started purchasing twitter shares reaching stake april making largest shareholder publicly disclosed twitter shares experienced largest intraday price surge since company ipo april musk agreed deal would appoint twitter board directors prohibit acquiring company however april musk made billion offer buy twitter launching takeover bid buy twitter stock per share response twitter board adopted poison pill shareholder rights plan make expensive single investor company without board approval nevertheless end month musk successfully concluded bid approximately billion included billion loans tesla stock billion equity stock market value sank billion next day reaction deal subsequently tweeted criticism twitter executive vijaya gadde policies million followers led engaging sexist racist harassment exactly month announcing takeover musk stated deal hold following report twitter daily active users spam accounts although initially affirmed commitment acquisition sent notification termination deal july twitter board directors responded committed holding transaction july twitter formally sued musk chancery court delaware breaching legally binding agreement purchase twitter october musk reversed offering purchase twitter per share acquisition officially completed october acquisition musk fired several top twitter executives including ceo parag agrawal musk became ceo instead instituted monthly subscription blue check laid significant portion company staff musk lessened content moderation including reinstating accounts like bee december musk released internal documents relating twitter moderation hunter biden laptop controversy leadup presidential internal documents journalists matt taibbi bari weiss michael shellenberger others posted twitter twitter files united states house committee judiciary held hearings twitter files march taibbi shellenberger gave southern poverty law center noted twitter verified numerous extremists hate speech also increased platform late musk promised step ceo twitter poll posted musk found majority user wanted five months later musk stepped ceo placed former nbcuniversal executive linda yaccarino position transitioned role executive chairman chief technology november district court texas x filed lawsuit stating media matters manipulated x platform x stated media matters used accounts followed accounts major brands resorted endlessly scrolling refreshing feed found ads next extremist posts', Similarity Score: 0.8000\n",
            "3. Sentence: 'twitter x', Similarity Score: 0.7959\n",
            "4. Sentence: 'march musk online financial services payment company million money made compaq acquisition one first federally insured online banks customers joined initial months friends expressed scepticism naming online bank fearing might mistaken pornographic site musk brushed concerns emphasizing name meant straightforward memorable easy type additionally fond email configuration derived e though musk founded company investors regarded inexperienced replaced intuit ceo bill harris end merged online bank confinity avoid competition latter service paypal popular service musk returned ceo merged company preference microsoft software caused rift among company employees eventually led confinity peter thiel resign company suffering compounding technological issues lack cohesive business model board ousted musk replaced thiel september thiel company focused service renamed paypal paypal acquired ebay billion stock largest shareholder million years later musk purchased domain paypal sentimental value musk discussed goal creating x everything app', Similarity Score: 0.7637\n",
            "5. Sentence: 'often described libertarian musk called politically moderate registered independent voter lived california new york times wrote musk expresses views fit neatly american binary political framework historically musk donated democrats republicans many states vested interest beginning late 2010s musk political contributions shifted almost entirely supporting voted hillary clinton presidential election democratic party presidential primaries musk endorsed candidate andrew yang expressed support proposed universal basic income also endorsed kanye west presidential campaign said voted joe biden presidential election musk said could longer support democrats party division hate wrote tweet encouraging voters vote republican elections outlier among social media executives typically avoid partisan political advocacy supported republican ron desantis presidential election twitter hosted desantis campaign announcement twitter spaces event august musk hosted vivek ramaswamy twitter spaces shared support may musk declining endorse specific candidate', Similarity Score: 0.7597\n"
          ]
        }
      ]
    }
  ]
}